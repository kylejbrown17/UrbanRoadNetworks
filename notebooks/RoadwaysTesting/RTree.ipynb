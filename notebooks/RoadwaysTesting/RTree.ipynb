{
 "cells": [
  {
   "cell_type": "code",
   "execution_count": 1,
   "metadata": {
    "collapsed": true
   },
   "outputs": [],
   "source": [
    "import NearestNeighbors\n",
    "using StaticArrays\n",
    "using PGFPlots"
   ]
  },
  {
   "cell_type": "code",
   "execution_count": 2,
   "metadata": {
    "collapsed": true
   },
   "outputs": [],
   "source": [
    "import NearestNeighbors: TreeData"
   ]
  },
  {
   "cell_type": "markdown",
   "metadata": {},
   "source": [
    "# Define RTree type"
   ]
  },
  {
   "cell_type": "code",
   "execution_count": 3,
   "metadata": {},
   "outputs": [
    {
     "data": {
      "text/plain": [
       "InternalNode"
      ]
     },
     "execution_count": 3,
     "metadata": {},
     "output_type": "execute_result"
    }
   ],
   "source": [
    "struct HyperRectangle{N}\n",
    "    mins::SArray{Tuple{N,1},Float64}\n",
    "    maxes::SArray{Tuple{N,1},Float64}\n",
    "end\n",
    "function HyperRectangle(A::AbstractVector,B::AbstractVector)\n",
    "    HyperRectangle(\n",
    "        SArray{Tuple{size(A)[1],1},Float64}(A),\n",
    "        SArray{Tuple{size(B)[1],1},Float64}(B))\n",
    "end\n",
    "function HyperRectangle(A::AbstractArray)\n",
    "    HyperRectangle(\n",
    "        SArray{Tuple{size(A)[1],1},Float64}(minimum(A,2)),\n",
    "        SArray{Tuple{size(A)[1],1},Float64}(maximum(A,2)))\n",
    "end\n",
    "function Union(H1::HyperRectangle{N}, H2::HyperRectangle{N}) where N\n",
    "    HyperRectangle(min.(H1.mins, H2.mins), max.(H1.maxes, H2.maxes))\n",
    "end\n",
    "function Intersection(H1::HyperRectangle{N}, H2::HyperRectangle{N}) where N\n",
    "    HyperRectangle(max.(H1.mins, H2.mins), min.(H1.maxes, H2.maxes))\n",
    "end\n",
    "function ComputeVolume(H::HyperRectangle{N}) where N\n",
    "    prod(H.maxes .- H.mins)\n",
    "end\n",
    "function CheckIntersection(H1::HyperRectangle{N},H2::HyperRectangle{N}) where N\n",
    "    return (ComputeVolume(Intersection(H1,H2)) > 0)\n",
    "end\n",
    "function CheckIntersection(H::HyperRectangle{N}, Q::Array{Float64,2}) where N\n",
    "    HQ = HyperRectangle(Q)\n",
    "    CheckIntersection(H,HQ)\n",
    "end\n",
    "struct LeafNode{N}\n",
    "    id::Int\n",
    "    object_ids::Array{Int,1}\n",
    "    rect::HyperRectangle{N}\n",
    "end\n",
    "struct InternalNode{N}\n",
    "    id::Int\n",
    "    children::Array{Int,1}\n",
    "    parent::Int\n",
    "    rect::HyperRectangle{N}\n",
    "end\n",
    "function InternalNode(node::InternalNode{N},H::HyperRectangle{N}) where N\n",
    "    InternalNode(node.id,node.children,node.parent,H)\n",
    "end"
   ]
  },
  {
   "cell_type": "code",
   "execution_count": 4,
   "metadata": {},
   "outputs": [
    {
     "data": {
      "text/plain": [
       "compute_bounding_box (generic function with 1 method)"
      ]
     },
     "execution_count": 4,
     "metadata": {},
     "output_type": "execute_result"
    }
   ],
   "source": [
    "function drawBox(rec::HyperRectangle)\n",
    "    if length(rec.mins) == 2\n",
    "        return [\n",
    "            Plots.Linear([rec.mins[1], rec.mins[1], rec.maxes[1], rec.maxes[1], rec.mins[1]],\n",
    "                [rec.mins[2],rec.maxes[2],rec.maxes[2],rec.mins[2], rec.mins[2]], mark=\"none\")\n",
    "        ]\n",
    "    end\n",
    "end\n",
    "function compute_bounding_box(data)\n",
    "    mins = minimum(data,2)[:]\n",
    "    maxes = maximum(data,2)[:]\n",
    "    HyperRectangle(mins,maxes)\n",
    "end"
   ]
  },
  {
   "cell_type": "code",
   "execution_count": 5,
   "metadata": {
    "collapsed": true
   },
   "outputs": [],
   "source": [
    "type RTree{N}\n",
    "    objects::Array{HyperRectangle{N},1}\n",
    "    root_node::InternalNode{N}\n",
    "    nodes::Dict{Int64, InternalNode{N}}\n",
    "    num_nodes::Int64\n",
    "end"
   ]
  },
  {
   "cell_type": "code",
   "execution_count": 6,
   "metadata": {},
   "outputs": [
    {
     "data": {
      "text/plain": [
       "HyperRectangle{2}([0.067099; 0.00439878], [0.994684; 0.898351])"
      ]
     },
     "execution_count": 6,
     "metadata": {},
     "output_type": "execute_result"
    }
   ],
   "source": [
    "X1 = rand(2,4)\n",
    "X2 = rand(2,4)\n",
    "H1 = HyperRectangle(X1)\n",
    "H2 = HyperRectangle(X2)\n",
    "H3 = Intersection(H1,H2)\n",
    "H4 = Union(H1,H2)"
   ]
  },
  {
   "cell_type": "code",
   "execution_count": 7,
   "metadata": {},
   "outputs": [
    {
     "data": {
      "image/svg+xml": [
       "<?xml version=\"1.0\" encoding=\"UTF-8\"?>\n",
       "<svg xmlns=\"http://www.w3.org/2000/svg\" xmlns:xlink=\"http://www.w3.org/1999/xlink\" width=\"214.043pt\" height=\"174.858pt\" viewBox=\"0 0 214.043 174.858\" version=\"1.1\">\n",
       "<defs>\n",
       "<g>\n",
       "<symbol overflow=\"visible\" id=\"glyph-1521242051393359-0-0\">\n",
       "<path style=\"stroke:none;\" d=\"\"/>\n",
       "</symbol>\n",
       "<symbol overflow=\"visible\" id=\"glyph-1521242051393359-0-1\">\n",
       "<path style=\"stroke:none;\" d=\"M 4.578125 -3.1875 C 4.578125 -3.984375 4.53125 -4.78125 4.1875 -5.515625 C 3.734375 -6.484375 2.90625 -6.640625 2.5 -6.640625 C 1.890625 -6.640625 1.171875 -6.375 0.75 -5.453125 C 0.4375 -4.765625 0.390625 -3.984375 0.390625 -3.1875 C 0.390625 -2.4375 0.421875 -1.546875 0.84375 -0.78125 C 1.265625 0.015625 2 0.21875 2.484375 0.21875 C 3.015625 0.21875 3.78125 0.015625 4.21875 -0.9375 C 4.53125 -1.625 4.578125 -2.40625 4.578125 -3.1875 Z M 2.484375 0 C 2.09375 0 1.5 -0.25 1.328125 -1.203125 C 1.21875 -1.796875 1.21875 -2.71875 1.21875 -3.3125 C 1.21875 -3.953125 1.21875 -4.609375 1.296875 -5.140625 C 1.484375 -6.328125 2.234375 -6.421875 2.484375 -6.421875 C 2.8125 -6.421875 3.46875 -6.234375 3.65625 -5.25 C 3.765625 -4.6875 3.765625 -3.9375 3.765625 -3.3125 C 3.765625 -2.5625 3.765625 -1.890625 3.65625 -1.25 C 3.5 -0.296875 2.9375 0 2.484375 0 Z M 2.484375 0 \"/>\n",
       "</symbol>\n",
       "<symbol overflow=\"visible\" id=\"glyph-1521242051393359-0-2\">\n",
       "<path style=\"stroke:none;\" d=\"M 1.265625 -0.765625 L 2.328125 -1.796875 C 3.875 -3.171875 4.46875 -3.703125 4.46875 -4.703125 C 4.46875 -5.84375 3.578125 -6.640625 2.359375 -6.640625 C 1.234375 -6.640625 0.5 -5.71875 0.5 -4.828125 C 0.5 -4.28125 1 -4.28125 1.03125 -4.28125 C 1.203125 -4.28125 1.546875 -4.390625 1.546875 -4.8125 C 1.546875 -5.0625 1.359375 -5.328125 1.015625 -5.328125 C 0.9375 -5.328125 0.921875 -5.328125 0.890625 -5.3125 C 1.109375 -5.96875 1.65625 -6.328125 2.234375 -6.328125 C 3.140625 -6.328125 3.5625 -5.515625 3.5625 -4.703125 C 3.5625 -3.90625 3.078125 -3.125 2.515625 -2.5 L 0.609375 -0.375 C 0.5 -0.265625 0.5 -0.234375 0.5 0 L 4.203125 0 L 4.46875 -1.734375 L 4.234375 -1.734375 C 4.171875 -1.4375 4.109375 -1 4 -0.84375 C 3.9375 -0.765625 3.28125 -0.765625 3.0625 -0.765625 Z M 1.265625 -0.765625 \"/>\n",
       "</symbol>\n",
       "<symbol overflow=\"visible\" id=\"glyph-1521242051393359-0-3\">\n",
       "<path style=\"stroke:none;\" d=\"M 2.9375 -1.640625 L 2.9375 -0.78125 C 2.9375 -0.421875 2.90625 -0.3125 2.171875 -0.3125 L 1.96875 -0.3125 L 1.96875 0 C 2.375 -0.03125 2.890625 -0.03125 3.3125 -0.03125 C 3.734375 -0.03125 4.25 -0.03125 4.671875 0 L 4.671875 -0.3125 L 4.453125 -0.3125 C 3.71875 -0.3125 3.703125 -0.421875 3.703125 -0.78125 L 3.703125 -1.640625 L 4.6875 -1.640625 L 4.6875 -1.953125 L 3.703125 -1.953125 L 3.703125 -6.484375 C 3.703125 -6.6875 3.703125 -6.75 3.53125 -6.75 C 3.453125 -6.75 3.421875 -6.75 3.34375 -6.625 L 0.28125 -1.953125 L 0.28125 -1.640625 Z M 2.984375 -1.953125 L 0.5625 -1.953125 L 2.984375 -5.671875 Z M 2.984375 -1.953125 \"/>\n",
       "</symbol>\n",
       "<symbol overflow=\"visible\" id=\"glyph-1521242051393359-0-4\">\n",
       "<path style=\"stroke:none;\" d=\"M 1.3125 -3.265625 L 1.3125 -3.515625 C 1.3125 -6.03125 2.546875 -6.390625 3.0625 -6.390625 C 3.296875 -6.390625 3.71875 -6.328125 3.9375 -5.984375 C 3.78125 -5.984375 3.390625 -5.984375 3.390625 -5.546875 C 3.390625 -5.234375 3.625 -5.078125 3.84375 -5.078125 C 4 -5.078125 4.3125 -5.171875 4.3125 -5.5625 C 4.3125 -6.15625 3.875 -6.640625 3.046875 -6.640625 C 1.765625 -6.640625 0.421875 -5.359375 0.421875 -3.15625 C 0.421875 -0.484375 1.578125 0.21875 2.5 0.21875 C 3.609375 0.21875 4.5625 -0.71875 4.5625 -2.03125 C 4.5625 -3.296875 3.671875 -4.25 2.5625 -4.25 C 1.890625 -4.25 1.515625 -3.75 1.3125 -3.265625 Z M 2.5 -0.0625 C 1.875 -0.0625 1.578125 -0.65625 1.515625 -0.8125 C 1.328125 -1.28125 1.328125 -2.078125 1.328125 -2.25 C 1.328125 -3.03125 1.65625 -4.03125 2.546875 -4.03125 C 2.71875 -4.03125 3.171875 -4.03125 3.484375 -3.40625 C 3.65625 -3.046875 3.65625 -2.53125 3.65625 -2.046875 C 3.65625 -1.5625 3.65625 -1.0625 3.484375 -0.703125 C 3.1875 -0.109375 2.734375 -0.0625 2.5 -0.0625 Z M 2.5 -0.0625 \"/>\n",
       "</symbol>\n",
       "<symbol overflow=\"visible\" id=\"glyph-1521242051393359-0-5\">\n",
       "<path style=\"stroke:none;\" d=\"M 1.625 -4.5625 C 1.171875 -4.859375 1.125 -5.1875 1.125 -5.359375 C 1.125 -5.96875 1.78125 -6.390625 2.484375 -6.390625 C 3.203125 -6.390625 3.84375 -5.875 3.84375 -5.15625 C 3.84375 -4.578125 3.453125 -4.109375 2.859375 -3.765625 Z M 3.078125 -3.609375 C 3.796875 -3.984375 4.28125 -4.5 4.28125 -5.15625 C 4.28125 -6.078125 3.40625 -6.640625 2.5 -6.640625 C 1.5 -6.640625 0.6875 -5.90625 0.6875 -4.96875 C 0.6875 -4.796875 0.703125 -4.34375 1.125 -3.875 C 1.234375 -3.765625 1.609375 -3.515625 1.859375 -3.34375 C 1.28125 -3.046875 0.421875 -2.5 0.421875 -1.5 C 0.421875 -0.453125 1.4375 0.21875 2.484375 0.21875 C 3.609375 0.21875 4.5625 -0.609375 4.5625 -1.671875 C 4.5625 -2.03125 4.453125 -2.484375 4.0625 -2.90625 C 3.875 -3.109375 3.71875 -3.203125 3.078125 -3.609375 Z M 2.078125 -3.1875 L 3.3125 -2.40625 C 3.59375 -2.21875 4.0625 -1.921875 4.0625 -1.3125 C 4.0625 -0.578125 3.3125 -0.0625 2.5 -0.0625 C 1.640625 -0.0625 0.921875 -0.671875 0.921875 -1.5 C 0.921875 -2.078125 1.234375 -2.71875 2.078125 -3.1875 Z M 2.078125 -3.1875 \"/>\n",
       "</symbol>\n",
       "<symbol overflow=\"visible\" id=\"glyph-1521242051393359-0-6\">\n",
       "<path style=\"stroke:none;\" d=\"M 2.9375 -6.375 C 2.9375 -6.625 2.9375 -6.640625 2.703125 -6.640625 C 2.078125 -6 1.203125 -6 0.890625 -6 L 0.890625 -5.6875 C 1.09375 -5.6875 1.671875 -5.6875 2.1875 -5.953125 L 2.1875 -0.78125 C 2.1875 -0.421875 2.15625 -0.3125 1.265625 -0.3125 L 0.953125 -0.3125 L 0.953125 0 C 1.296875 -0.03125 2.15625 -0.03125 2.5625 -0.03125 C 2.953125 -0.03125 3.828125 -0.03125 4.171875 0 L 4.171875 -0.3125 L 3.859375 -0.3125 C 2.953125 -0.3125 2.9375 -0.421875 2.9375 -0.78125 Z M 2.9375 -6.375 \"/>\n",
       "</symbol>\n",
       "<symbol overflow=\"visible\" id=\"glyph-1521242051393359-1-0\">\n",
       "<path style=\"stroke:none;\" d=\"\"/>\n",
       "</symbol>\n",
       "<symbol overflow=\"visible\" id=\"glyph-1521242051393359-1-1\">\n",
       "<path style=\"stroke:none;\" d=\"M 1.90625 -0.53125 C 1.90625 -0.8125 1.671875 -1.0625 1.390625 -1.0625 C 1.09375 -1.0625 0.859375 -0.8125 0.859375 -0.53125 C 0.859375 -0.234375 1.09375 0 1.390625 0 C 1.671875 0 1.90625 -0.234375 1.90625 -0.53125 Z M 1.90625 -0.53125 \"/>\n",
       "</symbol>\n",
       "</g>\n",
       "<clipPath id=\"clip-1521242051393359-1\">\n",
       "  <path d=\"M 19 0 L 214.042969 0 L 214.042969 162 L 19 162 Z M 19 0 \"/>\n",
       "</clipPath>\n",
       "</defs>\n",
       "<g id=\"surface1\">\n",
       "<path style=\"fill:none;stroke-width:0.19925;stroke-linecap:butt;stroke-linejoin:miter;stroke:rgb(50%,50%,50%);stroke-opacity:1;stroke-miterlimit:10;\" d=\"M -11.710219 -13.450656 L -11.710219 -9.200656 M 23.196031 -13.450656 L 23.196031 -9.200656 M 58.102281 -13.450656 L 58.102281 -9.200656 M 93.008531 -13.450656 L 93.008531 -9.200656 M 127.914781 -13.450656 L 127.914781 -9.200656 M 162.821031 -13.450656 L 162.821031 -9.200656 M -11.710219 147.947781 L -11.710219 143.697781 M 23.196031 147.947781 L 23.196031 143.697781 M 58.102281 147.947781 L 58.102281 143.697781 M 93.008531 147.947781 L 93.008531 143.697781 M 127.914781 147.947781 L 127.914781 143.697781 M 162.821031 147.947781 L 162.821031 143.697781 \" transform=\"matrix(1,0,0,-1,35.761,148.147)\"/>\n",
       "<path style=\"fill:none;stroke-width:0.19925;stroke-linecap:butt;stroke-linejoin:miter;stroke:rgb(50%,50%,50%);stroke-opacity:1;stroke-miterlimit:10;\" d=\"M -16.190688 -0.661594 L -11.936781 -0.661594 M -16.190688 29.42825 L -11.936781 29.42825 M -16.190688 59.518094 L -11.936781 59.518094 M -16.190688 89.611844 L -11.936781 89.611844 M -16.190688 119.701688 L -11.936781 119.701688 M 178.086656 -0.661594 L 173.83275 -0.661594 M 178.086656 29.42825 L 173.83275 29.42825 M 178.086656 59.518094 L 173.83275 59.518094 M 178.086656 89.611844 L 173.83275 89.611844 M 178.086656 119.701688 L 173.83275 119.701688 \" transform=\"matrix(1,0,0,-1,35.761,148.147)\"/>\n",
       "<g clip-path=\"url(#clip-1521242051393359-1)\" clip-rule=\"nonzero\">\n",
       "<path style=\"fill:none;stroke-width:0.3985;stroke-linecap:butt;stroke-linejoin:miter;stroke:rgb(0%,0%,0%);stroke-opacity:1;stroke-miterlimit:10;\" d=\"M -16.190688 -13.450656 L -16.190688 147.947781 L 178.086656 147.947781 L 178.086656 -13.450656 Z M -16.190688 -13.450656 \" transform=\"matrix(1,0,0,-1,35.761,148.147)\"/>\n",
       "</g>\n",
       "<g style=\"fill:rgb(0%,0%,0%);fill-opacity:1;\">\n",
       "  <use xlink:href=\"#glyph-1521242051393359-0-1\" x=\"21.559\" y=\"171.537\"/>\n",
       "</g>\n",
       "<g style=\"fill:rgb(0%,0%,0%);fill-opacity:1;\">\n",
       "  <use xlink:href=\"#glyph-1521242051393359-0-1\" x=\"52.591\" y=\"171.537\"/>\n",
       "</g>\n",
       "<g style=\"fill:rgb(0%,0%,0%);fill-opacity:1;\">\n",
       "  <use xlink:href=\"#glyph-1521242051393359-1-1\" x=\"57.572\" y=\"171.537\"/>\n",
       "</g>\n",
       "<g style=\"fill:rgb(0%,0%,0%);fill-opacity:1;\">\n",
       "  <use xlink:href=\"#glyph-1521242051393359-0-2\" x=\"60.34\" y=\"171.537\"/>\n",
       "</g>\n",
       "<g style=\"fill:rgb(0%,0%,0%);fill-opacity:1;\">\n",
       "  <use xlink:href=\"#glyph-1521242051393359-0-1\" x=\"87.497\" y=\"171.537\"/>\n",
       "</g>\n",
       "<g style=\"fill:rgb(0%,0%,0%);fill-opacity:1;\">\n",
       "  <use xlink:href=\"#glyph-1521242051393359-1-1\" x=\"92.479\" y=\"171.537\"/>\n",
       "</g>\n",
       "<g style=\"fill:rgb(0%,0%,0%);fill-opacity:1;\">\n",
       "  <use xlink:href=\"#glyph-1521242051393359-0-3\" x=\"95.246\" y=\"171.537\"/>\n",
       "</g>\n",
       "<g style=\"fill:rgb(0%,0%,0%);fill-opacity:1;\">\n",
       "  <use xlink:href=\"#glyph-1521242051393359-0-1\" x=\"122.404\" y=\"171.537\"/>\n",
       "</g>\n",
       "<g style=\"fill:rgb(0%,0%,0%);fill-opacity:1;\">\n",
       "  <use xlink:href=\"#glyph-1521242051393359-1-1\" x=\"127.385\" y=\"171.537\"/>\n",
       "</g>\n",
       "<g style=\"fill:rgb(0%,0%,0%);fill-opacity:1;\">\n",
       "  <use xlink:href=\"#glyph-1521242051393359-0-4\" x=\"130.152\" y=\"171.537\"/>\n",
       "</g>\n",
       "<g style=\"fill:rgb(0%,0%,0%);fill-opacity:1;\">\n",
       "  <use xlink:href=\"#glyph-1521242051393359-0-1\" x=\"157.31\" y=\"171.537\"/>\n",
       "</g>\n",
       "<g style=\"fill:rgb(0%,0%,0%);fill-opacity:1;\">\n",
       "  <use xlink:href=\"#glyph-1521242051393359-1-1\" x=\"162.291\" y=\"171.537\"/>\n",
       "</g>\n",
       "<g style=\"fill:rgb(0%,0%,0%);fill-opacity:1;\">\n",
       "  <use xlink:href=\"#glyph-1521242051393359-0-5\" x=\"165.059\" y=\"171.537\"/>\n",
       "</g>\n",
       "<g style=\"fill:rgb(0%,0%,0%);fill-opacity:1;\">\n",
       "  <use xlink:href=\"#glyph-1521242051393359-0-6\" x=\"196.091\" y=\"171.537\"/>\n",
       "</g>\n",
       "<g style=\"fill:rgb(0%,0%,0%);fill-opacity:1;\">\n",
       "  <use xlink:href=\"#glyph-1521242051393359-0-1\" x=\"11.069\" y=\"152.019\"/>\n",
       "</g>\n",
       "<g style=\"fill:rgb(0%,0%,0%);fill-opacity:1;\">\n",
       "  <use xlink:href=\"#glyph-1521242051393359-0-1\" x=\"3.321\" y=\"121.928\"/>\n",
       "</g>\n",
       "<g style=\"fill:rgb(0%,0%,0%);fill-opacity:1;\">\n",
       "  <use xlink:href=\"#glyph-1521242051393359-1-1\" x=\"8.302\" y=\"121.928\"/>\n",
       "</g>\n",
       "<g style=\"fill:rgb(0%,0%,0%);fill-opacity:1;\">\n",
       "  <use xlink:href=\"#glyph-1521242051393359-0-2\" x=\"11.069\" y=\"121.928\"/>\n",
       "</g>\n",
       "<g style=\"fill:rgb(0%,0%,0%);fill-opacity:1;\">\n",
       "  <use xlink:href=\"#glyph-1521242051393359-0-1\" x=\"3.321\" y=\"91.838\"/>\n",
       "</g>\n",
       "<g style=\"fill:rgb(0%,0%,0%);fill-opacity:1;\">\n",
       "  <use xlink:href=\"#glyph-1521242051393359-1-1\" x=\"8.302\" y=\"91.838\"/>\n",
       "</g>\n",
       "<g style=\"fill:rgb(0%,0%,0%);fill-opacity:1;\">\n",
       "  <use xlink:href=\"#glyph-1521242051393359-0-3\" x=\"11.069\" y=\"91.838\"/>\n",
       "</g>\n",
       "<g style=\"fill:rgb(0%,0%,0%);fill-opacity:1;\">\n",
       "  <use xlink:href=\"#glyph-1521242051393359-0-1\" x=\"3.321\" y=\"61.748\"/>\n",
       "</g>\n",
       "<g style=\"fill:rgb(0%,0%,0%);fill-opacity:1;\">\n",
       "  <use xlink:href=\"#glyph-1521242051393359-1-1\" x=\"8.302\" y=\"61.748\"/>\n",
       "</g>\n",
       "<g style=\"fill:rgb(0%,0%,0%);fill-opacity:1;\">\n",
       "  <use xlink:href=\"#glyph-1521242051393359-0-4\" x=\"11.069\" y=\"61.748\"/>\n",
       "</g>\n",
       "<g style=\"fill:rgb(0%,0%,0%);fill-opacity:1;\">\n",
       "  <use xlink:href=\"#glyph-1521242051393359-0-1\" x=\"3.321\" y=\"31.657\"/>\n",
       "</g>\n",
       "<g style=\"fill:rgb(0%,0%,0%);fill-opacity:1;\">\n",
       "  <use xlink:href=\"#glyph-1521242051393359-1-1\" x=\"8.302\" y=\"31.657\"/>\n",
       "</g>\n",
       "<g style=\"fill:rgb(0%,0%,0%);fill-opacity:1;\">\n",
       "  <use xlink:href=\"#glyph-1521242051393359-0-5\" x=\"11.069\" y=\"31.657\"/>\n",
       "</g>\n",
       "<path style=\"fill:none;stroke-width:0.3985;stroke-linecap:butt;stroke-linejoin:miter;stroke:rgb(44.999695%,29.998779%,14.99939%);stroke-opacity:1;stroke-miterlimit:10;\" d=\"M 59.360094 63.049344 L 59.360094 90.756375 L 153.910875 90.756375 L 153.910875 63.049344 L 59.360094 63.049344 \" transform=\"matrix(1,0,0,-1,35.761,148.147)\"/>\n",
       "<path style=\"fill:none;stroke-width:0.3985;stroke-linecap:butt;stroke-linejoin:miter;stroke:rgb(0%,0%,0%);stroke-opacity:1;stroke-miterlimit:10;\" d=\"M 0.00071875 -0.0014375 L 0.00071875 134.502469 L 161.899156 134.502469 L 161.899156 -0.0014375 L 0.00071875 -0.0014375 \" transform=\"matrix(1,0,0,-1,35.761,148.147)\"/>\n",
       "<path style=\"fill:none;stroke-width:0.3985;stroke-linecap:butt;stroke-linejoin:miter;stroke:rgb(0%,0%,100%);stroke-opacity:1;stroke-miterlimit:10;\" d=\"M 59.360094 63.049344 L 59.360094 90.756375 L 153.910875 90.756375 L 153.910875 63.049344 L 59.360094 63.049344 \" transform=\"matrix(1,0,0,-1,35.761,148.147)\"/>\n",
       "<path style=\"fill:none;stroke-width:0.3985;stroke-linecap:butt;stroke-linejoin:miter;stroke:rgb(100%,0%,0%);stroke-opacity:1;stroke-dasharray:2.98883,1.99255;stroke-miterlimit:10;\" d=\"M 0.00071875 -0.0014375 L 0.00071875 134.502469 L 161.899156 134.502469 L 161.899156 -0.0014375 L 0.00071875 -0.0014375 \" transform=\"matrix(1,0,0,-1,35.761,148.147)\"/>\n",
       "<path style=\"fill-rule:nonzero;fill:rgb(0%,0%,79.998779%);fill-opacity:1;stroke-width:0.3985;stroke-linecap:butt;stroke-linejoin:miter;stroke:rgb(0%,0%,100%);stroke-opacity:1;stroke-miterlimit:10;\" d=\"M 155.906969 84.752469 C 155.906969 85.854031 155.012438 86.744656 153.910875 86.744656 C 152.813219 86.744656 151.918688 85.854031 151.918688 84.752469 C 151.918688 83.654813 152.813219 82.760281 153.910875 82.760281 C 155.012438 82.760281 155.906969 83.654813 155.906969 84.752469 Z M 155.906969 84.752469 \" transform=\"matrix(1,0,0,-1,35.761,148.147)\"/>\n",
       "<path style=\"fill-rule:nonzero;fill:rgb(0%,0%,79.998779%);fill-opacity:1;stroke-width:0.3985;stroke-linecap:butt;stroke-linejoin:miter;stroke:rgb(0%,0%,100%);stroke-opacity:1;stroke-miterlimit:10;\" d=\"M 61.352281 63.049344 C 61.352281 64.147 60.461656 65.041531 59.360094 65.041531 C 58.258531 65.041531 57.367906 64.147 57.367906 63.049344 C 57.367906 61.947781 58.258531 61.057156 59.360094 61.057156 C 60.461656 61.057156 61.352281 61.947781 61.352281 63.049344 Z M 61.352281 63.049344 \" transform=\"matrix(1,0,0,-1,35.761,148.147)\"/>\n",
       "<path style=\"fill-rule:nonzero;fill:rgb(0%,0%,79.998779%);fill-opacity:1;stroke-width:0.3985;stroke-linecap:butt;stroke-linejoin:miter;stroke:rgb(0%,0%,100%);stroke-opacity:1;stroke-miterlimit:10;\" d=\"M 152.512438 65.912625 C 152.512438 67.010281 151.621813 67.904813 150.52025 67.904813 C 149.418688 67.904813 148.528063 67.010281 148.528063 65.912625 C 148.528063 64.811063 149.418688 63.920438 150.52025 63.920438 C 151.621813 63.920438 152.512438 64.811063 152.512438 65.912625 Z M 152.512438 65.912625 \" transform=\"matrix(1,0,0,-1,35.761,148.147)\"/>\n",
       "<path style=\"fill-rule:nonzero;fill:rgb(0%,0%,79.998779%);fill-opacity:1;stroke-width:0.3985;stroke-linecap:butt;stroke-linejoin:miter;stroke:rgb(0%,0%,100%);stroke-opacity:1;stroke-miterlimit:10;\" d=\"M 135.227281 90.756375 C 135.227281 91.857938 134.336656 92.748563 133.235094 92.748563 C 132.137438 92.748563 131.242906 91.857938 131.242906 90.756375 C 131.242906 89.654813 132.137438 88.764188 133.235094 88.764188 C 134.336656 88.764188 135.227281 89.654813 135.227281 90.756375 Z M 135.227281 90.756375 \" transform=\"matrix(1,0,0,-1,35.761,148.147)\"/>\n",
       "<path style=\"fill-rule:nonzero;fill:rgb(79.998779%,0%,0%);fill-opacity:1;stroke-width:0.3985;stroke-linecap:butt;stroke-linejoin:miter;stroke:rgb(100%,0%,0%);stroke-opacity:1;stroke-miterlimit:10;\" d=\"M 142.156969 132.510281 L 146.141344 132.510281 L 146.141344 136.494656 L 142.156969 136.494656 Z M 142.156969 132.510281 \" transform=\"matrix(1,0,0,-1,35.761,148.147)\"/>\n",
       "<path style=\"fill-rule:nonzero;fill:rgb(79.998779%,0%,0%);fill-opacity:1;stroke-width:0.3985;stroke-linecap:butt;stroke-linejoin:miter;stroke:rgb(100%,0%,0%);stroke-opacity:1;stroke-miterlimit:10;\" d=\"M -1.991469 89.814969 L 1.992906 89.814969 L 1.992906 93.799344 L -1.991469 93.799344 Z M -1.991469 89.814969 \" transform=\"matrix(1,0,0,-1,35.761,148.147)\"/>\n",
       "<path style=\"fill-rule:nonzero;fill:rgb(79.998779%,0%,0%);fill-opacity:1;stroke-width:0.3985;stroke-linecap:butt;stroke-linejoin:miter;stroke:rgb(100%,0%,0%);stroke-opacity:1;stroke-miterlimit:10;\" d=\"M 58.074937 130.920438 L 62.063219 130.920438 L 62.063219 134.908719 L 58.074937 134.908719 Z M 58.074937 130.920438 \" transform=\"matrix(1,0,0,-1,35.761,148.147)\"/>\n",
       "<path style=\"fill-rule:nonzero;fill:rgb(79.998779%,0%,0%);fill-opacity:1;stroke-width:0.3985;stroke-linecap:butt;stroke-linejoin:miter;stroke:rgb(100%,0%,0%);stroke-opacity:1;stroke-miterlimit:10;\" d=\"M 159.906969 -1.993625 L 163.891344 -1.993625 L 163.891344 1.99075 L 159.906969 1.99075 Z M 159.906969 -1.993625 \" transform=\"matrix(1,0,0,-1,35.761,148.147)\"/>\n",
       "</g>\n",
       "</svg>\n",
       "\n"
      ],
      "text/plain": [
       "PGFPlots.Axis(PGFPlots.Plots.Plot[PGFPlots.Plots.Linear(Real[0.948929 0.407197 0.929492 0.830464; 0.567706 0.423439 0.442471 0.607601], nothing, nothing, nothing, nothing, true, nothing), PGFPlots.Plots.Linear(Real[0.892987 0.067099 0.411261 0.994684; 0.898351 0.614587 0.8878 0.00439878], nothing, nothing, nothing, nothing, true, nothing), PGFPlots.Plots.Linear(Real[0.407197 0.407197 … 0.948929 0.407197; 0.423439 0.607601 … 0.423439 0.423439], \"none\", nothing, nothing, nothing, nothing, nothing), PGFPlots.Plots.Linear(Real[0.067099 0.067099 … 0.994684 0.067099; 0.00439878 0.898351 … 0.00439878 0.00439878], \"none\", nothing, nothing, nothing, nothing, nothing), PGFPlots.Plots.Linear(Real[0.407197 0.407197 … 0.948929 0.407197; 0.423439 0.607601 … 0.423439 0.423439], \"none\", nothing, nothing, nothing, nothing, nothing), PGFPlots.Plots.Linear(Real[0.067099 0.067099 … 0.994684 0.067099; 0.00439878 0.898351 … 0.00439878 0.00439878], \"none\", nothing, nothing, nothing, nothing, nothing)], nothing, nothing, nothing, nothing, nothing, nothing, nothing, nothing, nothing, nothing, nothing, nothing, nothing, nothing, nothing, nothing, nothing, nothing, nothing, nothing, nothing, nothing, nothing, nothing, nothing, nothing, \"axis\")"
      ]
     },
     "execution_count": 7,
     "metadata": {},
     "output_type": "execute_result"
    }
   ],
   "source": [
    "elements = vcat([\n",
    "        Plots.Linear(X1[1,:],X1[2,:],onlyMarks=true),\n",
    "        Plots.Linear(X2[1,:],X2[2,:],onlyMarks=true),\n",
    "        drawBox(H1),drawBox(H2),drawBox(H3),drawBox(H4)\n",
    "        ]...)\n",
    "Axis(elements)"
   ]
  },
  {
   "cell_type": "markdown",
   "metadata": {},
   "source": [
    "# Construct RTree"
   ]
  },
  {
   "cell_type": "code",
   "execution_count": 8,
   "metadata": {},
   "outputs": [],
   "source": [
    "struct Node{N}\n",
    "    id::Int\n",
    "    rec::HyperRectangle{N}\n",
    "    parent::Int\n",
    "    children::Set{Int}\n",
    "    is_leaf::Bool\n",
    "end"
   ]
  },
  {
   "cell_type": "code",
   "execution_count": 10,
   "metadata": {},
   "outputs": [
    {
     "data": {
      "text/plain": [
       "Node{2}(1, HyperRectangle{2}([0.0; 0.0], [0.0; 0.0]), -1, Set{Int64}(), true)"
      ]
     },
     "execution_count": 10,
     "metadata": {},
     "output_type": "execute_result"
    }
   ],
   "source": [
    "Node(1,HyperRectangle([0.0,0.0],[0.0,0.0]),-1,Set{Int}(),true)"
   ]
  },
  {
   "cell_type": "code",
   "execution_count": 13,
   "metadata": {
    "collapsed": true
   },
   "outputs": [],
   "source": [
    "# initialize root node\n",
    "root_node = Node(0,HyperRectangle([0.0,0.0],[0.0,0.0]),-1,Set{Int}(),false)\n",
    "nodes = Dict()\n",
    "nodes[0] = root_node\n",
    "# Add each leaf node, splitting as we go\n",
    "objects = [rand(2,4) .+ 10*rand(2,1) - 5 for i in 1:100];\n",
    "for (i,object) in enumerate(objects)\n",
    "    nodes[i] = Node(i,compute_bounding_box(object),-1,Set{Int}())\n",
    "end"
   ]
  },
  {
   "cell_type": "code",
   "execution_count": 17,
   "metadata": {},
   "outputs": [
    {
     "data": {
      "image/svg+xml": [
       "<?xml version=\"1.0\" encoding=\"UTF-8\"?>\n",
       "<svg xmlns=\"http://www.w3.org/2000/svg\" xmlns:xlink=\"http://www.w3.org/1999/xlink\" width=\"214.044pt\" height=\"175.679pt\" viewBox=\"0 0 214.044 175.679\" version=\"1.1\">\n",
       "<defs>\n",
       "<g>\n",
       "<symbol overflow=\"visible\" id=\"glyph-1521242051393361-0-0\">\n",
       "<path style=\"stroke:none;\" d=\"\"/>\n",
       "</symbol>\n",
       "<symbol overflow=\"visible\" id=\"glyph-1521242051393361-0-1\">\n",
       "<path style=\"stroke:none;\" d=\"M 6.5625 -2.296875 C 6.734375 -2.296875 6.921875 -2.296875 6.921875 -2.5 C 6.921875 -2.6875 6.734375 -2.6875 6.5625 -2.6875 L 1.171875 -2.6875 C 1 -2.6875 0.828125 -2.6875 0.828125 -2.5 C 0.828125 -2.296875 1 -2.296875 1.171875 -2.296875 Z M 6.5625 -2.296875 \"/>\n",
       "</symbol>\n",
       "<symbol overflow=\"visible\" id=\"glyph-1521242051393361-1-0\">\n",
       "<path style=\"stroke:none;\" d=\"\"/>\n",
       "</symbol>\n",
       "<symbol overflow=\"visible\" id=\"glyph-1521242051393361-1-1\">\n",
       "<path style=\"stroke:none;\" d=\"M 2.9375 -1.640625 L 2.9375 -0.78125 C 2.9375 -0.421875 2.90625 -0.3125 2.171875 -0.3125 L 1.96875 -0.3125 L 1.96875 0 C 2.375 -0.03125 2.890625 -0.03125 3.3125 -0.03125 C 3.734375 -0.03125 4.25 -0.03125 4.671875 0 L 4.671875 -0.3125 L 4.453125 -0.3125 C 3.71875 -0.3125 3.703125 -0.421875 3.703125 -0.78125 L 3.703125 -1.640625 L 4.6875 -1.640625 L 4.6875 -1.953125 L 3.703125 -1.953125 L 3.703125 -6.484375 C 3.703125 -6.6875 3.703125 -6.75 3.53125 -6.75 C 3.453125 -6.75 3.421875 -6.75 3.34375 -6.625 L 0.28125 -1.953125 L 0.28125 -1.640625 Z M 2.984375 -1.953125 L 0.5625 -1.953125 L 2.984375 -5.671875 Z M 2.984375 -1.953125 \"/>\n",
       "</symbol>\n",
       "<symbol overflow=\"visible\" id=\"glyph-1521242051393361-1-2\">\n",
       "<path style=\"stroke:none;\" d=\"M 1.265625 -0.765625 L 2.328125 -1.796875 C 3.875 -3.171875 4.46875 -3.703125 4.46875 -4.703125 C 4.46875 -5.84375 3.578125 -6.640625 2.359375 -6.640625 C 1.234375 -6.640625 0.5 -5.71875 0.5 -4.828125 C 0.5 -4.28125 1 -4.28125 1.03125 -4.28125 C 1.203125 -4.28125 1.546875 -4.390625 1.546875 -4.8125 C 1.546875 -5.0625 1.359375 -5.328125 1.015625 -5.328125 C 0.9375 -5.328125 0.921875 -5.328125 0.890625 -5.3125 C 1.109375 -5.96875 1.65625 -6.328125 2.234375 -6.328125 C 3.140625 -6.328125 3.5625 -5.515625 3.5625 -4.703125 C 3.5625 -3.90625 3.078125 -3.125 2.515625 -2.5 L 0.609375 -0.375 C 0.5 -0.265625 0.5 -0.234375 0.5 0 L 4.203125 0 L 4.46875 -1.734375 L 4.234375 -1.734375 C 4.171875 -1.4375 4.109375 -1 4 -0.84375 C 3.9375 -0.765625 3.28125 -0.765625 3.0625 -0.765625 Z M 1.265625 -0.765625 \"/>\n",
       "</symbol>\n",
       "<symbol overflow=\"visible\" id=\"glyph-1521242051393361-1-3\">\n",
       "<path style=\"stroke:none;\" d=\"M 4.578125 -3.1875 C 4.578125 -3.984375 4.53125 -4.78125 4.1875 -5.515625 C 3.734375 -6.484375 2.90625 -6.640625 2.5 -6.640625 C 1.890625 -6.640625 1.171875 -6.375 0.75 -5.453125 C 0.4375 -4.765625 0.390625 -3.984375 0.390625 -3.1875 C 0.390625 -2.4375 0.421875 -1.546875 0.84375 -0.78125 C 1.265625 0.015625 2 0.21875 2.484375 0.21875 C 3.015625 0.21875 3.78125 0.015625 4.21875 -0.9375 C 4.53125 -1.625 4.578125 -2.40625 4.578125 -3.1875 Z M 2.484375 0 C 2.09375 0 1.5 -0.25 1.328125 -1.203125 C 1.21875 -1.796875 1.21875 -2.71875 1.21875 -3.3125 C 1.21875 -3.953125 1.21875 -4.609375 1.296875 -5.140625 C 1.484375 -6.328125 2.234375 -6.421875 2.484375 -6.421875 C 2.8125 -6.421875 3.46875 -6.234375 3.65625 -5.25 C 3.765625 -4.6875 3.765625 -3.9375 3.765625 -3.3125 C 3.765625 -2.5625 3.765625 -1.890625 3.65625 -1.25 C 3.5 -0.296875 2.9375 0 2.484375 0 Z M 2.484375 0 \"/>\n",
       "</symbol>\n",
       "<symbol overflow=\"visible\" id=\"glyph-1521242051393361-1-4\">\n",
       "<path style=\"stroke:none;\" d=\"M 1.3125 -3.265625 L 1.3125 -3.515625 C 1.3125 -6.03125 2.546875 -6.390625 3.0625 -6.390625 C 3.296875 -6.390625 3.71875 -6.328125 3.9375 -5.984375 C 3.78125 -5.984375 3.390625 -5.984375 3.390625 -5.546875 C 3.390625 -5.234375 3.625 -5.078125 3.84375 -5.078125 C 4 -5.078125 4.3125 -5.171875 4.3125 -5.5625 C 4.3125 -6.15625 3.875 -6.640625 3.046875 -6.640625 C 1.765625 -6.640625 0.421875 -5.359375 0.421875 -3.15625 C 0.421875 -0.484375 1.578125 0.21875 2.5 0.21875 C 3.609375 0.21875 4.5625 -0.71875 4.5625 -2.03125 C 4.5625 -3.296875 3.671875 -4.25 2.5625 -4.25 C 1.890625 -4.25 1.515625 -3.75 1.3125 -3.265625 Z M 2.5 -0.0625 C 1.875 -0.0625 1.578125 -0.65625 1.515625 -0.8125 C 1.328125 -1.28125 1.328125 -2.078125 1.328125 -2.25 C 1.328125 -3.03125 1.65625 -4.03125 2.546875 -4.03125 C 2.71875 -4.03125 3.171875 -4.03125 3.484375 -3.40625 C 3.65625 -3.046875 3.65625 -2.53125 3.65625 -2.046875 C 3.65625 -1.5625 3.65625 -1.0625 3.484375 -0.703125 C 3.1875 -0.109375 2.734375 -0.0625 2.5 -0.0625 Z M 2.5 -0.0625 \"/>\n",
       "</symbol>\n",
       "</g>\n",
       "<clipPath id=\"clip-1521242051393361-1\">\n",
       "  <path d=\"M 19 0 L 214.042969 0 L 214.042969 162 L 19 162 Z M 19 0 \"/>\n",
       "</clipPath>\n",
       "</defs>\n",
       "<g id=\"surface1\">\n",
       "<path style=\"fill:none;stroke-width:0.19925;stroke-linecap:butt;stroke-linejoin:miter;stroke:rgb(50%,50%,50%);stroke-opacity:1;stroke-miterlimit:10;\" d=\"M 10.699937 -13.451844 L 10.699937 -9.197938 M 41.164781 -13.451844 L 41.164781 -9.197938 M 71.629625 -13.451844 L 71.629625 -9.197938 M 102.094469 -13.451844 L 102.094469 -9.197938 M 132.559313 -13.451844 L 132.559313 -9.197938 M 163.024156 -13.451844 L 163.024156 -9.197938 M 10.699937 147.942687 L 10.699937 143.688781 M 41.164781 147.942687 L 41.164781 143.688781 M 71.629625 147.942687 L 71.629625 143.688781 M 102.094469 147.942687 L 102.094469 143.688781 M 132.559313 147.942687 L 132.559313 143.688781 M 163.024156 147.942687 L 163.024156 143.688781 \" transform=\"matrix(1,0,0,-1,35.761,148.138)\"/>\n",
       "<path style=\"fill:none;stroke-width:0.19925;stroke-linecap:butt;stroke-linejoin:miter;stroke:rgb(50%,50%,50%);stroke-opacity:1;stroke-miterlimit:10;\" d=\"M -16.190688 6.899719 L -11.940688 6.899719 M -16.190688 32.895812 L -11.940688 32.895812 M -16.190688 58.895812 L -11.940688 58.895812 M -16.190688 84.895812 L -11.940688 84.895812 M -16.190688 110.891906 L -11.940688 110.891906 M -16.190688 136.891906 L -11.940688 136.891906 M 178.086656 6.899719 L 173.836656 6.899719 M 178.086656 32.895812 L 173.836656 32.895812 M 178.086656 58.895812 L 173.836656 58.895812 M 178.086656 84.895812 L 173.836656 84.895812 M 178.086656 110.891906 L 173.836656 110.891906 M 178.086656 136.891906 L 173.836656 136.891906 \" transform=\"matrix(1,0,0,-1,35.761,148.138)\"/>\n",
       "<g clip-path=\"url(#clip-1521242051393361-1)\" clip-rule=\"nonzero\">\n",
       "<path style=\"fill:none;stroke-width:0.3985;stroke-linecap:butt;stroke-linejoin:miter;stroke:rgb(0%,0%,0%);stroke-opacity:1;stroke-miterlimit:10;\" d=\"M -16.190688 -13.451844 L -16.190688 147.942687 L 178.086656 147.942687 L 178.086656 -13.451844 Z M -16.190688 -13.451844 \" transform=\"matrix(1,0,0,-1,35.761,148.138)\"/>\n",
       "</g>\n",
       "<g style=\"fill:rgb(0%,0%,0%);fill-opacity:1;\">\n",
       "  <use xlink:href=\"#glyph-1521242051393361-0-1\" x=\"40.095\" y=\"171.528\"/>\n",
       "</g>\n",
       "<g style=\"fill:rgb(0%,0%,0%);fill-opacity:1;\">\n",
       "  <use xlink:href=\"#glyph-1521242051393361-1-1\" x=\"47.844\" y=\"171.528\"/>\n",
       "</g>\n",
       "<g style=\"fill:rgb(0%,0%,0%);fill-opacity:1;\">\n",
       "  <use xlink:href=\"#glyph-1521242051393361-0-1\" x=\"70.559\" y=\"171.528\"/>\n",
       "</g>\n",
       "<g style=\"fill:rgb(0%,0%,0%);fill-opacity:1;\">\n",
       "  <use xlink:href=\"#glyph-1521242051393361-1-2\" x=\"78.308\" y=\"171.528\"/>\n",
       "</g>\n",
       "<g style=\"fill:rgb(0%,0%,0%);fill-opacity:1;\">\n",
       "  <use xlink:href=\"#glyph-1521242051393361-1-3\" x=\"104.898\" y=\"171.528\"/>\n",
       "</g>\n",
       "<g style=\"fill:rgb(0%,0%,0%);fill-opacity:1;\">\n",
       "  <use xlink:href=\"#glyph-1521242051393361-1-2\" x=\"135.362\" y=\"171.528\"/>\n",
       "</g>\n",
       "<g style=\"fill:rgb(0%,0%,0%);fill-opacity:1;\">\n",
       "  <use xlink:href=\"#glyph-1521242051393361-1-1\" x=\"165.827\" y=\"171.528\"/>\n",
       "</g>\n",
       "<g style=\"fill:rgb(0%,0%,0%);fill-opacity:1;\">\n",
       "  <use xlink:href=\"#glyph-1521242051393361-1-4\" x=\"196.291\" y=\"171.528\"/>\n",
       "</g>\n",
       "<g style=\"fill:rgb(0%,0%,0%);fill-opacity:1;\">\n",
       "  <use xlink:href=\"#glyph-1521242051393361-0-1\" x=\"3.321\" y=\"144.035\"/>\n",
       "</g>\n",
       "<g style=\"fill:rgb(0%,0%,0%);fill-opacity:1;\">\n",
       "  <use xlink:href=\"#glyph-1521242051393361-1-1\" x=\"11.069\" y=\"144.035\"/>\n",
       "</g>\n",
       "<g style=\"fill:rgb(0%,0%,0%);fill-opacity:1;\">\n",
       "  <use xlink:href=\"#glyph-1521242051393361-0-1\" x=\"3.321\" y=\"118.036\"/>\n",
       "</g>\n",
       "<g style=\"fill:rgb(0%,0%,0%);fill-opacity:1;\">\n",
       "  <use xlink:href=\"#glyph-1521242051393361-1-2\" x=\"11.069\" y=\"118.036\"/>\n",
       "</g>\n",
       "<g style=\"fill:rgb(0%,0%,0%);fill-opacity:1;\">\n",
       "  <use xlink:href=\"#glyph-1521242051393361-1-3\" x=\"11.069\" y=\"92.453\"/>\n",
       "</g>\n",
       "<g style=\"fill:rgb(0%,0%,0%);fill-opacity:1;\">\n",
       "  <use xlink:href=\"#glyph-1521242051393361-1-2\" x=\"11.069\" y=\"66.455\"/>\n",
       "</g>\n",
       "<g style=\"fill:rgb(0%,0%,0%);fill-opacity:1;\">\n",
       "  <use xlink:href=\"#glyph-1521242051393361-1-1\" x=\"11.069\" y=\"40.457\"/>\n",
       "</g>\n",
       "<g style=\"fill:rgb(0%,0%,0%);fill-opacity:1;\">\n",
       "  <use xlink:href=\"#glyph-1521242051393361-1-4\" x=\"11.069\" y=\"14.459\"/>\n",
       "</g>\n",
       "<path style=\"fill:none;stroke-width:0.3985;stroke-linecap:butt;stroke-linejoin:miter;stroke:rgb(0%,0%,100%);stroke-opacity:1;stroke-miterlimit:10;\" d=\"M 117.246813 56.934875 L 117.246813 66.020812 L 126.356188 66.020812 L 126.356188 56.934875 L 117.246813 56.934875 \" transform=\"matrix(1,0,0,-1,35.761,148.138)\"/>\n",
       "<path style=\"fill:none;stroke-width:0.3985;stroke-linecap:butt;stroke-linejoin:miter;stroke:rgb(100%,0%,0%);stroke-opacity:1;stroke-miterlimit:10;\" d=\"M 61.172594 103.532531 L 61.172594 106.727844 L 72.063219 106.727844 L 72.063219 103.532531 L 61.172594 103.532531 \" transform=\"matrix(1,0,0,-1,35.761,148.138)\"/>\n",
       "<path style=\"fill:none;stroke-width:0.3985;stroke-linecap:butt;stroke-linejoin:miter;stroke:rgb(44.999695%,29.998779%,14.99939%);stroke-opacity:1;stroke-miterlimit:10;\" d=\"M 61.453844 3.16925 L 61.453844 10.223937 L 73.071031 10.223937 L 73.071031 3.16925 L 61.453844 3.16925 \" transform=\"matrix(1,0,0,-1,35.761,148.138)\"/>\n",
       "<path style=\"fill:none;stroke-width:0.3985;stroke-linecap:butt;stroke-linejoin:miter;stroke:rgb(0%,0%,0%);stroke-opacity:1;stroke-miterlimit:10;\" d=\"M 50.106187 119.126281 L 50.106187 122.657531 L 61.524156 122.657531 L 61.524156 119.126281 L 50.106187 119.126281 \" transform=\"matrix(1,0,0,-1,35.761,148.138)\"/>\n",
       "<path style=\"fill:none;stroke-width:0.3985;stroke-linecap:butt;stroke-linejoin:miter;stroke:rgb(0%,0%,100%);stroke-opacity:1;stroke-miterlimit:10;\" d=\"M 133.078844 35.23175 L 133.078844 41.001281 L 145.77025 41.001281 L 145.77025 35.23175 L 133.078844 35.23175 \" transform=\"matrix(1,0,0,-1,35.761,148.138)\"/>\n",
       "<path style=\"fill:none;stroke-width:0.3985;stroke-linecap:butt;stroke-linejoin:miter;stroke:rgb(100%,0%,0%);stroke-opacity:1;stroke-dasharray:2.98883,1.99255;stroke-miterlimit:10;\" d=\"M 94.903063 48.055969 L 94.903063 59.73175 L 105.711656 59.73175 L 105.711656 48.055969 L 94.903063 48.055969 \" transform=\"matrix(1,0,0,-1,35.761,148.138)\"/>\n",
       "<path style=\"fill:none;stroke-width:0.3985;stroke-linecap:butt;stroke-linejoin:miter;stroke:rgb(44.999695%,29.998779%,14.99939%);stroke-opacity:1;stroke-dasharray:2.98883,1.99255;stroke-miterlimit:10;\" d=\"M 29.871812 6.188781 L 29.871812 14.415344 L 42.14525 14.415344 L 42.14525 6.188781 L 29.871812 6.188781 \" transform=\"matrix(1,0,0,-1,35.761,148.138)\"/>\n",
       "<path style=\"fill:none;stroke-width:0.3985;stroke-linecap:butt;stroke-linejoin:miter;stroke:rgb(0%,0%,0%);stroke-opacity:1;stroke-dasharray:2.98883,1.99255;stroke-miterlimit:10;\" d=\"M 42.731187 23.872375 L 42.731187 31.595031 L 56.258531 31.595031 L 56.258531 23.872375 L 42.731187 23.872375 \" transform=\"matrix(1,0,0,-1,35.761,148.138)\"/>\n",
       "<path style=\"fill:none;stroke-width:0.3985;stroke-linecap:butt;stroke-linejoin:miter;stroke:rgb(0%,0%,100%);stroke-opacity:1;stroke-dasharray:2.98883,1.99255;stroke-miterlimit:10;\" d=\"M 42.910875 55.85675 L 42.910875 63.263 L 48.547594 63.263 L 48.547594 55.85675 L 42.910875 55.85675 \" transform=\"matrix(1,0,0,-1,35.761,148.138)\"/>\n",
       "<path style=\"fill:none;stroke-width:0.3985;stroke-linecap:butt;stroke-linejoin:miter;stroke:rgb(100%,0%,0%);stroke-opacity:1;stroke-dasharray:2.98883,1.99255;stroke-miterlimit:10;\" d=\"M 21.684312 77.102844 L 21.684312 82.442687 L 29.637437 82.442687 L 29.637437 77.102844 L 21.684312 77.102844 \" transform=\"matrix(1,0,0,-1,35.761,148.138)\"/>\n",
       "<path style=\"fill:none;stroke-width:0.3985;stroke-linecap:butt;stroke-linejoin:miter;stroke:rgb(0%,0%,100%);stroke-opacity:1;stroke-miterlimit:10;\" d=\"M 125.485094 7.993469 L 125.485094 16.48175 L 133.211656 16.48175 L 133.211656 7.993469 L 125.485094 7.993469 \" transform=\"matrix(1,0,0,-1,35.761,148.138)\"/>\n",
       "<path style=\"fill:none;stroke-width:0.3985;stroke-linecap:butt;stroke-linejoin:miter;stroke:rgb(100%,0%,0%);stroke-opacity:1;stroke-miterlimit:10;\" d=\"M 43.293687 56.716125 L 43.293687 60.860656 L 52.063219 60.860656 L 52.063219 56.716125 L 43.293687 56.716125 \" transform=\"matrix(1,0,0,-1,35.761,148.138)\"/>\n",
       "<path style=\"fill:none;stroke-width:0.3985;stroke-linecap:butt;stroke-linejoin:miter;stroke:rgb(44.999695%,29.998779%,14.99939%);stroke-opacity:1;stroke-miterlimit:10;\" d=\"M 107.446031 29.837219 L 107.446031 34.055969 L 116.852281 34.055969 L 116.852281 29.837219 L 107.446031 29.837219 \" transform=\"matrix(1,0,0,-1,35.761,148.138)\"/>\n",
       "<path style=\"fill:none;stroke-width:0.3985;stroke-linecap:butt;stroke-linejoin:miter;stroke:rgb(0%,0%,0%);stroke-opacity:1;stroke-miterlimit:10;\" d=\"M 71.946031 72.837219 L 71.946031 83.505187 L 84.64525 83.505187 L 84.64525 72.837219 L 71.946031 72.837219 \" transform=\"matrix(1,0,0,-1,35.761,148.138)\"/>\n",
       "<path style=\"fill:none;stroke-width:0.3985;stroke-linecap:butt;stroke-linejoin:miter;stroke:rgb(0%,0%,100%);stroke-opacity:1;stroke-miterlimit:10;\" d=\"M 136.699938 12.184875 L 136.699938 19.391906 L 148.485094 19.391906 L 148.485094 12.184875 L 136.699938 12.184875 \" transform=\"matrix(1,0,0,-1,35.761,148.138)\"/>\n",
       "<path style=\"fill:none;stroke-width:0.3985;stroke-linecap:butt;stroke-linejoin:miter;stroke:rgb(100%,0%,0%);stroke-opacity:1;stroke-dasharray:2.98883,1.99255;stroke-miterlimit:10;\" d=\"M 74.262438 34.114562 L 74.262438 41.899719 L 87.793688 41.899719 L 87.793688 34.114562 L 74.262438 34.114562 \" transform=\"matrix(1,0,0,-1,35.761,148.138)\"/>\n",
       "<path style=\"fill:none;stroke-width:0.3985;stroke-linecap:butt;stroke-linejoin:miter;stroke:rgb(44.999695%,29.998779%,14.99939%);stroke-opacity:1;stroke-dasharray:2.98883,1.99255;stroke-miterlimit:10;\" d=\"M 101.774156 9.845031 L 101.774156 22.243469 L 110.641344 22.243469 L 110.641344 9.845031 L 101.774156 9.845031 \" transform=\"matrix(1,0,0,-1,35.761,148.138)\"/>\n",
       "<path style=\"fill:none;stroke-width:0.3985;stroke-linecap:butt;stroke-linejoin:miter;stroke:rgb(0%,0%,0%);stroke-opacity:1;stroke-dasharray:2.98883,1.99255;stroke-miterlimit:10;\" d=\"M 157.547594 53.083312 L 157.547594 63.91925 L 160.934313 63.91925 L 160.934313 53.083312 L 157.547594 53.083312 \" transform=\"matrix(1,0,0,-1,35.761,148.138)\"/>\n",
       "<path style=\"fill:none;stroke-width:0.3985;stroke-linecap:butt;stroke-linejoin:miter;stroke:rgb(0%,0%,100%);stroke-opacity:1;stroke-dasharray:2.98883,1.99255;stroke-miterlimit:10;\" d=\"M 58.571031 82.149719 L 58.571031 89.563781 L 68.367906 89.563781 L 68.367906 82.149719 L 58.571031 82.149719 \" transform=\"matrix(1,0,0,-1,35.761,148.138)\"/>\n",
       "<path style=\"fill:none;stroke-width:0.3985;stroke-linecap:butt;stroke-linejoin:miter;stroke:rgb(100%,0%,0%);stroke-opacity:1;stroke-dasharray:2.98883,1.99255;stroke-miterlimit:10;\" d=\"M 108.910875 45.259094 L 108.910875 56.192687 L 118.449938 56.192687 L 118.449938 45.259094 L 108.910875 45.259094 \" transform=\"matrix(1,0,0,-1,35.761,148.138)\"/>\n",
       "<path style=\"fill:none;stroke-width:0.3985;stroke-linecap:butt;stroke-linejoin:miter;stroke:rgb(0%,0%,100%);stroke-opacity:1;stroke-miterlimit:10;\" d=\"M 8.524156 13.60675 L 8.524156 21.020812 L 20.778062 21.020812 L 20.778062 13.60675 L 8.524156 13.60675 \" transform=\"matrix(1,0,0,-1,35.761,148.138)\"/>\n",
       "<path style=\"fill:none;stroke-width:0.3985;stroke-linecap:butt;stroke-linejoin:miter;stroke:rgb(100%,0%,0%);stroke-opacity:1;stroke-miterlimit:10;\" d=\"M 100.598375 73.477844 L 100.598375 82.536437 L 103.696031 82.536437 L 103.696031 73.477844 L 100.598375 73.477844 \" transform=\"matrix(1,0,0,-1,35.761,148.138)\"/>\n",
       "<path style=\"fill:none;stroke-width:0.3985;stroke-linecap:butt;stroke-linejoin:miter;stroke:rgb(44.999695%,29.998779%,14.99939%);stroke-opacity:1;stroke-miterlimit:10;\" d=\"M 117.293688 121.528625 L 117.293688 130.930969 L 130.8015 130.930969 L 130.8015 121.528625 L 117.293688 121.528625 \" transform=\"matrix(1,0,0,-1,35.761,148.138)\"/>\n",
       "<path style=\"fill:none;stroke-width:0.3985;stroke-linecap:butt;stroke-linejoin:miter;stroke:rgb(0%,0%,0%);stroke-opacity:1;stroke-miterlimit:10;\" d=\"M 39.703844 116.571594 L 39.703844 126.048156 L 49.317125 126.048156 L 49.317125 116.571594 L 39.703844 116.571594 \" transform=\"matrix(1,0,0,-1,35.761,148.138)\"/>\n",
       "<path style=\"fill:none;stroke-width:0.3985;stroke-linecap:butt;stroke-linejoin:miter;stroke:rgb(0%,0%,100%);stroke-opacity:1;stroke-miterlimit:10;\" d=\"M 55.949937 70.9505 L 55.949937 79.595031 L 69.910875 79.595031 L 69.910875 70.9505 L 55.949937 70.9505 \" transform=\"matrix(1,0,0,-1,35.761,148.138)\"/>\n",
       "<path style=\"fill:none;stroke-width:0.3985;stroke-linecap:butt;stroke-linejoin:miter;stroke:rgb(100%,0%,0%);stroke-opacity:1;stroke-dasharray:2.98883,1.99255;stroke-miterlimit:10;\" d=\"M 19.02025 41.454406 L 19.02025 47.095031 L 31.0515 47.095031 L 31.0515 41.454406 L 19.02025 41.454406 \" transform=\"matrix(1,0,0,-1,35.761,148.138)\"/>\n",
       "<path style=\"fill:none;stroke-width:0.3985;stroke-linecap:butt;stroke-linejoin:miter;stroke:rgb(44.999695%,29.998779%,14.99939%);stroke-opacity:1;stroke-dasharray:2.98883,1.99255;stroke-miterlimit:10;\" d=\"M 59.293687 46.688781 L 59.293687 56.153625 L 64.785875 56.153625 L 64.785875 46.688781 L 59.293687 46.688781 \" transform=\"matrix(1,0,0,-1,35.761,148.138)\"/>\n",
       "<path style=\"fill:none;stroke-width:0.3985;stroke-linecap:butt;stroke-linejoin:miter;stroke:rgb(0%,0%,0%);stroke-opacity:1;stroke-dasharray:2.98883,1.99255;stroke-miterlimit:10;\" d=\"M 112.024156 2.708312 L 112.024156 5.497375 L 118.824938 5.497375 L 118.824938 2.708312 L 112.024156 2.708312 \" transform=\"matrix(1,0,0,-1,35.761,148.138)\"/>\n",
       "<path style=\"fill:none;stroke-width:0.3985;stroke-linecap:butt;stroke-linejoin:miter;stroke:rgb(0%,0%,100%);stroke-opacity:1;stroke-dasharray:2.98883,1.99255;stroke-miterlimit:10;\" d=\"M 122.571031 6.063781 L 122.571031 12.973937 L 130.742906 12.973937 L 130.742906 6.063781 L 122.571031 6.063781 \" transform=\"matrix(1,0,0,-1,35.761,148.138)\"/>\n",
       "<path style=\"fill:none;stroke-width:0.3985;stroke-linecap:butt;stroke-linejoin:miter;stroke:rgb(100%,0%,0%);stroke-opacity:1;stroke-dasharray:2.98883,1.99255;stroke-miterlimit:10;\" d=\"M 16.985094 46.384094 L 16.985094 53.661437 L 28.086656 53.661437 L 28.086656 46.384094 L 16.985094 46.384094 \" transform=\"matrix(1,0,0,-1,35.761,148.138)\"/>\n",
       "<path style=\"fill:none;stroke-width:0.3985;stroke-linecap:butt;stroke-linejoin:miter;stroke:rgb(0%,0%,100%);stroke-opacity:1;stroke-miterlimit:10;\" d=\"M 70.871813 29.680969 L 70.871813 40.66925 L 77.649156 40.66925 L 77.649156 29.680969 L 70.871813 29.680969 \" transform=\"matrix(1,0,0,-1,35.761,148.138)\"/>\n",
       "<path style=\"fill:none;stroke-width:0.3985;stroke-linecap:butt;stroke-linejoin:miter;stroke:rgb(100%,0%,0%);stroke-opacity:1;stroke-miterlimit:10;\" d=\"M 133.242906 127.645812 L 133.242906 133.102844 L 147.114 133.102844 L 147.114 127.645812 L 133.242906 127.645812 \" transform=\"matrix(1,0,0,-1,35.761,148.138)\"/>\n",
       "<path style=\"fill:none;stroke-width:0.3985;stroke-linecap:butt;stroke-linejoin:miter;stroke:rgb(44.999695%,29.998779%,14.99939%);stroke-opacity:1;stroke-miterlimit:10;\" d=\"M 80.938219 28.786437 L 80.938219 39.149719 L 88.6765 39.149719 L 88.6765 28.786437 L 80.938219 28.786437 \" transform=\"matrix(1,0,0,-1,35.761,148.138)\"/>\n",
       "<path style=\"fill:none;stroke-width:0.3985;stroke-linecap:butt;stroke-linejoin:miter;stroke:rgb(0%,0%,0%);stroke-opacity:1;stroke-miterlimit:10;\" d=\"M 55.043687 112.684875 L 55.043687 119.087219 L 66.953844 119.087219 L 66.953844 112.684875 L 55.043687 112.684875 \" transform=\"matrix(1,0,0,-1,35.761,148.138)\"/>\n",
       "<path style=\"fill:none;stroke-width:0.3985;stroke-linecap:butt;stroke-linejoin:miter;stroke:rgb(0%,0%,100%);stroke-opacity:1;stroke-miterlimit:10;\" d=\"M 145.699938 75.884094 L 145.699938 84.638 L 158.141344 84.638 L 158.141344 75.884094 L 145.699938 75.884094 \" transform=\"matrix(1,0,0,-1,35.761,148.138)\"/>\n",
       "<path style=\"fill:none;stroke-width:0.3985;stroke-linecap:butt;stroke-linejoin:miter;stroke:rgb(100%,0%,0%);stroke-opacity:1;stroke-dasharray:2.98883,1.99255;stroke-miterlimit:10;\" d=\"M 15.012437 9.395812 L 15.012437 19.911437 L 27.114 19.911437 L 27.114 9.395812 L 15.012437 9.395812 \" transform=\"matrix(1,0,0,-1,35.761,148.138)\"/>\n",
       "<path style=\"fill:none;stroke-width:0.3985;stroke-linecap:butt;stroke-linejoin:miter;stroke:rgb(44.999695%,29.998779%,14.99939%);stroke-opacity:1;stroke-dasharray:2.98883,1.99255;stroke-miterlimit:10;\" d=\"M 124.047594 70.954406 L 124.047594 74.66925 L 136.110094 74.66925 L 136.110094 70.954406 L 124.047594 70.954406 \" transform=\"matrix(1,0,0,-1,35.761,148.138)\"/>\n",
       "<path style=\"fill:none;stroke-width:0.3985;stroke-linecap:butt;stroke-linejoin:miter;stroke:rgb(0%,0%,0%);stroke-opacity:1;stroke-dasharray:2.98883,1.99255;stroke-miterlimit:10;\" d=\"M 27.371812 34.286437 L 27.371812 46.817687 L 41.367906 46.817687 L 41.367906 34.286437 L 27.371812 34.286437 \" transform=\"matrix(1,0,0,-1,35.761,148.138)\"/>\n",
       "<path style=\"fill:none;stroke-width:0.3985;stroke-linecap:butt;stroke-linejoin:miter;stroke:rgb(0%,0%,100%);stroke-opacity:1;stroke-dasharray:2.98883,1.99255;stroke-miterlimit:10;\" d=\"M 38.063219 125.845031 L 38.063219 134.493469 L 45.692125 134.493469 L 45.692125 125.845031 L 38.063219 125.845031 \" transform=\"matrix(1,0,0,-1,35.761,148.138)\"/>\n",
       "<path style=\"fill:none;stroke-width:0.3985;stroke-linecap:butt;stroke-linejoin:miter;stroke:rgb(100%,0%,0%);stroke-opacity:1;stroke-dasharray:2.98883,1.99255;stroke-miterlimit:10;\" d=\"M 106.504625 33.638 L 106.504625 43.677062 L 116.844469 43.677062 L 116.844469 33.638 L 106.504625 33.638 \" transform=\"matrix(1,0,0,-1,35.761,148.138)\"/>\n",
       "<path style=\"fill:none;stroke-width:0.3985;stroke-linecap:butt;stroke-linejoin:miter;stroke:rgb(0%,0%,100%);stroke-opacity:1;stroke-miterlimit:10;\" d=\"M 47.305406 120.755187 L 47.305406 131.626281 L 54.031969 131.626281 L 54.031969 120.755187 L 47.305406 120.755187 \" transform=\"matrix(1,0,0,-1,35.761,148.138)\"/>\n",
       "<path style=\"fill:none;stroke-width:0.3985;stroke-linecap:butt;stroke-linejoin:miter;stroke:rgb(100%,0%,0%);stroke-opacity:1;stroke-miterlimit:10;\" d=\"M 136.016344 53.368469 L 136.016344 61.985656 L 141.211656 61.985656 L 141.211656 53.368469 L 136.016344 53.368469 \" transform=\"matrix(1,0,0,-1,35.761,148.138)\"/>\n",
       "<path style=\"fill:none;stroke-width:0.3985;stroke-linecap:butt;stroke-linejoin:miter;stroke:rgb(44.999695%,29.998779%,14.99939%);stroke-opacity:1;stroke-miterlimit:10;\" d=\"M 146.504625 26.227844 L 146.504625 28.360656 L 154.903063 28.360656 L 154.903063 26.227844 L 146.504625 26.227844 \" transform=\"matrix(1,0,0,-1,35.761,148.138)\"/>\n",
       "<path style=\"fill:none;stroke-width:0.3985;stroke-linecap:butt;stroke-linejoin:miter;stroke:rgb(0%,0%,0%);stroke-opacity:1;stroke-miterlimit:10;\" d=\"M 42.024156 67.563781 L 42.024156 79.368469 L 48.403062 79.368469 L 48.403062 67.563781 L 42.024156 67.563781 \" transform=\"matrix(1,0,0,-1,35.761,148.138)\"/>\n",
       "<path style=\"fill:none;stroke-width:0.3985;stroke-linecap:butt;stroke-linejoin:miter;stroke:rgb(0%,0%,100%);stroke-opacity:1;stroke-miterlimit:10;\" d=\"M 71.481188 74.411437 L 71.481188 81.891906 L 74.930406 81.891906 L 74.930406 74.411437 L 71.481188 74.411437 \" transform=\"matrix(1,0,0,-1,35.761,148.138)\"/>\n",
       "<path style=\"fill:none;stroke-width:0.3985;stroke-linecap:butt;stroke-linejoin:miter;stroke:rgb(100%,0%,0%);stroke-opacity:1;stroke-dasharray:2.98883,1.99255;stroke-miterlimit:10;\" d=\"M 131.539781 0.00128125 L 131.539781 7.5755 L 145.254625 7.5755 L 145.254625 0.00128125 L 131.539781 0.00128125 \" transform=\"matrix(1,0,0,-1,35.761,148.138)\"/>\n",
       "<path style=\"fill:none;stroke-width:0.3985;stroke-linecap:butt;stroke-linejoin:miter;stroke:rgb(44.999695%,29.998779%,14.99939%);stroke-opacity:1;stroke-dasharray:2.98883,1.99255;stroke-miterlimit:10;\" d=\"M 121.231188 117.927062 L 121.231188 125.755187 L 133.766344 125.755187 L 133.766344 117.927062 L 121.231188 117.927062 \" transform=\"matrix(1,0,0,-1,35.761,148.138)\"/>\n",
       "<path style=\"fill:none;stroke-width:0.3985;stroke-linecap:butt;stroke-linejoin:miter;stroke:rgb(0%,0%,0%);stroke-opacity:1;stroke-dasharray:2.98883,1.99255;stroke-miterlimit:10;\" d=\"M 107.590563 89.977844 L 107.590563 100.73175 L 120.059313 100.73175 L 120.059313 89.977844 L 107.590563 89.977844 \" transform=\"matrix(1,0,0,-1,35.761,148.138)\"/>\n",
       "<path style=\"fill:none;stroke-width:0.3985;stroke-linecap:butt;stroke-linejoin:miter;stroke:rgb(0%,0%,100%);stroke-opacity:1;stroke-dasharray:2.98883,1.99255;stroke-miterlimit:10;\" d=\"M 26.934312 28.579406 L 26.934312 37.54425 L 39.887437 37.54425 L 39.887437 28.579406 L 26.934312 28.579406 \" transform=\"matrix(1,0,0,-1,35.761,148.138)\"/>\n",
       "<path style=\"fill:none;stroke-width:0.3985;stroke-linecap:butt;stroke-linejoin:miter;stroke:rgb(100%,0%,0%);stroke-opacity:1;stroke-dasharray:2.98883,1.99255;stroke-miterlimit:10;\" d=\"M 18.110094 70.946594 L 18.110094 74.970031 L 21.879625 74.970031 L 21.879625 70.946594 L 18.110094 70.946594 \" transform=\"matrix(1,0,0,-1,35.761,148.138)\"/>\n",
       "<path style=\"fill:none;stroke-width:0.3985;stroke-linecap:butt;stroke-linejoin:miter;stroke:rgb(0%,0%,100%);stroke-opacity:1;stroke-miterlimit:10;\" d=\"M 74.934313 114.067687 L 74.934313 122.966125 L 82.031969 122.966125 L 82.031969 114.067687 L 74.934313 114.067687 \" transform=\"matrix(1,0,0,-1,35.761,148.138)\"/>\n",
       "<path style=\"fill:none;stroke-width:0.3985;stroke-linecap:butt;stroke-linejoin:miter;stroke:rgb(100%,0%,0%);stroke-opacity:1;stroke-miterlimit:10;\" d=\"M 146.719469 107.723937 L 146.719469 113.415344 L 152.656969 113.415344 L 152.656969 107.723937 L 146.719469 107.723937 \" transform=\"matrix(1,0,0,-1,35.761,148.138)\"/>\n",
       "<path style=\"fill:none;stroke-width:0.3985;stroke-linecap:butt;stroke-linejoin:miter;stroke:rgb(44.999695%,29.998779%,14.99939%);stroke-opacity:1;stroke-miterlimit:10;\" d=\"M 139.723375 97.595031 L 139.723375 101.509094 L 153.496813 101.509094 L 153.496813 97.595031 L 139.723375 97.595031 \" transform=\"matrix(1,0,0,-1,35.761,148.138)\"/>\n",
       "<path style=\"fill:none;stroke-width:0.3985;stroke-linecap:butt;stroke-linejoin:miter;stroke:rgb(0%,0%,0%);stroke-opacity:1;stroke-miterlimit:10;\" d=\"M 56.969469 6.040344 L 56.969469 12.087219 L 66.012438 12.087219 L 66.012438 6.040344 L 56.969469 6.040344 \" transform=\"matrix(1,0,0,-1,35.761,148.138)\"/>\n",
       "<path style=\"fill:none;stroke-width:0.3985;stroke-linecap:butt;stroke-linejoin:miter;stroke:rgb(0%,0%,100%);stroke-opacity:1;stroke-miterlimit:10;\" d=\"M 149.14525 95.970031 L 149.14525 103.427062 L 154.227281 103.427062 L 154.227281 95.970031 L 149.14525 95.970031 \" transform=\"matrix(1,0,0,-1,35.761,148.138)\"/>\n",
       "<path style=\"fill:none;stroke-width:0.3985;stroke-linecap:butt;stroke-linejoin:miter;stroke:rgb(100%,0%,0%);stroke-opacity:1;stroke-dasharray:2.98883,1.99255;stroke-miterlimit:10;\" d=\"M 69.293688 61.751281 L 69.293688 66.145812 L 79.235094 66.145812 L 79.235094 61.751281 L 69.293688 61.751281 \" transform=\"matrix(1,0,0,-1,35.761,148.138)\"/>\n",
       "<path style=\"fill:none;stroke-width:0.3985;stroke-linecap:butt;stroke-linejoin:miter;stroke:rgb(44.999695%,29.998779%,14.99939%);stroke-opacity:1;stroke-dasharray:2.98883,1.99255;stroke-miterlimit:10;\" d=\"M 3.055406 73.466125 L 3.055406 82.020812 L 9.0515 82.020812 L 9.0515 73.466125 L 3.055406 73.466125 \" transform=\"matrix(1,0,0,-1,35.761,148.138)\"/>\n",
       "<path style=\"fill:none;stroke-width:0.3985;stroke-linecap:butt;stroke-linejoin:miter;stroke:rgb(0%,0%,0%);stroke-opacity:1;stroke-dasharray:2.98883,1.99255;stroke-miterlimit:10;\" d=\"M 53.703844 114.829406 L 53.703844 121.360656 L 62.434312 121.360656 L 62.434312 114.829406 L 53.703844 114.829406 \" transform=\"matrix(1,0,0,-1,35.761,148.138)\"/>\n",
       "<path style=\"fill:none;stroke-width:0.3985;stroke-linecap:butt;stroke-linejoin:miter;stroke:rgb(0%,0%,100%);stroke-opacity:1;stroke-dasharray:2.98883,1.99255;stroke-miterlimit:10;\" d=\"M 71.633531 58.895812 L 71.633531 58.895812 \" transform=\"matrix(1,0,0,-1,35.761,148.138)\"/>\n",
       "<path style=\"fill:none;stroke-width:0.3985;stroke-linecap:butt;stroke-linejoin:miter;stroke:rgb(100%,0%,0%);stroke-opacity:1;stroke-dasharray:2.98883,1.99255;stroke-miterlimit:10;\" d=\"M 95.543688 62.282531 L 95.543688 64.411437 L 102.465563 64.411437 L 102.465563 62.282531 L 95.543688 62.282531 \" transform=\"matrix(1,0,0,-1,35.761,148.138)\"/>\n",
       "<path style=\"fill:none;stroke-width:0.3985;stroke-linecap:butt;stroke-linejoin:miter;stroke:rgb(0%,0%,100%);stroke-opacity:1;stroke-miterlimit:10;\" d=\"M 115.578844 85.489562 L 115.578844 94.415344 L 128.379625 94.415344 L 128.379625 85.489562 L 115.578844 85.489562 \" transform=\"matrix(1,0,0,-1,35.761,148.138)\"/>\n",
       "<path style=\"fill:none;stroke-width:0.3985;stroke-linecap:butt;stroke-linejoin:miter;stroke:rgb(100%,0%,0%);stroke-opacity:1;stroke-miterlimit:10;\" d=\"M 153.106188 39.532531 L 153.106188 44.442687 L 158.824938 44.442687 L 158.824938 39.532531 L 153.106188 39.532531 \" transform=\"matrix(1,0,0,-1,35.761,148.138)\"/>\n",
       "<path style=\"fill:none;stroke-width:0.3985;stroke-linecap:butt;stroke-linejoin:miter;stroke:rgb(44.999695%,29.998779%,14.99939%);stroke-opacity:1;stroke-miterlimit:10;\" d=\"M 112.348375 7.516906 L 112.348375 15.247375 L 116.742906 15.247375 L 116.742906 7.516906 L 112.348375 7.516906 \" transform=\"matrix(1,0,0,-1,35.761,148.138)\"/>\n",
       "<path style=\"fill:none;stroke-width:0.3985;stroke-linecap:butt;stroke-linejoin:miter;stroke:rgb(0%,0%,0%);stroke-opacity:1;stroke-miterlimit:10;\" d=\"M 150.949938 83.782531 L 150.949938 93.532531 L 161.903063 93.532531 L 161.903063 83.782531 L 150.949938 83.782531 \" transform=\"matrix(1,0,0,-1,35.761,148.138)\"/>\n",
       "<path style=\"fill:none;stroke-width:0.3985;stroke-linecap:butt;stroke-linejoin:miter;stroke:rgb(0%,0%,100%);stroke-opacity:1;stroke-miterlimit:10;\" d=\"M 141.227281 39.817687 L 141.227281 51.173156 L 151.739 51.173156 L 151.739 39.817687 L 141.227281 39.817687 \" transform=\"matrix(1,0,0,-1,35.761,148.138)\"/>\n",
       "<path style=\"fill:none;stroke-width:0.3985;stroke-linecap:butt;stroke-linejoin:miter;stroke:rgb(100%,0%,0%);stroke-opacity:1;stroke-dasharray:2.98883,1.99255;stroke-miterlimit:10;\" d=\"M 115.758531 71.641906 L 115.758531 81.360656 L 120.781969 81.360656 L 120.781969 71.641906 L 115.758531 71.641906 \" transform=\"matrix(1,0,0,-1,35.761,148.138)\"/>\n",
       "<path style=\"fill:none;stroke-width:0.3985;stroke-linecap:butt;stroke-linejoin:miter;stroke:rgb(44.999695%,29.998779%,14.99939%);stroke-opacity:1;stroke-dasharray:2.98883,1.99255;stroke-miterlimit:10;\" d=\"M 80.602281 24.786437 L 80.602281 31.876281 L 92.317125 31.876281 L 92.317125 24.786437 L 80.602281 24.786437 \" transform=\"matrix(1,0,0,-1,35.761,148.138)\"/>\n",
       "<path style=\"fill:none;stroke-width:0.3985;stroke-linecap:butt;stroke-linejoin:miter;stroke:rgb(0%,0%,0%);stroke-opacity:1;stroke-dasharray:2.98883,1.99255;stroke-miterlimit:10;\" d=\"M 142.821031 116.180969 L 142.821031 118.770812 L 147.442125 118.770812 L 147.442125 116.180969 L 142.821031 116.180969 \" transform=\"matrix(1,0,0,-1,35.761,148.138)\"/>\n",
       "<path style=\"fill:none;stroke-width:0.3985;stroke-linecap:butt;stroke-linejoin:miter;stroke:rgb(0%,0%,100%);stroke-opacity:1;stroke-dasharray:2.98883,1.99255;stroke-miterlimit:10;\" d=\"M 69.242906 122.809875 L 69.242906 128.85675 L 73.504625 128.85675 L 73.504625 122.809875 L 69.242906 122.809875 \" transform=\"matrix(1,0,0,-1,35.761,148.138)\"/>\n",
       "<path style=\"fill:none;stroke-width:0.3985;stroke-linecap:butt;stroke-linejoin:miter;stroke:rgb(100%,0%,0%);stroke-opacity:1;stroke-dasharray:2.98883,1.99255;stroke-miterlimit:10;\" d=\"M 35.922594 91.91925 L 35.922594 98.2005 L 42.977281 98.2005 L 42.977281 91.91925 L 35.922594 91.91925 \" transform=\"matrix(1,0,0,-1,35.761,148.138)\"/>\n",
       "<path style=\"fill:none;stroke-width:0.3985;stroke-linecap:butt;stroke-linejoin:miter;stroke:rgb(0%,0%,100%);stroke-opacity:1;stroke-miterlimit:10;\" d=\"M 38.785875 38.313781 L 38.785875 43.864562 L 49.563219 43.864562 L 49.563219 38.313781 L 38.785875 38.313781 \" transform=\"matrix(1,0,0,-1,35.761,148.138)\"/>\n",
       "<path style=\"fill:none;stroke-width:0.3985;stroke-linecap:butt;stroke-linejoin:miter;stroke:rgb(100%,0%,0%);stroke-opacity:1;stroke-miterlimit:10;\" d=\"M 123.387438 59.841125 L 123.387438 68.716125 L 137.047594 68.716125 L 137.047594 59.841125 L 123.387438 59.841125 \" transform=\"matrix(1,0,0,-1,35.761,148.138)\"/>\n",
       "<path style=\"fill:none;stroke-width:0.3985;stroke-linecap:butt;stroke-linejoin:miter;stroke:rgb(44.999695%,29.998779%,14.99939%);stroke-opacity:1;stroke-miterlimit:10;\" d=\"M 1.910875 2.759094 L 1.910875 10.579406 L 7.750719 10.579406 L 7.750719 2.759094 L 1.910875 2.759094 \" transform=\"matrix(1,0,0,-1,35.761,148.138)\"/>\n",
       "<path style=\"fill:none;stroke-width:0.3985;stroke-linecap:butt;stroke-linejoin:miter;stroke:rgb(0%,0%,0%);stroke-opacity:1;stroke-miterlimit:10;\" d=\"M 3.860094 22.399719 L 3.860094 27.704406 L 12.192125 27.704406 L 12.192125 22.399719 L 3.860094 22.399719 \" transform=\"matrix(1,0,0,-1,35.761,148.138)\"/>\n",
       "<path style=\"fill:none;stroke-width:0.3985;stroke-linecap:butt;stroke-linejoin:miter;stroke:rgb(0%,0%,100%);stroke-opacity:1;stroke-miterlimit:10;\" d=\"M 148.219469 39.384094 L 148.219469 49.360656 L 161.235094 49.360656 L 161.235094 39.384094 L 148.219469 39.384094 \" transform=\"matrix(1,0,0,-1,35.761,148.138)\"/>\n",
       "<path style=\"fill:none;stroke-width:0.3985;stroke-linecap:butt;stroke-linejoin:miter;stroke:rgb(100%,0%,0%);stroke-opacity:1;stroke-dasharray:2.98883,1.99255;stroke-miterlimit:10;\" d=\"M 151.508531 74.634094 L 151.508531 81.684875 L 155.860094 81.684875 L 155.860094 74.634094 L 151.508531 74.634094 \" transform=\"matrix(1,0,0,-1,35.761,148.138)\"/>\n",
       "<path style=\"fill:none;stroke-width:0.3985;stroke-linecap:butt;stroke-linejoin:miter;stroke:rgb(44.999695%,29.998779%,14.99939%);stroke-opacity:1;stroke-dasharray:2.98883,1.99255;stroke-miterlimit:10;\" d=\"M 67.992906 77.989562 L 67.992906 86.048156 L 76.879625 86.048156 L 76.879625 77.989562 L 67.992906 77.989562 \" transform=\"matrix(1,0,0,-1,35.761,148.138)\"/>\n",
       "<path style=\"fill:none;stroke-width:0.3985;stroke-linecap:butt;stroke-linejoin:miter;stroke:rgb(0%,0%,0%);stroke-opacity:1;stroke-dasharray:2.98883,1.99255;stroke-miterlimit:10;\" d=\"M 133.660875 105.388 L 133.660875 115.255187 L 142.262438 115.255187 L 142.262438 105.388 L 133.660875 105.388 \" transform=\"matrix(1,0,0,-1,35.761,148.138)\"/>\n",
       "<path style=\"fill:none;stroke-width:0.3985;stroke-linecap:butt;stroke-linejoin:miter;stroke:rgb(0%,0%,100%);stroke-opacity:1;stroke-dasharray:2.98883,1.99255;stroke-miterlimit:10;\" d=\"M 18.778062 17.860656 L 18.778062 26.970031 L 31.078844 26.970031 L 31.078844 17.860656 L 18.778062 17.860656 \" transform=\"matrix(1,0,0,-1,35.761,148.138)\"/>\n",
       "<path style=\"fill:none;stroke-width:0.3985;stroke-linecap:butt;stroke-linejoin:miter;stroke:rgb(100%,0%,0%);stroke-opacity:1;stroke-dasharray:2.98883,1.99255;stroke-miterlimit:10;\" d=\"M 124.504625 105.055969 L 124.504625 112.962219 L 135.938219 112.962219 L 135.938219 105.055969 L 124.504625 105.055969 \" transform=\"matrix(1,0,0,-1,35.761,148.138)\"/>\n",
       "<path style=\"fill:none;stroke-width:0.3985;stroke-linecap:butt;stroke-linejoin:miter;stroke:rgb(0%,0%,100%);stroke-opacity:1;stroke-miterlimit:10;\" d=\"M 146.012438 112.360656 L 146.012438 121.884094 L 158.453844 121.884094 L 158.453844 112.360656 L 146.012438 112.360656 \" transform=\"matrix(1,0,0,-1,35.761,148.138)\"/>\n",
       "<path style=\"fill:none;stroke-width:0.3985;stroke-linecap:butt;stroke-linejoin:miter;stroke:rgb(100%,0%,0%);stroke-opacity:1;stroke-miterlimit:10;\" d=\"M 145.504625 78.677062 L 145.504625 88.989562 L 158.492906 88.989562 L 158.492906 78.677062 L 145.504625 78.677062 \" transform=\"matrix(1,0,0,-1,35.761,148.138)\"/>\n",
       "<path style=\"fill:none;stroke-width:0.3985;stroke-linecap:butt;stroke-linejoin:miter;stroke:rgb(44.999695%,29.998779%,14.99939%);stroke-opacity:1;stroke-miterlimit:10;\" d=\"M 141.004625 36.0755 L 141.004625 48.079406 L 146.473375 48.079406 L 146.473375 36.0755 L 141.004625 36.0755 \" transform=\"matrix(1,0,0,-1,35.761,148.138)\"/>\n",
       "<path style=\"fill:none;stroke-width:0.3985;stroke-linecap:butt;stroke-linejoin:miter;stroke:rgb(0%,0%,0%);stroke-opacity:1;stroke-miterlimit:10;\" d=\"M 141.375719 114.302062 L 141.375719 122.282531 L 151.969469 122.282531 L 151.969469 114.302062 L 141.375719 114.302062 \" transform=\"matrix(1,0,0,-1,35.761,148.138)\"/>\n",
       "<path style=\"fill:none;stroke-width:0.3985;stroke-linecap:butt;stroke-linejoin:miter;stroke:rgb(0%,0%,100%);stroke-opacity:1;stroke-miterlimit:10;\" d=\"M 146.817125 88.786437 L 146.817125 96.962219 L 156.715563 96.962219 L 156.715563 88.786437 L 146.817125 88.786437 \" transform=\"matrix(1,0,0,-1,35.761,148.138)\"/>\n",
       "<path style=\"fill:none;stroke-width:0.3985;stroke-linecap:butt;stroke-linejoin:miter;stroke:rgb(100%,0%,0%);stroke-opacity:1;stroke-dasharray:2.98883,1.99255;stroke-miterlimit:10;\" d=\"M 111.375719 64.751281 L 111.375719 76.313781 L 121.375719 76.313781 L 121.375719 64.751281 L 111.375719 64.751281 \" transform=\"matrix(1,0,0,-1,35.761,148.138)\"/>\n",
       "<path style=\"fill:none;stroke-width:0.3985;stroke-linecap:butt;stroke-linejoin:miter;stroke:rgb(44.999695%,29.998779%,14.99939%);stroke-opacity:1;stroke-dasharray:2.98883,1.99255;stroke-miterlimit:10;\" d=\"M 108.289781 116.954406 L 108.289781 125.032531 L 119.528063 125.032531 L 119.528063 116.954406 L 108.289781 116.954406 \" transform=\"matrix(1,0,0,-1,35.761,148.138)\"/>\n",
       "<path style=\"fill:none;stroke-width:0.3985;stroke-linecap:butt;stroke-linejoin:miter;stroke:rgb(0%,0%,0%);stroke-opacity:1;stroke-dasharray:2.98883,1.99255;stroke-miterlimit:10;\" d=\"M 122.524156 106.212219 L 122.524156 112.352844 L 130.969469 112.352844 L 130.969469 106.212219 L 122.524156 106.212219 \" transform=\"matrix(1,0,0,-1,35.761,148.138)\"/>\n",
       "<path style=\"fill:none;stroke-width:0.3985;stroke-linecap:butt;stroke-linejoin:miter;stroke:rgb(0%,0%,100%);stroke-opacity:1;stroke-dasharray:2.98883,1.99255;stroke-miterlimit:10;\" d=\"M 43.70775 80.8255 L 43.70775 92.809875 L 50.821031 92.809875 L 50.821031 80.8255 L 43.70775 80.8255 \" transform=\"matrix(1,0,0,-1,35.761,148.138)\"/>\n",
       "<path style=\"fill:none;stroke-width:0.3985;stroke-linecap:butt;stroke-linejoin:miter;stroke:rgb(100%,0%,0%);stroke-opacity:1;stroke-dasharray:2.98883,1.99255;stroke-miterlimit:10;\" d=\"M 43.860094 12.153625 L 43.860094 17.368469 L 55.668687 17.368469 L 55.668687 12.153625 L 43.860094 12.153625 \" transform=\"matrix(1,0,0,-1,35.761,148.138)\"/>\n",
       "<path style=\"fill:none;stroke-width:0.3985;stroke-linecap:butt;stroke-linejoin:miter;stroke:rgb(0%,0%,100%);stroke-opacity:1;stroke-miterlimit:10;\" d=\"M 116.555406 46.591125 L 116.555406 53.270812 L 127.965563 53.270812 L 127.965563 46.591125 L 116.555406 46.591125 \" transform=\"matrix(1,0,0,-1,35.761,148.138)\"/>\n",
       "<path style=\"fill:none;stroke-width:0.3985;stroke-linecap:butt;stroke-linejoin:miter;stroke:rgb(100%,0%,0%);stroke-opacity:1;stroke-miterlimit:10;\" d=\"M 22.836656 55.2005 L 22.836656 65.626281 L 31.364 65.626281 L 31.364 55.2005 L 22.836656 55.2005 \" transform=\"matrix(1,0,0,-1,35.761,148.138)\"/>\n",
       "<path style=\"fill:none;stroke-width:0.3985;stroke-linecap:butt;stroke-linejoin:miter;stroke:rgb(44.999695%,29.998779%,14.99939%);stroke-opacity:1;stroke-miterlimit:10;\" d=\"M 0.00071875 18.509094 L 0.00071875 28.247375 L 11.485094 28.247375 L 11.485094 18.509094 L 0.00071875 18.509094 \" transform=\"matrix(1,0,0,-1,35.761,148.138)\"/>\n",
       "<path style=\"fill:none;stroke-width:0.3985;stroke-linecap:butt;stroke-linejoin:miter;stroke:rgb(0%,0%,0%);stroke-opacity:1;stroke-miterlimit:10;\" d=\"M 7.211656 81.680969 L 7.211656 87.430969 L 14.149156 87.430969 L 14.149156 81.680969 L 7.211656 81.680969 \" transform=\"matrix(1,0,0,-1,35.761,148.138)\"/>\n",
       "<path style=\"fill:none;stroke-width:0.3985;stroke-linecap:butt;stroke-linejoin:miter;stroke:rgb(0%,0%,100%);stroke-opacity:1;stroke-miterlimit:10;\" d=\"M 140.938219 124.595031 L 140.938219 131.720031 L 148.754625 131.720031 L 148.754625 124.595031 L 140.938219 124.595031 \" transform=\"matrix(1,0,0,-1,35.761,148.138)\"/>\n",
       "<path style=\"fill:none;stroke-width:0.3985;stroke-linecap:butt;stroke-linejoin:miter;stroke:rgb(100%,0%,0%);stroke-opacity:1;stroke-dasharray:2.98883,1.99255;stroke-miterlimit:10;\" d=\"M 11.70775 47.591125 L 11.70775 53.970031 L 26.563219 53.970031 L 26.563219 47.591125 L 11.70775 47.591125 \" transform=\"matrix(1,0,0,-1,35.761,148.138)\"/>\n",
       "<path style=\"fill:none;stroke-width:0.3985;stroke-linecap:butt;stroke-linejoin:miter;stroke:rgb(44.999695%,29.998779%,14.99939%);stroke-opacity:1;stroke-dasharray:2.98883,1.99255;stroke-miterlimit:10;\" d=\"M 45.531969 59.263 L 45.531969 67.485656 L 55.535875 67.485656 L 55.535875 59.263 L 45.531969 59.263 \" transform=\"matrix(1,0,0,-1,35.761,148.138)\"/>\n",
       "<path style=\"fill:none;stroke-width:0.3985;stroke-linecap:butt;stroke-linejoin:miter;stroke:rgb(0%,0%,0%);stroke-opacity:1;stroke-dasharray:2.98883,1.99255;stroke-miterlimit:10;\" d=\"M 107.383531 98.368469 L 107.383531 103.567687 L 119.340563 103.567687 L 119.340563 98.368469 L 107.383531 98.368469 \" transform=\"matrix(1,0,0,-1,35.761,148.138)\"/>\n",
       "<path style=\"fill:none;stroke-width:0.3985;stroke-linecap:butt;stroke-linejoin:miter;stroke:rgb(0%,0%,100%);stroke-opacity:1;stroke-dasharray:2.98883,1.99255;stroke-miterlimit:10;\" d=\"M 78.992906 94.005187 L 78.992906 105.235656 L 87.137438 105.235656 L 87.137438 94.005187 L 78.992906 94.005187 \" transform=\"matrix(1,0,0,-1,35.761,148.138)\"/>\n",
       "<path style=\"fill:none;stroke-width:0.3985;stroke-linecap:butt;stroke-linejoin:miter;stroke:rgb(100%,0%,0%);stroke-opacity:1;stroke-dasharray:2.98883,1.99255;stroke-miterlimit:10;\" d=\"M 92.473375 22.255187 L 92.473375 32.79425 L 97.453844 32.79425 L 97.453844 22.255187 L 92.473375 22.255187 \" transform=\"matrix(1,0,0,-1,35.761,148.138)\"/>\n",
       "<path style=\"fill:none;stroke-width:0.3985;stroke-linecap:butt;stroke-linejoin:miter;stroke:rgb(0%,0%,100%);stroke-opacity:1;stroke-miterlimit:10;\" d=\"M 27.414781 73.786437 L 27.414781 80.891906 L 31.524156 80.891906 L 31.524156 73.786437 L 27.414781 73.786437 \" transform=\"matrix(1,0,0,-1,35.761,148.138)\"/>\n",
       "</g>\n",
       "</svg>\n",
       "\n"
      ],
      "text/plain": [
       "PGFPlots.Axis(PGFPlots.Plots.Plot[PGFPlots.Plots.Linear(Real[2.99454 2.99454 … 3.59243 2.99454; -0.150818 0.547992 … -0.150818 -0.150818], \"none\", nothing, nothing, nothing, nothing, nothing), PGFPlots.Plots.Linear(Real[-0.686638 -0.686638 … 0.0281793 -0.686638; 3.43365 3.67937 … 3.43365 3.43365], \"none\", nothing, nothing, nothing, nothing, nothing), PGFPlots.Plots.Linear(Real[-0.668077 -0.668077 … 0.0945349 -0.668077; -4.28685 -3.74426 … -4.28685 -4.28685], \"none\", nothing, nothing, nothing, nothing, nothing), PGFPlots.Plots.Linear(Real[-1.41316 -1.41316 … -0.663632 -1.41316; 4.63329 4.90502 … 4.63329 4.63329], \"none\", nothing, nothing, nothing, nothing, nothing), PGFPlots.Plots.Linear(Real[4.03388 4.03388 … 4.86697 4.03388; -1.82054 -1.37658 … -1.82054 -1.82054], \"none\", nothing, nothing, nothing, nothing, nothing), PGFPlots.Plots.Linear(Real[1.52754 1.52754 … 2.23718 1.52754; -0.834057 0.0641316 … -0.834057 -0.834057], \"none\", nothing, nothing, nothing, nothing, nothing), PGFPlots.Plots.Linear(Real[-2.74143 -2.74143 … -1.93578 -2.74143; -4.05463 -3.42173 … -4.05463 -4.05463], \"none\", nothing, nothing, nothing, nothing, nothing), PGFPlots.Plots.Linear(Real[-1.89736 -1.89736 … -1.0093 -1.89736; -2.69437 -2.1002 … -2.69437 -2.69437], \"none\", nothing, nothing, nothing, nothing, nothing), PGFPlots.Plots.Linear(Real[-1.88541 -1.88541 … -1.51546 -1.88541; -0.23374 0.335863 … -0.23374 -0.23374], \"none\", nothing, nothing, nothing, nothing, nothing), PGFPlots.Plots.Linear(Real[-3.27883 -3.27883 … -2.75681 -3.27883; 1.40043 1.81143 … 1.40043 1.40043], \"none\", nothing, nothing, nothing, nothing, nothing)  …  PGFPlots.Plots.Linear(Real[-3.20336 -3.20336 … -2.64345 -3.20336; -0.284322 0.517666 … -0.284322 -0.284322], \"none\", nothing, nothing, nothing, nothing, nothing), PGFPlots.Plots.Linear(Real[-4.70241 -4.70241 … -3.94857 -4.70241; -3.10679 -2.35772 … -3.10679 -3.10679], \"none\", nothing, nothing, nothing, nothing, nothing), PGFPlots.Plots.Linear(Real[-4.22888 -4.22888 … -3.77357 -4.22888; 1.75273 2.19497 … 1.75273 1.75273], \"none\", nothing, nothing, nothing, nothing, nothing), PGFPlots.Plots.Linear(Real[4.54978 4.54978 … 5.06279 4.54978; 5.05386 5.60202 … 5.05386 5.05386], \"none\", nothing, nothing, nothing, nothing, nothing), PGFPlots.Plots.Linear(Real[-3.93395 -3.93395 … -2.95862 -3.93395; -0.869638 -0.379032 … -0.869638 -0.869638], \"none\", nothing, nothing, nothing, nothing, nothing), PGFPlots.Plots.Linear(Real[-1.71327 -1.71327 … -1.05663 -1.71327; 0.0280935 0.660632 … 0.0280935 0.0280935], \"none\", nothing, nothing, nothing, nothing, nothing), PGFPlots.Plots.Linear(Real[2.34697 2.34697 … 3.13194 2.34697; 3.03646 3.43629 … 3.03646 3.03646], \"none\", nothing, nothing, nothing, nothing, nothing), PGFPlots.Plots.Linear(Real[0.483147 0.483147 … 1.01779 0.483147; 2.70068 3.56483 … 2.70068 2.70068], \"none\", nothing, nothing, nothing, nothing, nothing), PGFPlots.Plots.Linear(Real[1.36829 1.36829 … 1.69511 1.36829; -2.81864 -2.00811 … -2.81864 -2.81864], \"none\", nothing, nothing, nothing, nothing, nothing), PGFPlots.Plots.Linear(Real[-2.90271 -2.90271 … -2.63289 -2.90271; 1.1455 1.69197 … 1.1455 1.1455], \"none\", nothing, nothing, nothing, nothing, nothing)], nothing, nothing, nothing, nothing, nothing, nothing, nothing, nothing, nothing, nothing, nothing, nothing, nothing, nothing, nothing, nothing, nothing, nothing, nothing, nothing, nothing, nothing, nothing, nothing, nothing, nothing, \"axis\")"
      ]
     },
     "execution_count": 17,
     "metadata": {},
     "output_type": "execute_result"
    }
   ],
   "source": [
    "elements = vcat([drawBox(node.rec) for node in values(nodes)]...)\n",
    "Axis(elements)"
   ]
  },
  {
   "cell_type": "code",
   "execution_count": null,
   "metadata": {},
   "outputs": [],
   "source": [
    "frontier = Set(collect(1:length(objects)))\n",
    "explored = Set()\n",
    "M = 4\n",
    "m = 1\n",
    "\n",
    "next_id = root_node.id + 1\n",
    "\n",
    "while length(frontier) > 0\n",
    "    object_id = pop!(frontier)\n",
    "    push!(object_id, explored)\n",
    "    \n",
    "    parent = nodes[0] # root node\n",
    "    \n",
    "    # traverse tree and determine where to add node\n",
    "    node = root_node\n",
    "    \n",
    "    eligible_nodes = []\n",
    "    if length(node.children) < M\n",
    "        next_node = InternalNode(next_id, Array{Int,1}(), node.id, object_rects[object_id])\n",
    "        rtree.nodes[next_node.id] = next_node\n",
    "    else\n",
    "        ΔV = [ComputeVolume(Union(H, next_node.rect)) - ComputeVolume(next_node.rect) for next_node in node.children]\n",
    "        insertion_rank = sortperm(ΔV)\n",
    "        for next_node in node.children\n",
    "        end\n",
    "    end\n",
    "\n",
    "    \n",
    "end"
   ]
  },
  {
   "cell_type": "code",
   "execution_count": null,
   "metadata": {},
   "outputs": [],
   "source": [
    "Q = rand(object_rects)"
   ]
  },
  {
   "cell_type": "code",
   "execution_count": null,
   "metadata": {},
   "outputs": [],
   "source": [
    "function RangeSearch(rtree, root_node, Q)\n",
    "    \"\"\"\n",
    "    Searches through the tree and returns all nodes whose bounding hyper-rectangle intersects with query Q\n",
    "    \"\"\"\n",
    "    frontier = Set(root_node.id)\n",
    "    intersections = Set()\n",
    "    explored = Set()\n",
    "\n",
    "    while length(frontier) > 0\n",
    "        node_id = pop!(frontier)\n",
    "        node = rtree.nodes[node_id]\n",
    "        for child_node_id in node.children\n",
    "            child_node = rtree.nodes[child_node_id]\n",
    "            if CheckIntersection(child_node.rect, Q)\n",
    "                push!(frontier, child_node_id)\n",
    "            end\n",
    "        end\n",
    "        push!(explored, node_id)\n",
    "    end\n",
    "    return explored\n",
    "end"
   ]
  },
  {
   "cell_type": "code",
   "execution_count": null,
   "metadata": {},
   "outputs": [],
   "source": [
    "function getLocalIntersections(rtree, root_node, Q)\n",
    "    if length(root_node.children) > 0\n",
    "        ΔV = Array{Float64,1}(\n",
    "            [ComputeVolume(Intersection(H, node.rect)) - ComputeVolume(node.rect) for node in root_node.children])\n",
    "        intersection_ids = root_node.children[ΔV > 0]\n",
    "        ΔV = ΔV[ΔV > 0]\n",
    "        return intersections, ΔV\n",
    "    else\n",
    "        return Array{Int64,1}(),Array{Float64,1}()\n",
    "    end\n",
    "end\n",
    "function ComputeLocalUnionVolumes(rtree, root_node, Q)\n",
    "    if length(root_node.children) > 0\n",
    "        ΔV = Array{Float64,1}(\n",
    "            [ComputeVolume(Union(H, node.rect)) - ComputeVolume(node.rect) for node in root_node.children])\n",
    "        return ΔV\n",
    "    else\n",
    "        return Array{Float64,1}()\n",
    "    end\n",
    "end"
   ]
  },
  {
   "cell_type": "code",
   "execution_count": null,
   "metadata": {},
   "outputs": [],
   "source": [
    "explored_ids = RangeSearch(rtree, root_node, Q)"
   ]
  },
  {
   "cell_type": "code",
   "execution_count": null,
   "metadata": {},
   "outputs": [],
   "source": [
    "getLocalIntersections(rtree, root_node, Q)"
   ]
  },
  {
   "cell_type": "markdown",
   "metadata": {
    "collapsed": true
   },
   "source": [
    "# Construct RTree"
   ]
  },
  {
   "cell_type": "code",
   "execution_count": null,
   "metadata": {},
   "outputs": [],
   "source": [
    "\n",
    "root_node = HyperRectangle([0.0,0.0],[0.0,0.0])"
   ]
  },
  {
   "cell_type": "code",
   "execution_count": null,
   "metadata": {},
   "outputs": [],
   "source": [
    "clusters = [rand(2,10) .+ 5*rand(2,1) for i in 1:20]\n",
    "bboxes = [compute_bounding_box(c) for c in clusters]\n",
    "Axis(\n",
    "    vcat(\n",
    "        [Plots.Linear(cluster[1,:],cluster[2,:],onlyMarks=true) for cluster in clusters]...,\n",
    "        [drawBox(b) for b in bboxes]...\n",
    "    )\n",
    ")"
   ]
  },
  {
   "cell_type": "code",
   "execution_count": null,
   "metadata": {},
   "outputs": [],
   "source": [
    "struct RNode\n",
    "    id::Int\n",
    "    parent::Int\n",
    "    children::Set{Int}\n",
    "    rect::HyperRectangle\n",
    "end"
   ]
  },
  {
   "cell_type": "code",
   "execution_count": null,
   "metadata": {},
   "outputs": [],
   "source": [
    "nodes = Dict()\n",
    "for (i,c) in enumerate(clusters)\n",
    "    nodes[i] = RNode(i,0,Set(),compute_bounding_box(c))\n",
    "end"
   ]
  },
  {
   "cell_type": "code",
   "execution_count": null,
   "metadata": {
    "collapsed": true
   },
   "outputs": [],
   "source": []
  }
 ],
 "metadata": {
  "kernelspec": {
   "display_name": "Julia 0.6.1",
   "language": "julia",
   "name": "julia-0.6"
  },
  "language_info": {
   "file_extension": ".jl",
   "mimetype": "application/julia",
   "name": "julia",
   "version": "0.6.1"
  }
 },
 "nbformat": 4,
 "nbformat_minor": 2
}
