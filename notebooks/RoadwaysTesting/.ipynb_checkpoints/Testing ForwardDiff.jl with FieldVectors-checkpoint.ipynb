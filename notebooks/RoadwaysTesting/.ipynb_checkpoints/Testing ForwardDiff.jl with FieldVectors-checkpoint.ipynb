{
 "cells": [
  {
   "cell_type": "code",
   "execution_count": 1,
   "metadata": {},
   "outputs": [
    {
     "name": "stderr",
     "output_type": "stream",
     "text": [
      "\u001b[1m\u001b[36mINFO: \u001b[39m\u001b[22m\u001b[36mRecompiling stale cache file /home/kylebrown/.julia/lib/v0.6/ForwardDiff.ji for module ForwardDiff.\n",
      "\u001b[39m"
     ]
    }
   ],
   "source": [
    "using StaticArrays\n",
    "using ForwardDiff"
   ]
  },
  {
   "cell_type": "markdown",
   "metadata": {},
   "source": [
    "# AutomaticDifferentiation"
   ]
  },
  {
   "cell_type": "code",
   "execution_count": 2,
   "metadata": {
    "collapsed": true
   },
   "outputs": [],
   "source": [
    "struct Point{R<:Real} <: FieldVector{2,R}\n",
    "    x::R\n",
    "    y::R\n",
    "end"
   ]
  },
  {
   "cell_type": "code",
   "execution_count": 3,
   "metadata": {
    "collapsed": true
   },
   "outputs": [],
   "source": [
    "StaticArrays.similar_type(p::Type{P}, ::Type{R}, size::Size{(2,)}) where {P<:Point, R<:Real} = Point{R}"
   ]
  },
  {
   "cell_type": "code",
   "execution_count": 4,
   "metadata": {},
   "outputs": [
    {
     "data": {
      "text/plain": [
       "2-element Point{Float64}:\n",
       " 2.0\n",
       " 3.0"
      ]
     },
     "execution_count": 4,
     "metadata": {},
     "output_type": "execute_result"
    }
   ],
   "source": [
    "p = Point(2.0,3.0)"
   ]
  },
  {
   "cell_type": "code",
   "execution_count": 5,
   "metadata": {},
   "outputs": [],
   "source": [
    "import ForwardDiff: dualize, Chunk, Dual"
   ]
  },
  {
   "cell_type": "code",
   "execution_count": 6,
   "metadata": {},
   "outputs": [
    {
     "ename": "LoadError",
     "evalue": "\u001b[91mtype MArray has no field x\u001b[39m",
     "output_type": "error",
     "traceback": [
      "\u001b[91mtype MArray has no field x\u001b[39m",
      "",
      "Stacktrace:",
      " [1] \u001b[1mf\u001b[22m\u001b[22m\u001b[1m(\u001b[22m\u001b[22m::MVector{2,ForwardDiff.Dual{ForwardDiff.Tag{#f,Float64},Float64,2}}\u001b[1m)\u001b[22m\u001b[22m at \u001b[1m./In[6]:1\u001b[22m\u001b[22m",
      " [2] \u001b[1mvector_mode_gradient\u001b[22m\u001b[22m at \u001b[1m/home/kylebrown/.julia/v0.6/ForwardDiff/src/gradient.jl:102\u001b[22m\u001b[22m [inlined]",
      " [3] \u001b[1mgradient\u001b[22m\u001b[22m\u001b[1m(\u001b[22m\u001b[22m::Function, ::Point{Float64}, ::ForwardDiff.GradientConfig{ForwardDiff.Tag{#f,Float64},Float64,2,MVector{2,ForwardDiff.Dual{ForwardDiff.Tag{#f,Float64},Float64,2}}}, ::Val{true}\u001b[1m)\u001b[22m\u001b[22m at \u001b[1m/home/kylebrown/.julia/v0.6/ForwardDiff/src/gradient.jl:17\u001b[22m\u001b[22m",
      " [4] \u001b[1mgradient\u001b[22m\u001b[22m\u001b[1m(\u001b[22m\u001b[22m::Function, ::Point{Float64}, ::ForwardDiff.GradientConfig{ForwardDiff.Tag{#f,Float64},Float64,2,MVector{2,ForwardDiff.Dual{ForwardDiff.Tag{#f,Float64},Float64,2}}}\u001b[1m)\u001b[22m\u001b[22m at \u001b[1m/home/kylebrown/.julia/v0.6/ForwardDiff/src/gradient.jl:15\u001b[22m\u001b[22m (repeats 2 times)",
      " [5] \u001b[1minclude_string\u001b[22m\u001b[22m\u001b[1m(\u001b[22m\u001b[22m::String, ::String\u001b[1m)\u001b[22m\u001b[22m at \u001b[1m./loading.jl:522\u001b[22m\u001b[22m"
     ]
    }
   ],
   "source": [
    "f(p) = p.x\n",
    "ForwardDiff.gradient(f, Point(2.0,3.0))"
   ]
  },
  {
   "cell_type": "code",
   "execution_count": 7,
   "metadata": {},
   "outputs": [
    {
     "data": {
      "text/plain": [
       "3-element SVector{3,Int64}:\n",
       " 1\n",
       " 1\n",
       " 1"
      ]
     },
     "execution_count": 7,
     "metadata": {},
     "output_type": "execute_result"
    }
   ],
   "source": [
    "f(p) = sum(p)\n",
    "ForwardDiff.gradient(f, SVector(1,2,3))"
   ]
  },
  {
   "cell_type": "code",
   "execution_count": 8,
   "metadata": {},
   "outputs": [
    {
     "data": {
      "text/plain": [
       "10×1 StaticArrays.SArray{Tuple{10,1},ForwardDiff.Dual{Float64,Float64,10},2,10}:\n",
       " Dual{Float64}(1.0,1.0,0.0,0.0,0.0,0.0,0.0,0.0,0.0,0.0,0.0)\n",
       " Dual{Float64}(1.0,0.0,1.0,0.0,0.0,0.0,0.0,0.0,0.0,0.0,0.0)\n",
       " Dual{Float64}(1.0,0.0,0.0,1.0,0.0,0.0,0.0,0.0,0.0,0.0,0.0)\n",
       " Dual{Float64}(1.0,0.0,0.0,0.0,1.0,0.0,0.0,0.0,0.0,0.0,0.0)\n",
       " Dual{Float64}(1.0,0.0,0.0,0.0,0.0,1.0,0.0,0.0,0.0,0.0,0.0)\n",
       " Dual{Float64}(1.0,0.0,0.0,0.0,0.0,0.0,1.0,0.0,0.0,0.0,0.0)\n",
       " Dual{Float64}(1.0,0.0,0.0,0.0,0.0,0.0,0.0,1.0,0.0,0.0,0.0)\n",
       " Dual{Float64}(1.0,0.0,0.0,0.0,0.0,0.0,0.0,0.0,1.0,0.0,0.0)\n",
       " Dual{Float64}(1.0,0.0,0.0,0.0,0.0,0.0,0.0,0.0,0.0,1.0,0.0)\n",
       " Dual{Float64}(1.0,0.0,0.0,0.0,0.0,0.0,0.0,0.0,0.0,0.0,1.0)"
      ]
     },
     "execution_count": 8,
     "metadata": {},
     "output_type": "execute_result"
    }
   ],
   "source": [
    "A = SArray{Tuple{10,1}}(ones(10))\n",
    "A_d = ForwardDiff.dualize(Float64, A)"
   ]
  },
  {
   "cell_type": "code",
   "execution_count": 9,
   "metadata": {},
   "outputs": [
    {
     "data": {
      "text/plain": [
       "2-element Point{ForwardDiff.Dual{Float64,Float64,2}}:\n",
       " Dual{Float64}(1.0,1.0,0.0)\n",
       " Dual{Float64}(2.0,0.0,1.0)"
      ]
     },
     "execution_count": 9,
     "metadata": {},
     "output_type": "execute_result"
    }
   ],
   "source": [
    "A = [1.0;2.0]\n",
    "P = Point(1.0,2.0)\n",
    "A_d = ForwardDiff.dualize(Float64, P)"
   ]
  },
  {
   "cell_type": "markdown",
   "metadata": {},
   "source": [
    "# Define generated dualize() method for FieldVectors"
   ]
  },
  {
   "cell_type": "code",
   "execution_count": 74,
   "metadata": {},
   "outputs": [
    {
     "data": {
      "text/plain": [
       "2-element Point{ForwardDiff.Dual{Float64,Float64,2}}:\n",
       " Dual{Float64}(2.0,1.0,0.0)\n",
       " Dual{Float64}(3.0,0.0,1.0)"
      ]
     },
     "execution_count": 74,
     "metadata": {},
     "output_type": "execute_result"
    }
   ],
   "source": [
    "p = Point(2.0,3.0)\n",
    "dualize(Float64, p)"
   ]
  },
  {
   "cell_type": "markdown",
   "metadata": {},
   "source": [
    "# extract_gradient"
   ]
  },
  {
   "cell_type": "code",
   "execution_count": 115,
   "metadata": {
    "collapsed": true
   },
   "outputs": [],
   "source": [
    "import ForwardDiff: extract_gradient, partials, vector_mode_gradient, Tag, Partials, extract_gradient!"
   ]
  },
  {
   "cell_type": "code",
   "execution_count": 103,
   "metadata": {},
   "outputs": [
    {
     "data": {
      "text/plain": [
       "extract_gradient (generic function with 2 methods)"
      ]
     },
     "execution_count": 103,
     "metadata": {},
     "output_type": "execute_result"
    }
   ],
   "source": [
    "@generated function extract_gradient(::Type{T}, y::Real, x::FieldVector{N,V}) where {T,N,V}\n",
    "    result = Expr(:tuple, [:(partials(T, y, $i)) for i in 1:N]...)\n",
    "    return quote\n",
    "        $(Expr(:meta, :inline))\n",
    "        return similar_type($x,$y)($result)\n",
    "    end\n",
    "end"
   ]
  },
  {
   "cell_type": "code",
   "execution_count": 121,
   "metadata": {},
   "outputs": [
    {
     "data": {
      "text/plain": [
       "2×1 Array{Float64,2}:\n",
       " 0.0\n",
       " 0.0"
      ]
     },
     "execution_count": 121,
     "metadata": {},
     "output_type": "execute_result"
    }
   ],
   "source": [
    "extract_gradient!(Float64, similar(x), 1.0)"
   ]
  },
  {
   "cell_type": "code",
   "execution_count": 135,
   "metadata": {},
   "outputs": [
    {
     "data": {
      "text/plain": [
       "2×1 StaticArrays.SArray{Tuple{2,1},Float64,2,2}:\n",
       " 0.0\n",
       " 0.0"
      ]
     },
     "execution_count": 135,
     "metadata": {},
     "output_type": "execute_result"
    }
   ],
   "source": [
    "extract_gradient(Float64, 1.0, sx)"
   ]
  },
  {
   "cell_type": "code",
   "execution_count": 138,
   "metadata": {},
   "outputs": [
    {
     "data": {
      "text/plain": [
       "2×1 StaticArrays.SArray{Tuple{2,1},Float64,2,2}:\n",
       " 0.945109\n",
       " 0.285648"
      ]
     },
     "execution_count": 138,
     "metadata": {},
     "output_type": "execute_result"
    }
   ],
   "source": [
    "SArray{Tuple{2,1}}(rand(2,1))"
   ]
  },
  {
   "cell_type": "code",
   "execution_count": 130,
   "metadata": {},
   "outputs": [
    {
     "data": {
      "text/plain": [
       "2-element Point{Float64}:\n",
       " 0.0\n",
       " 0.0"
      ]
     },
     "execution_count": 130,
     "metadata": {},
     "output_type": "execute_result"
    }
   ],
   "source": [
    "extract_gradient(Float64, 1.0, xp)"
   ]
  },
  {
   "cell_type": "code",
   "execution_count": 146,
   "metadata": {},
   "outputs": [
    {
     "data": {
      "text/plain": [
       "ForwardDiff.Partials{2,Float64}"
      ]
     },
     "execution_count": 146,
     "metadata": {},
     "output_type": "execute_result"
    }
   ],
   "source": [
    "partials(Float64, Partials{2,Float64}()"
   ]
  },
  {
   "cell_type": "code",
   "execution_count": 136,
   "metadata": {},
   "outputs": [
    {
     "data": {
      "text/plain": [
       "2×1 Array{Float64,2}:\n",
       " 0.115923\n",
       " 0.877779"
      ]
     },
     "execution_count": 136,
     "metadata": {},
     "output_type": "execute_result"
    }
   ],
   "source": [
    "vector_mode_gradient(prod, x, cfg)"
   ]
  },
  {
   "cell_type": "code",
   "execution_count": 139,
   "metadata": {},
   "outputs": [
    {
     "data": {
      "text/plain": [
       "2×1 StaticArrays.MArray{Tuple{2,1},Float64,2,2}:\n",
       " 0.115923\n",
       " 0.877779"
      ]
     },
     "execution_count": 139,
     "metadata": {},
     "output_type": "execute_result"
    }
   ],
   "source": [
    "vector_mode_gradient(prod, sx, scfg)"
   ]
  },
  {
   "cell_type": "code",
   "execution_count": 128,
   "metadata": {},
   "outputs": [
    {
     "data": {
      "text/plain": [
       "2-element Point{ForwardDiff.Dual{ForwardDiff.Tag{Base.#prod,Float64},Float64,2}}:\n",
       " Dual{ForwardDiff.Tag{Base.#prod,Float64}}(0.115923,0.0,0.0)\n",
       " Dual{ForwardDiff.Tag{Base.#prod,Float64}}(0.877779,0.0,0.0)"
      ]
     },
     "execution_count": 128,
     "metadata": {},
     "output_type": "execute_result"
    }
   ],
   "source": [
    "vector_mode_gradient(prod, xp)"
   ]
  },
  {
   "cell_type": "code",
   "execution_count": 44,
   "metadata": {
    "scrolled": true
   },
   "outputs": [
    {
     "data": {
      "text/plain": [
       "true"
      ]
     },
     "execution_count": 44,
     "metadata": {},
     "output_type": "execute_result"
    }
   ],
   "source": [
    "Point(1.0,2.0) == SArray(Point(1.0,2.0))"
   ]
  },
  {
   "cell_type": "code",
   "execution_count": 45,
   "metadata": {},
   "outputs": [
    {
     "data": {
      "text/plain": [
       "2×1 StaticArrays.MArray{Tuple{2,1},Float64,2,2}:\n",
       " 0.55987 \n",
       " 0.566277"
      ]
     },
     "execution_count": 45,
     "metadata": {},
     "output_type": "execute_result"
    }
   ],
   "source": [
    "vector_mode_gradient(prod, sx, cfg)"
   ]
  },
  {
   "cell_type": "code",
   "execution_count": 46,
   "metadata": {},
   "outputs": [
    {
     "data": {
      "text/plain": [
       "2-element MVector{2,Float64}:\n",
       " 0.55987 \n",
       " 0.566277"
      ]
     },
     "execution_count": 46,
     "metadata": {},
     "output_type": "execute_result"
    }
   ],
   "source": [
    "vector_mode_gradient(prod, xp, cfg)"
   ]
  },
  {
   "cell_type": "code",
   "execution_count": 47,
   "metadata": {},
   "outputs": [
    {
     "data": {
      "text/plain": [
       "2×1 StaticArrays.MArray{Tuple{2,1},Float64,2,2}:\n",
       " 0.55987 \n",
       " 0.566277"
      ]
     },
     "execution_count": 47,
     "metadata": {},
     "output_type": "execute_result"
    }
   ],
   "source": [
    "vector_mode_gradient(prod, sx, cfg)"
   ]
  },
  {
   "cell_type": "code",
   "execution_count": 48,
   "metadata": {},
   "outputs": [
    {
     "name": "stdout",
     "output_type": "stream",
     "text": [
      "ForwardDiff.gradient(prod, xp) = [0.55987, 0.566277]\n"
     ]
    },
    {
     "ename": "LoadError",
     "evalue": "\u001b[91mtype MArray has no field x\u001b[39m",
     "output_type": "error",
     "traceback": [
      "\u001b[91mtype MArray has no field x\u001b[39m",
      "",
      "Stacktrace:",
      " [1] \u001b[1m(::##7#8)\u001b[22m\u001b[22m\u001b[1m(\u001b[22m\u001b[22m::MVector{2,ForwardDiff.Dual{ForwardDiff.Tag{##7#8,Float64},Float64,2}}\u001b[1m)\u001b[22m\u001b[22m at \u001b[1m./In[48]:2\u001b[22m\u001b[22m",
      " [2] \u001b[1mvector_mode_gradient\u001b[22m\u001b[22m at \u001b[1m/home/kylebrown/.julia/v0.6/ForwardDiff/src/gradient.jl:102\u001b[22m\u001b[22m [inlined]",
      " [3] \u001b[1mgradient\u001b[22m\u001b[22m\u001b[1m(\u001b[22m\u001b[22m::Function, ::Point{Float64}, ::ForwardDiff.GradientConfig{ForwardDiff.Tag{##7#8,Float64},Float64,2,MVector{2,ForwardDiff.Dual{ForwardDiff.Tag{##7#8,Float64},Float64,2}}}, ::Val{true}\u001b[1m)\u001b[22m\u001b[22m at \u001b[1m/home/kylebrown/.julia/v0.6/ForwardDiff/src/gradient.jl:17\u001b[22m\u001b[22m",
      " [4] \u001b[1mgradient\u001b[22m\u001b[22m\u001b[1m(\u001b[22m\u001b[22m::Function, ::Point{Float64}, ::ForwardDiff.GradientConfig{ForwardDiff.Tag{##7#8,Float64},Float64,2,MVector{2,ForwardDiff.Dual{ForwardDiff.Tag{##7#8,Float64},Float64,2}}}\u001b[1m)\u001b[22m\u001b[22m at \u001b[1m/home/kylebrown/.julia/v0.6/ForwardDiff/src/gradient.jl:15\u001b[22m\u001b[22m (repeats 2 times)",
      " [5] \u001b[1minclude_string\u001b[22m\u001b[22m\u001b[1m(\u001b[22m\u001b[22m::String, ::String\u001b[1m)\u001b[22m\u001b[22m at \u001b[1m./loading.jl:522\u001b[22m\u001b[22m"
     ]
    }
   ],
   "source": [
    "@show ForwardDiff.gradient(prod, xp)\n",
    "@show ForwardDiff.gradient(p -> p.x*p.y, xp)"
   ]
  },
  {
   "cell_type": "code",
   "execution_count": 110,
   "metadata": {},
   "outputs": [
    {
     "name": "stdout",
     "output_type": "stream",
     "text": [
      "ForwardDiff.gradient(prod, sx) == actual = true\n",
      "ForwardDiff.gradient(prod, sx, cfg) == actual = true\n",
      "ForwardDiff.gradient(prod, sx, scfg) == actual = true\n",
      "ForwardDiff.gradient(prod, sx, pcfg) == actual = true\n",
      "out == actual = true\n",
      "out == actual = true\n",
      "out == actual = true\n",
      "DiffResults.value(result1) == DiffResults.value(result) = true\n",
      "DiffResults.value(result2) == DiffResults.value(result) = true\n",
      "DiffResults.value(result3) == DiffResults.value(result) = true\n",
      "DiffResults.gradient(result1) == DiffResults.gradient(result) = true\n",
      "DiffResults.gradient(result2) == DiffResults.gradient(result) = true\n",
      "DiffResults.gradient(result3) == DiffResults.gradient(result) = true\n",
      "DiffResults.value(sresult1) == DiffResults.value(result) = true\n",
      "DiffResults.value(sresult2) == DiffResults.value(result) = true\n",
      "DiffResults.value(sresult3) == DiffResults.value(result) = true\n",
      "DiffResults.gradient(sresult1) == DiffResults.gradient(result) = true\n",
      "DiffResults.gradient(sresult2) == DiffResults.gradient(result) = true\n",
      "DiffResults.gradient(sresult3) == DiffResults.gradient(result) = true\n"
     ]
    },
    {
     "data": {
      "text/plain": [
       "true"
      ]
     },
     "execution_count": 110,
     "metadata": {},
     "output_type": "execute_result"
    }
   ],
   "source": [
    "x = rand(2, 1)\n",
    "xp = Point(x[1],x[2]) # Point\n",
    "sx = StaticArrays.SArray{Tuple{2,1}}(x)\n",
    "\n",
    "cfg = ForwardDiff.GradientConfig(nothing, x)\n",
    "pcfg = ForwardDiff.GradientConfig(nothing, xp)\n",
    "scfg = ForwardDiff.GradientConfig(nothing, sx)\n",
    "\n",
    "actual = ForwardDiff.gradient(prod, x)\n",
    "@show ForwardDiff.gradient(prod, sx) == actual\n",
    "@show ForwardDiff.gradient(prod, sx, cfg) == actual\n",
    "@show ForwardDiff.gradient(prod, sx, scfg) == actual\n",
    "@show ForwardDiff.gradient(prod, sx, pcfg) == actual\n",
    "\n",
    "out = similar(x)\n",
    "ForwardDiff.gradient!(out, prod, sx)\n",
    "@show out == actual\n",
    "\n",
    "out = similar(x)\n",
    "ForwardDiff.gradient!(out, prod, sx, cfg)\n",
    "@show out == actual\n",
    "\n",
    "out = similar(x)\n",
    "ForwardDiff.gradient!(out, prod, sx, scfg)\n",
    "@show out == actual\n",
    "\n",
    "result = DiffResults.GradientResult(x)\n",
    "result = ForwardDiff.gradient!(result, prod, x)\n",
    "\n",
    "result1 = DiffResults.GradientResult(x)\n",
    "result2 = DiffResults.GradientResult(x)\n",
    "result3 = DiffResults.GradientResult(x)\n",
    "result1 = ForwardDiff.gradient!(result1, prod, sx)\n",
    "result2 = ForwardDiff.gradient!(result2, prod, sx, cfg)\n",
    "result3 = ForwardDiff.gradient!(result3, prod, sx, scfg)\n",
    "@show DiffResults.value(result1) == DiffResults.value(result)\n",
    "@show DiffResults.value(result2) == DiffResults.value(result)\n",
    "@show DiffResults.value(result3) == DiffResults.value(result)\n",
    "@show DiffResults.gradient(result1) == DiffResults.gradient(result)\n",
    "@show DiffResults.gradient(result2) == DiffResults.gradient(result)\n",
    "@show DiffResults.gradient(result3) == DiffResults.gradient(result)\n",
    "\n",
    "sresult1 = DiffResults.GradientResult(sx)\n",
    "sresult2 = DiffResults.GradientResult(sx)\n",
    "sresult3 = DiffResults.GradientResult(sx)\n",
    "sresult1 = ForwardDiff.gradient!(sresult1, prod, sx)\n",
    "sresult2 = ForwardDiff.gradient!(sresult2, prod, sx, cfg)\n",
    "sresult3 = ForwardDiff.gradient!(sresult3, prod, sx, scfg)\n",
    "@show DiffResults.value(sresult1) == DiffResults.value(result)\n",
    "@show DiffResults.value(sresult2) == DiffResults.value(result)\n",
    "@show DiffResults.value(sresult3) == DiffResults.value(result)\n",
    "@show DiffResults.gradient(sresult1) == DiffResults.gradient(result)\n",
    "@show DiffResults.gradient(sresult2) == DiffResults.gradient(result)\n",
    "@show DiffResults.gradient(sresult3) == DiffResults.gradient(result)\n"
   ]
  },
  {
   "cell_type": "code",
   "execution_count": null,
   "metadata": {},
   "outputs": [],
   "source": [
    "actual = ForwardDiff.gradient(prod, x)"
   ]
  },
  {
   "cell_type": "code",
   "execution_count": null,
   "metadata": {
    "collapsed": true
   },
   "outputs": [],
   "source": []
  },
  {
   "cell_type": "code",
   "execution_count": null,
   "metadata": {},
   "outputs": [],
   "source": [
    "@test ForwardDiff.gradient(prod, sx) == actual"
   ]
  }
 ],
 "metadata": {
  "kernelspec": {
   "display_name": "Julia 0.6.1",
   "language": "julia",
   "name": "julia-0.6"
  },
  "language_info": {
   "file_extension": ".jl",
   "mimetype": "application/julia",
   "name": "julia",
   "version": "0.6.1"
  }
 },
 "nbformat": 4,
 "nbformat_minor": 2
}
