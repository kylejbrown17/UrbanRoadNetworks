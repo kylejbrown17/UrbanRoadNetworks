{
 "cells": [
  {
   "cell_type": "code",
   "execution_count": 1,
   "metadata": {},
   "outputs": [],
   "source": [
    "import NearestNeighbors\n",
    "using StaticArrays\n",
    "using PGFPlots"
   ]
  },
  {
   "cell_type": "code",
   "execution_count": 2,
   "metadata": {},
   "outputs": [],
   "source": [
    "import NearestNeighbors: TreeData"
   ]
  },
  {
   "cell_type": "markdown",
   "metadata": {},
   "source": [
    "# Define RTree type"
   ]
  },
  {
   "cell_type": "code",
   "execution_count": 57,
   "metadata": {},
   "outputs": [
    {
     "data": {
      "text/plain": [
       "InternalNode"
      ]
     },
     "execution_count": 57,
     "metadata": {},
     "output_type": "execute_result"
    }
   ],
   "source": [
    "struct HyperRectangle{N}\n",
    "    X_lo::SArray{Tuple{N,1},Float64}\n",
    "    X_hi::SArray{Tuple{N,1},Float64}\n",
    "end\n",
    "function HyperRectangle(A::AbstractArray)\n",
    "    HyperRectangle(\n",
    "        SArray{Tuple{size(A)[1],1},Float64}(minimum(A,2)),\n",
    "        SArray{Tuple{size(A)[1],1},Float64}(maximum(A,2)))\n",
    "end\n",
    "function Union(H1::HyperRectangle{N}, H2::HyperRectangle{N}) where N\n",
    "    HyperRectangle(min.(H1.X_lo, H2.X_lo), max.(H1.X_hi, H2.X_hi))\n",
    "end\n",
    "function Intersection(H1::HyperRectangle{N}, H2::HyperRectangle{N}) where N\n",
    "    HyperRectangle(max.(H1.X_lo, H2.X_lo), min.(H1.X_hi, H2.X_hi))\n",
    "end\n",
    "function ComputeVolume(H::HyperRectangle{N}) where N\n",
    "    prod(H.X_hi .- H.X_lo)\n",
    "end\n",
    "function CheckIntersection(H1::HyperRectangle{N},H2::HyperRectangle{N}) where N\n",
    "    return (ComputeVolume(Intersection(H1,H2)) > 0)\n",
    "end\n",
    "function CheckIntersection(H::HyperRectangle{N}, Q::Array{Float64,2}) where N\n",
    "    HQ = HyperRectangle(Q)\n",
    "    CheckIntersection(H,HQ)\n",
    "end\n",
    "struct LeafNode{N}\n",
    "    id::Int\n",
    "    object_ids::Array{Int,1}\n",
    "    rect::HyperRectangle{N}\n",
    "end\n",
    "struct InternalNode{N}\n",
    "    id::Int\n",
    "    children::Array{Int,1}\n",
    "    parent::Int\n",
    "    rect::HyperRectangle{N}\n",
    "end\n",
    "function InternalNode(node::InternalNode{N},H::HyperRectangle{N}) where N\n",
    "    InternalNode(node.id,node.children,node.parent,H)\n",
    "end"
   ]
  },
  {
   "cell_type": "code",
   "execution_count": 4,
   "metadata": {},
   "outputs": [],
   "source": [
    "type RTree{N}\n",
    "    objects::Array{Array{Float64,2},1}\n",
    "    root_nodes::InternalNode{N}\n",
    "    nodes::Dict{Int64, Union{InternalNode,LeafNode}}\n",
    "    num_nodes::Int64\n",
    "end"
   ]
  },
  {
   "cell_type": "code",
   "execution_count": 42,
   "metadata": {},
   "outputs": [
    {
     "data": {
      "text/plain": [
       "HyperRectangle{2}([0.061296; 0.122563], [0.606388; 0.98467])"
      ]
     },
     "execution_count": 42,
     "metadata": {},
     "output_type": "execute_result"
    }
   ],
   "source": [
    "X1 = rand(2,4)\n",
    "X2 = rand(2,4)\n",
    "H1 = HyperRectangle(X1)\n",
    "H2 = HyperRectangle(X2)"
   ]
  },
  {
   "cell_type": "code",
   "execution_count": 45,
   "metadata": {},
   "outputs": [
    {
     "data": {
      "text/plain": [
       "HyperRectangle{2}([0.061296; 0.122563], [0.938002; 0.98467])"
      ]
     },
     "execution_count": 45,
     "metadata": {},
     "output_type": "execute_result"
    }
   ],
   "source": [
    "H3 = Intersection(H1,H2)\n",
    "H4 = Union(H1,H2)"
   ]
  },
  {
   "cell_type": "code",
   "execution_count": 46,
   "metadata": {},
   "outputs": [
    {
     "data": {
      "image/svg+xml": [
       "<?xml version=\"1.0\" encoding=\"UTF-8\"?>\n",
       "<svg xmlns=\"http://www.w3.org/2000/svg\" xmlns:xlink=\"http://www.w3.org/1999/xlink\" width=\"214.909pt\" height=\"174.849pt\" viewBox=\"0 0 214.909 174.849\" version=\"1.1\">\n",
       "<defs>\n",
       "<g>\n",
       "<symbol overflow=\"visible\" id=\"glyph-1521242051393367-0-0\">\n",
       "<path style=\"stroke:none;\" d=\"\"/>\n",
       "</symbol>\n",
       "<symbol overflow=\"visible\" id=\"glyph-1521242051393367-0-1\">\n",
       "<path style=\"stroke:none;\" d=\"M 4.578125 -3.1875 C 4.578125 -3.984375 4.53125 -4.78125 4.1875 -5.515625 C 3.734375 -6.484375 2.90625 -6.640625 2.5 -6.640625 C 1.890625 -6.640625 1.171875 -6.375 0.75 -5.453125 C 0.4375 -4.765625 0.390625 -3.984375 0.390625 -3.1875 C 0.390625 -2.4375 0.421875 -1.546875 0.84375 -0.78125 C 1.265625 0.015625 2 0.21875 2.484375 0.21875 C 3.015625 0.21875 3.78125 0.015625 4.21875 -0.9375 C 4.53125 -1.625 4.578125 -2.40625 4.578125 -3.1875 Z M 2.484375 0 C 2.09375 0 1.5 -0.25 1.328125 -1.203125 C 1.21875 -1.796875 1.21875 -2.71875 1.21875 -3.3125 C 1.21875 -3.953125 1.21875 -4.609375 1.296875 -5.140625 C 1.484375 -6.328125 2.234375 -6.421875 2.484375 -6.421875 C 2.8125 -6.421875 3.46875 -6.234375 3.65625 -5.25 C 3.765625 -4.6875 3.765625 -3.9375 3.765625 -3.3125 C 3.765625 -2.5625 3.765625 -1.890625 3.65625 -1.25 C 3.5 -0.296875 2.9375 0 2.484375 0 Z M 2.484375 0 \"/>\n",
       "</symbol>\n",
       "<symbol overflow=\"visible\" id=\"glyph-1521242051393367-0-2\">\n",
       "<path style=\"stroke:none;\" d=\"M 1.265625 -0.765625 L 2.328125 -1.796875 C 3.875 -3.171875 4.46875 -3.703125 4.46875 -4.703125 C 4.46875 -5.84375 3.578125 -6.640625 2.359375 -6.640625 C 1.234375 -6.640625 0.5 -5.71875 0.5 -4.828125 C 0.5 -4.28125 1 -4.28125 1.03125 -4.28125 C 1.203125 -4.28125 1.546875 -4.390625 1.546875 -4.8125 C 1.546875 -5.0625 1.359375 -5.328125 1.015625 -5.328125 C 0.9375 -5.328125 0.921875 -5.328125 0.890625 -5.3125 C 1.109375 -5.96875 1.65625 -6.328125 2.234375 -6.328125 C 3.140625 -6.328125 3.5625 -5.515625 3.5625 -4.703125 C 3.5625 -3.90625 3.078125 -3.125 2.515625 -2.5 L 0.609375 -0.375 C 0.5 -0.265625 0.5 -0.234375 0.5 0 L 4.203125 0 L 4.46875 -1.734375 L 4.234375 -1.734375 C 4.171875 -1.4375 4.109375 -1 4 -0.84375 C 3.9375 -0.765625 3.28125 -0.765625 3.0625 -0.765625 Z M 1.265625 -0.765625 \"/>\n",
       "</symbol>\n",
       "<symbol overflow=\"visible\" id=\"glyph-1521242051393367-0-3\">\n",
       "<path style=\"stroke:none;\" d=\"M 2.9375 -1.640625 L 2.9375 -0.78125 C 2.9375 -0.421875 2.90625 -0.3125 2.171875 -0.3125 L 1.96875 -0.3125 L 1.96875 0 C 2.375 -0.03125 2.890625 -0.03125 3.3125 -0.03125 C 3.734375 -0.03125 4.25 -0.03125 4.671875 0 L 4.671875 -0.3125 L 4.453125 -0.3125 C 3.71875 -0.3125 3.703125 -0.421875 3.703125 -0.78125 L 3.703125 -1.640625 L 4.6875 -1.640625 L 4.6875 -1.953125 L 3.703125 -1.953125 L 3.703125 -6.484375 C 3.703125 -6.6875 3.703125 -6.75 3.53125 -6.75 C 3.453125 -6.75 3.421875 -6.75 3.34375 -6.625 L 0.28125 -1.953125 L 0.28125 -1.640625 Z M 2.984375 -1.953125 L 0.5625 -1.953125 L 2.984375 -5.671875 Z M 2.984375 -1.953125 \"/>\n",
       "</symbol>\n",
       "<symbol overflow=\"visible\" id=\"glyph-1521242051393367-0-4\">\n",
       "<path style=\"stroke:none;\" d=\"M 1.3125 -3.265625 L 1.3125 -3.515625 C 1.3125 -6.03125 2.546875 -6.390625 3.0625 -6.390625 C 3.296875 -6.390625 3.71875 -6.328125 3.9375 -5.984375 C 3.78125 -5.984375 3.390625 -5.984375 3.390625 -5.546875 C 3.390625 -5.234375 3.625 -5.078125 3.84375 -5.078125 C 4 -5.078125 4.3125 -5.171875 4.3125 -5.5625 C 4.3125 -6.15625 3.875 -6.640625 3.046875 -6.640625 C 1.765625 -6.640625 0.421875 -5.359375 0.421875 -3.15625 C 0.421875 -0.484375 1.578125 0.21875 2.5 0.21875 C 3.609375 0.21875 4.5625 -0.71875 4.5625 -2.03125 C 4.5625 -3.296875 3.671875 -4.25 2.5625 -4.25 C 1.890625 -4.25 1.515625 -3.75 1.3125 -3.265625 Z M 2.5 -0.0625 C 1.875 -0.0625 1.578125 -0.65625 1.515625 -0.8125 C 1.328125 -1.28125 1.328125 -2.078125 1.328125 -2.25 C 1.328125 -3.03125 1.65625 -4.03125 2.546875 -4.03125 C 2.71875 -4.03125 3.171875 -4.03125 3.484375 -3.40625 C 3.65625 -3.046875 3.65625 -2.53125 3.65625 -2.046875 C 3.65625 -1.5625 3.65625 -1.0625 3.484375 -0.703125 C 3.1875 -0.109375 2.734375 -0.0625 2.5 -0.0625 Z M 2.5 -0.0625 \"/>\n",
       "</symbol>\n",
       "<symbol overflow=\"visible\" id=\"glyph-1521242051393367-0-5\">\n",
       "<path style=\"stroke:none;\" d=\"M 1.625 -4.5625 C 1.171875 -4.859375 1.125 -5.1875 1.125 -5.359375 C 1.125 -5.96875 1.78125 -6.390625 2.484375 -6.390625 C 3.203125 -6.390625 3.84375 -5.875 3.84375 -5.15625 C 3.84375 -4.578125 3.453125 -4.109375 2.859375 -3.765625 Z M 3.078125 -3.609375 C 3.796875 -3.984375 4.28125 -4.5 4.28125 -5.15625 C 4.28125 -6.078125 3.40625 -6.640625 2.5 -6.640625 C 1.5 -6.640625 0.6875 -5.90625 0.6875 -4.96875 C 0.6875 -4.796875 0.703125 -4.34375 1.125 -3.875 C 1.234375 -3.765625 1.609375 -3.515625 1.859375 -3.34375 C 1.28125 -3.046875 0.421875 -2.5 0.421875 -1.5 C 0.421875 -0.453125 1.4375 0.21875 2.484375 0.21875 C 3.609375 0.21875 4.5625 -0.609375 4.5625 -1.671875 C 4.5625 -2.03125 4.453125 -2.484375 4.0625 -2.90625 C 3.875 -3.109375 3.71875 -3.203125 3.078125 -3.609375 Z M 2.078125 -3.1875 L 3.3125 -2.40625 C 3.59375 -2.21875 4.0625 -1.921875 4.0625 -1.3125 C 4.0625 -0.578125 3.3125 -0.0625 2.5 -0.0625 C 1.640625 -0.0625 0.921875 -0.671875 0.921875 -1.5 C 0.921875 -2.078125 1.234375 -2.71875 2.078125 -3.1875 Z M 2.078125 -3.1875 \"/>\n",
       "</symbol>\n",
       "<symbol overflow=\"visible\" id=\"glyph-1521242051393367-0-6\">\n",
       "<path style=\"stroke:none;\" d=\"M 2.9375 -6.375 C 2.9375 -6.625 2.9375 -6.640625 2.703125 -6.640625 C 2.078125 -6 1.203125 -6 0.890625 -6 L 0.890625 -5.6875 C 1.09375 -5.6875 1.671875 -5.6875 2.1875 -5.953125 L 2.1875 -0.78125 C 2.1875 -0.421875 2.15625 -0.3125 1.265625 -0.3125 L 0.953125 -0.3125 L 0.953125 0 C 1.296875 -0.03125 2.15625 -0.03125 2.5625 -0.03125 C 2.953125 -0.03125 3.828125 -0.03125 4.171875 0 L 4.171875 -0.3125 L 3.859375 -0.3125 C 2.953125 -0.3125 2.9375 -0.421875 2.9375 -0.78125 Z M 2.9375 -6.375 \"/>\n",
       "</symbol>\n",
       "<symbol overflow=\"visible\" id=\"glyph-1521242051393367-1-0\">\n",
       "<path style=\"stroke:none;\" d=\"\"/>\n",
       "</symbol>\n",
       "<symbol overflow=\"visible\" id=\"glyph-1521242051393367-1-1\">\n",
       "<path style=\"stroke:none;\" d=\"M 1.90625 -0.53125 C 1.90625 -0.8125 1.671875 -1.0625 1.390625 -1.0625 C 1.09375 -1.0625 0.859375 -0.8125 0.859375 -0.53125 C 0.859375 -0.234375 1.09375 0 1.390625 0 C 1.671875 0 1.90625 -0.234375 1.90625 -0.53125 Z M 1.90625 -0.53125 \"/>\n",
       "</symbol>\n",
       "</g>\n",
       "<clipPath id=\"clip-1521242051393367-1\">\n",
       "  <path d=\"M 19 0 L 214.910156 0 L 214.910156 162 L 19 162 Z M 19 0 \"/>\n",
       "</clipPath>\n",
       "</defs>\n",
       "<g id=\"surface1\">\n",
       "<path style=\"fill:none;stroke-width:0.19925;stroke-linecap:butt;stroke-linejoin:miter;stroke:rgb(50%,50%,50%);stroke-opacity:1;stroke-miterlimit:10;\" d=\"M -11.318594 -13.450844 L -11.318594 -9.196938 M 25.611094 -13.450844 L 25.611094 -9.196938 M 62.544687 -13.450844 L 62.544687 -9.196938 M 99.474375 -13.450844 L 99.474375 -9.196938 M 136.407969 -13.450844 L 136.407969 -9.196938 M 173.337656 -13.450844 L 173.337656 -9.196938 M -11.318594 147.939781 L -11.318594 143.689781 M 25.611094 147.939781 L 25.611094 143.689781 M 62.544687 147.939781 L 62.544687 143.689781 M 99.474375 147.939781 L 99.474375 143.689781 M 136.407969 147.939781 L 136.407969 143.689781 M 173.337656 147.939781 L 173.337656 143.689781 \" transform=\"matrix(1,0,0,-1,35.76,148.139)\"/>\n",
       "<path style=\"fill:none;stroke-width:0.19925;stroke-linecap:butt;stroke-linejoin:miter;stroke:rgb(50%,50%,50%);stroke-opacity:1;stroke-miterlimit:10;\" d=\"M -16.189688 12.080406 L -11.939688 12.080406 M -16.189688 43.279625 L -11.939688 43.279625 M -16.189688 74.48275 L -11.939688 74.48275 M -16.189688 105.681969 L -11.939688 105.681969 M -16.189688 136.881187 L -11.939688 136.881187 M 178.079844 12.080406 L 173.829844 12.080406 M 178.079844 43.279625 L 173.829844 43.279625 M 178.079844 74.48275 L 173.829844 74.48275 M 178.079844 105.681969 L 173.829844 105.681969 M 178.079844 136.881187 L 173.829844 136.881187 \" transform=\"matrix(1,0,0,-1,35.76,148.139)\"/>\n",
       "<g clip-path=\"url(#clip-1521242051393367-1)\" clip-rule=\"nonzero\">\n",
       "<path style=\"fill:none;stroke-width:0.3985;stroke-linecap:butt;stroke-linejoin:miter;stroke:rgb(0%,0%,0%);stroke-opacity:1;stroke-miterlimit:10;\" d=\"M -16.189688 -13.450844 L -16.189688 147.939781 L 178.079844 147.939781 L 178.079844 -13.450844 Z M -16.189688 -13.450844 \" transform=\"matrix(1,0,0,-1,35.76,148.139)\"/>\n",
       "</g>\n",
       "<g style=\"fill:rgb(0%,0%,0%);fill-opacity:1;\">\n",
       "  <use xlink:href=\"#glyph-1521242051393367-0-1\" x=\"21.951\" y=\"171.528\"/>\n",
       "</g>\n",
       "<g style=\"fill:rgb(0%,0%,0%);fill-opacity:1;\">\n",
       "  <use xlink:href=\"#glyph-1521242051393367-0-1\" x=\"55.008\" y=\"171.528\"/>\n",
       "</g>\n",
       "<g style=\"fill:rgb(0%,0%,0%);fill-opacity:1;\">\n",
       "  <use xlink:href=\"#glyph-1521242051393367-1-1\" x=\"59.989\" y=\"171.528\"/>\n",
       "</g>\n",
       "<g style=\"fill:rgb(0%,0%,0%);fill-opacity:1;\">\n",
       "  <use xlink:href=\"#glyph-1521242051393367-0-2\" x=\"62.756\" y=\"171.528\"/>\n",
       "</g>\n",
       "<g style=\"fill:rgb(0%,0%,0%);fill-opacity:1;\">\n",
       "  <use xlink:href=\"#glyph-1521242051393367-0-1\" x=\"91.939\" y=\"171.528\"/>\n",
       "</g>\n",
       "<g style=\"fill:rgb(0%,0%,0%);fill-opacity:1;\">\n",
       "  <use xlink:href=\"#glyph-1521242051393367-1-1\" x=\"96.92\" y=\"171.528\"/>\n",
       "</g>\n",
       "<g style=\"fill:rgb(0%,0%,0%);fill-opacity:1;\">\n",
       "  <use xlink:href=\"#glyph-1521242051393367-0-3\" x=\"99.688\" y=\"171.528\"/>\n",
       "</g>\n",
       "<g style=\"fill:rgb(0%,0%,0%);fill-opacity:1;\">\n",
       "  <use xlink:href=\"#glyph-1521242051393367-0-1\" x=\"128.87\" y=\"171.528\"/>\n",
       "</g>\n",
       "<g style=\"fill:rgb(0%,0%,0%);fill-opacity:1;\">\n",
       "  <use xlink:href=\"#glyph-1521242051393367-1-1\" x=\"133.851\" y=\"171.528\"/>\n",
       "</g>\n",
       "<g style=\"fill:rgb(0%,0%,0%);fill-opacity:1;\">\n",
       "  <use xlink:href=\"#glyph-1521242051393367-0-4\" x=\"136.619\" y=\"171.528\"/>\n",
       "</g>\n",
       "<g style=\"fill:rgb(0%,0%,0%);fill-opacity:1;\">\n",
       "  <use xlink:href=\"#glyph-1521242051393367-0-1\" x=\"165.801\" y=\"171.528\"/>\n",
       "</g>\n",
       "<g style=\"fill:rgb(0%,0%,0%);fill-opacity:1;\">\n",
       "  <use xlink:href=\"#glyph-1521242051393367-1-1\" x=\"170.783\" y=\"171.528\"/>\n",
       "</g>\n",
       "<g style=\"fill:rgb(0%,0%,0%);fill-opacity:1;\">\n",
       "  <use xlink:href=\"#glyph-1521242051393367-0-5\" x=\"173.55\" y=\"171.528\"/>\n",
       "</g>\n",
       "<g style=\"fill:rgb(0%,0%,0%);fill-opacity:1;\">\n",
       "  <use xlink:href=\"#glyph-1521242051393367-0-6\" x=\"206.607\" y=\"171.528\"/>\n",
       "</g>\n",
       "<g style=\"fill:rgb(0%,0%,0%);fill-opacity:1;\">\n",
       "  <use xlink:href=\"#glyph-1521242051393367-0-1\" x=\"3.321\" y=\"139.269\"/>\n",
       "</g>\n",
       "<g style=\"fill:rgb(0%,0%,0%);fill-opacity:1;\">\n",
       "  <use xlink:href=\"#glyph-1521242051393367-1-1\" x=\"8.302\" y=\"139.269\"/>\n",
       "</g>\n",
       "<g style=\"fill:rgb(0%,0%,0%);fill-opacity:1;\">\n",
       "  <use xlink:href=\"#glyph-1521242051393367-0-2\" x=\"11.069\" y=\"139.269\"/>\n",
       "</g>\n",
       "<g style=\"fill:rgb(0%,0%,0%);fill-opacity:1;\">\n",
       "  <use xlink:href=\"#glyph-1521242051393367-0-1\" x=\"3.321\" y=\"108.068\"/>\n",
       "</g>\n",
       "<g style=\"fill:rgb(0%,0%,0%);fill-opacity:1;\">\n",
       "  <use xlink:href=\"#glyph-1521242051393367-1-1\" x=\"8.302\" y=\"108.068\"/>\n",
       "</g>\n",
       "<g style=\"fill:rgb(0%,0%,0%);fill-opacity:1;\">\n",
       "  <use xlink:href=\"#glyph-1521242051393367-0-3\" x=\"11.069\" y=\"108.068\"/>\n",
       "</g>\n",
       "<g style=\"fill:rgb(0%,0%,0%);fill-opacity:1;\">\n",
       "  <use xlink:href=\"#glyph-1521242051393367-0-1\" x=\"3.321\" y=\"76.868\"/>\n",
       "</g>\n",
       "<g style=\"fill:rgb(0%,0%,0%);fill-opacity:1;\">\n",
       "  <use xlink:href=\"#glyph-1521242051393367-1-1\" x=\"8.302\" y=\"76.868\"/>\n",
       "</g>\n",
       "<g style=\"fill:rgb(0%,0%,0%);fill-opacity:1;\">\n",
       "  <use xlink:href=\"#glyph-1521242051393367-0-4\" x=\"11.069\" y=\"76.868\"/>\n",
       "</g>\n",
       "<g style=\"fill:rgb(0%,0%,0%);fill-opacity:1;\">\n",
       "  <use xlink:href=\"#glyph-1521242051393367-0-1\" x=\"3.321\" y=\"45.668\"/>\n",
       "</g>\n",
       "<g style=\"fill:rgb(0%,0%,0%);fill-opacity:1;\">\n",
       "  <use xlink:href=\"#glyph-1521242051393367-1-1\" x=\"8.302\" y=\"45.668\"/>\n",
       "</g>\n",
       "<g style=\"fill:rgb(0%,0%,0%);fill-opacity:1;\">\n",
       "  <use xlink:href=\"#glyph-1521242051393367-0-5\" x=\"11.069\" y=\"45.668\"/>\n",
       "</g>\n",
       "<g style=\"fill:rgb(0%,0%,0%);fill-opacity:1;\">\n",
       "  <use xlink:href=\"#glyph-1521242051393367-0-6\" x=\"11.069\" y=\"14.468\"/>\n",
       "</g>\n",
       "<path style=\"fill:none;stroke-width:0.3985;stroke-linecap:butt;stroke-linejoin:miter;stroke:rgb(0%,0%,100%);stroke-opacity:1;stroke-miterlimit:10;\" d=\"M 34.482187 40.603844 L 34.482187 58.740562 L 161.892344 58.740562 L 161.892344 40.603844 L 34.482187 40.603844 \" transform=\"matrix(1,0,0,-1,35.76,148.139)\"/>\n",
       "<path style=\"fill:none;stroke-width:0.3985;stroke-linecap:butt;stroke-linejoin:miter;stroke:rgb(100%,0%,0%);stroke-opacity:1;stroke-miterlimit:10;\" d=\"M 0.00171875 -0.001625 L 0.00171875 134.494469 L 100.657969 134.494469 L 100.657969 -0.001625 L 0.00171875 -0.001625 \" transform=\"matrix(1,0,0,-1,35.76,148.139)\"/>\n",
       "<path style=\"fill:none;stroke-width:0.3985;stroke-linecap:butt;stroke-linejoin:miter;stroke:rgb(44.999695%,29.998779%,14.99939%);stroke-opacity:1;stroke-miterlimit:10;\" d=\"M 34.482187 40.603844 L 34.482187 58.740562 L 100.657969 58.740562 L 100.657969 40.603844 L 34.482187 40.603844 \" transform=\"matrix(1,0,0,-1,35.76,148.139)\"/>\n",
       "<path style=\"fill:none;stroke-width:0.3985;stroke-linecap:butt;stroke-linejoin:miter;stroke:rgb(0%,0%,0%);stroke-opacity:1;stroke-miterlimit:10;\" d=\"M 0.00171875 -0.001625 L 0.00171875 134.494469 L 161.892344 134.494469 L 161.892344 -0.001625 L 0.00171875 -0.001625 \" transform=\"matrix(1,0,0,-1,35.76,148.139)\"/>\n",
       "<path style=\"fill-rule:nonzero;fill:rgb(0%,0%,79.998779%);fill-opacity:1;stroke-width:0.3985;stroke-linecap:butt;stroke-linejoin:miter;stroke:rgb(0%,0%,100%);stroke-opacity:1;stroke-miterlimit:10;\" d=\"M 36.474375 40.603844 C 36.474375 41.705406 35.579844 42.596031 34.482187 42.596031 C 33.380625 42.596031 32.486094 41.705406 32.486094 40.603844 C 32.486094 39.506187 33.380625 38.611656 34.482187 38.611656 C 35.579844 38.611656 36.474375 39.506187 36.474375 40.603844 Z M 36.474375 40.603844 \" transform=\"matrix(1,0,0,-1,35.76,148.139)\"/>\n",
       "<path style=\"fill-rule:nonzero;fill:rgb(0%,0%,79.998779%);fill-opacity:1;stroke-width:0.3985;stroke-linecap:butt;stroke-linejoin:miter;stroke:rgb(0%,0%,100%);stroke-opacity:1;stroke-miterlimit:10;\" d=\"M 36.474375 58.740562 C 36.474375 59.842125 35.579844 60.73275 34.482187 60.73275 C 33.380625 60.73275 32.486094 59.842125 32.486094 58.740562 C 32.486094 57.642906 33.380625 56.748375 34.482187 56.748375 C 35.579844 56.748375 36.474375 57.642906 36.474375 58.740562 Z M 36.474375 58.740562 \" transform=\"matrix(1,0,0,-1,35.76,148.139)\"/>\n",
       "<path style=\"fill-rule:nonzero;fill:rgb(0%,0%,79.998779%);fill-opacity:1;stroke-width:0.3985;stroke-linecap:butt;stroke-linejoin:miter;stroke:rgb(0%,0%,100%);stroke-opacity:1;stroke-miterlimit:10;\" d=\"M 163.884531 58.740562 C 163.884531 59.842125 162.993906 60.73275 161.892344 60.73275 C 160.790781 60.73275 159.900156 59.842125 159.900156 58.740562 C 159.900156 57.642906 160.790781 56.748375 161.892344 56.748375 C 162.993906 56.748375 163.884531 57.642906 163.884531 58.740562 Z M 163.884531 58.740562 \" transform=\"matrix(1,0,0,-1,35.76,148.139)\"/>\n",
       "<path style=\"fill-rule:nonzero;fill:rgb(0%,0%,79.998779%);fill-opacity:1;stroke-width:0.3985;stroke-linecap:butt;stroke-linejoin:miter;stroke:rgb(0%,0%,100%);stroke-opacity:1;stroke-miterlimit:10;\" d=\"M 163.884531 40.603844 C 163.884531 41.705406 162.993906 42.596031 161.892344 42.596031 C 160.790781 42.596031 159.900156 41.705406 159.900156 40.603844 C 159.900156 39.506187 160.790781 38.611656 161.892344 38.611656 C 162.993906 38.611656 163.884531 39.506187 163.884531 40.603844 Z M 163.884531 40.603844 \" transform=\"matrix(1,0,0,-1,35.76,148.139)\"/>\n",
       "<path style=\"fill-rule:nonzero;fill:rgb(0%,0%,79.998779%);fill-opacity:1;stroke-width:0.3985;stroke-linecap:butt;stroke-linejoin:miter;stroke:rgb(0%,0%,100%);stroke-opacity:1;stroke-miterlimit:10;\" d=\"M 36.474375 40.603844 C 36.474375 41.705406 35.579844 42.596031 34.482187 42.596031 C 33.380625 42.596031 32.486094 41.705406 32.486094 40.603844 C 32.486094 39.506187 33.380625 38.611656 34.482187 38.611656 C 35.579844 38.611656 36.474375 39.506187 36.474375 40.603844 Z M 36.474375 40.603844 \" transform=\"matrix(1,0,0,-1,35.76,148.139)\"/>\n",
       "<path style=\"fill-rule:nonzero;fill:rgb(79.998779%,0%,0%);fill-opacity:1;stroke-width:0.3985;stroke-linecap:butt;stroke-linejoin:miter;stroke:rgb(100%,0%,0%);stroke-opacity:1;stroke-miterlimit:10;\" d=\"M -1.994375 -1.993813 L 1.993906 -1.993813 L 1.993906 1.994469 L -1.994375 1.994469 Z M -1.994375 -1.993813 \" transform=\"matrix(1,0,0,-1,35.76,148.139)\"/>\n",
       "<path style=\"fill-rule:nonzero;fill:rgb(79.998779%,0%,0%);fill-opacity:1;stroke-width:0.3985;stroke-linecap:butt;stroke-linejoin:miter;stroke:rgb(100%,0%,0%);stroke-opacity:1;stroke-miterlimit:10;\" d=\"M -1.994375 132.502281 L 1.993906 132.502281 L 1.993906 136.486656 L -1.994375 136.486656 Z M -1.994375 132.502281 \" transform=\"matrix(1,0,0,-1,35.76,148.139)\"/>\n",
       "<path style=\"fill-rule:nonzero;fill:rgb(79.998779%,0%,0%);fill-opacity:1;stroke-width:0.3985;stroke-linecap:butt;stroke-linejoin:miter;stroke:rgb(100%,0%,0%);stroke-opacity:1;stroke-miterlimit:10;\" d=\"M 98.665781 132.502281 L 102.650156 132.502281 L 102.650156 136.486656 L 98.665781 136.486656 Z M 98.665781 132.502281 \" transform=\"matrix(1,0,0,-1,35.76,148.139)\"/>\n",
       "<path style=\"fill-rule:nonzero;fill:rgb(79.998779%,0%,0%);fill-opacity:1;stroke-width:0.3985;stroke-linecap:butt;stroke-linejoin:miter;stroke:rgb(100%,0%,0%);stroke-opacity:1;stroke-miterlimit:10;\" d=\"M 98.665781 -1.993813 L 102.650156 -1.993813 L 102.650156 1.994469 L 98.665781 1.994469 Z M 98.665781 -1.993813 \" transform=\"matrix(1,0,0,-1,35.76,148.139)\"/>\n",
       "<path style=\"fill-rule:nonzero;fill:rgb(79.998779%,0%,0%);fill-opacity:1;stroke-width:0.3985;stroke-linecap:butt;stroke-linejoin:miter;stroke:rgb(100%,0%,0%);stroke-opacity:1;stroke-miterlimit:10;\" d=\"M -1.994375 -1.993813 L 1.993906 -1.993813 L 1.993906 1.994469 L -1.994375 1.994469 Z M -1.994375 -1.993813 \" transform=\"matrix(1,0,0,-1,35.76,148.139)\"/>\n",
       "<path style=\"fill-rule:nonzero;fill:rgb(59.999084%,39.99939%,19.999695%);fill-opacity:1;stroke-width:0.3985;stroke-linecap:butt;stroke-linejoin:miter;stroke:rgb(44.999695%,29.998779%,14.99939%);stroke-opacity:1;stroke-miterlimit:10;\" d=\"M 36.474375 40.603844 C 36.474375 41.705406 35.579844 42.596031 34.482187 42.596031 C 33.380625 42.596031 32.486094 41.705406 32.486094 40.603844 C 32.486094 39.506187 33.380625 38.611656 34.482187 38.611656 C 35.579844 38.611656 36.474375 39.506187 36.474375 40.603844 Z M 33.072031 39.197594 L 35.888437 42.014 M 33.072031 42.014 L 35.888437 39.197594 \" transform=\"matrix(1,0,0,-1,35.76,148.139)\"/>\n",
       "<path style=\"fill-rule:nonzero;fill:rgb(59.999084%,39.99939%,19.999695%);fill-opacity:1;stroke-width:0.3985;stroke-linecap:butt;stroke-linejoin:miter;stroke:rgb(44.999695%,29.998779%,14.99939%);stroke-opacity:1;stroke-miterlimit:10;\" d=\"M 36.474375 58.740562 C 36.474375 59.842125 35.579844 60.73275 34.482187 60.73275 C 33.380625 60.73275 32.486094 59.842125 32.486094 58.740562 C 32.486094 57.642906 33.380625 56.748375 34.482187 56.748375 C 35.579844 56.748375 36.474375 57.642906 36.474375 58.740562 Z M 33.072031 57.334312 L 35.888437 60.150719 M 33.072031 60.150719 L 35.888437 57.334312 \" transform=\"matrix(1,0,0,-1,35.76,148.139)\"/>\n",
       "<path style=\"fill-rule:nonzero;fill:rgb(59.999084%,39.99939%,19.999695%);fill-opacity:1;stroke-width:0.3985;stroke-linecap:butt;stroke-linejoin:miter;stroke:rgb(44.999695%,29.998779%,14.99939%);stroke-opacity:1;stroke-miterlimit:10;\" d=\"M 102.650156 58.740562 C 102.650156 59.842125 101.755625 60.73275 100.657969 60.73275 C 99.556406 60.73275 98.665781 59.842125 98.665781 58.740562 C 98.665781 57.642906 99.556406 56.748375 100.657969 56.748375 C 101.755625 56.748375 102.650156 57.642906 102.650156 58.740562 Z M 99.247812 57.334312 L 102.064219 60.150719 M 99.247812 60.150719 L 102.064219 57.334312 \" transform=\"matrix(1,0,0,-1,35.76,148.139)\"/>\n",
       "<path style=\"fill-rule:nonzero;fill:rgb(59.999084%,39.99939%,19.999695%);fill-opacity:1;stroke-width:0.3985;stroke-linecap:butt;stroke-linejoin:miter;stroke:rgb(44.999695%,29.998779%,14.99939%);stroke-opacity:1;stroke-miterlimit:10;\" d=\"M 102.650156 40.603844 C 102.650156 41.705406 101.755625 42.596031 100.657969 42.596031 C 99.556406 42.596031 98.665781 41.705406 98.665781 40.603844 C 98.665781 39.506187 99.556406 38.611656 100.657969 38.611656 C 101.755625 38.611656 102.650156 39.506187 102.650156 40.603844 Z M 99.247812 39.197594 L 102.064219 42.014 M 99.247812 42.014 L 102.064219 39.197594 \" transform=\"matrix(1,0,0,-1,35.76,148.139)\"/>\n",
       "<path style=\"fill-rule:nonzero;fill:rgb(59.999084%,39.99939%,19.999695%);fill-opacity:1;stroke-width:0.3985;stroke-linecap:butt;stroke-linejoin:miter;stroke:rgb(44.999695%,29.998779%,14.99939%);stroke-opacity:1;stroke-miterlimit:10;\" d=\"M 36.474375 40.603844 C 36.474375 41.705406 35.579844 42.596031 34.482187 42.596031 C 33.380625 42.596031 32.486094 41.705406 32.486094 40.603844 C 32.486094 39.506187 33.380625 38.611656 34.482187 38.611656 C 35.579844 38.611656 36.474375 39.506187 36.474375 40.603844 Z M 33.072031 39.197594 L 35.888437 42.014 M 33.072031 42.014 L 35.888437 39.197594 \" transform=\"matrix(1,0,0,-1,35.76,148.139)\"/>\n",
       "<path style=\"fill:none;stroke-width:0.3985;stroke-linecap:butt;stroke-linejoin:miter;stroke:rgb(0%,0%,0%);stroke-opacity:1;stroke-miterlimit:10;\" d=\"M 0.00171875 -0.001625 L 0.00171875 1.994469 M 0.00171875 -0.001625 L 1.89625 0.615562 M 0.00171875 -0.001625 L 1.169687 -1.611 M 0.00171875 -0.001625 L -1.170156 -1.611 M 0.00171875 -0.001625 L -1.896719 0.615562 \" transform=\"matrix(1,0,0,-1,35.76,148.139)\"/>\n",
       "<path style=\"fill:none;stroke-width:0.3985;stroke-linecap:butt;stroke-linejoin:miter;stroke:rgb(0%,0%,0%);stroke-opacity:1;stroke-miterlimit:10;\" d=\"M 0.00171875 134.494469 L 0.00171875 136.486656 M 0.00171875 134.494469 L 1.89625 135.111656 M 0.00171875 134.494469 L 1.169687 132.881187 M 0.00171875 134.494469 L -1.170156 132.881187 M 0.00171875 134.494469 L -1.896719 135.111656 \" transform=\"matrix(1,0,0,-1,35.76,148.139)\"/>\n",
       "<path style=\"fill:none;stroke-width:0.3985;stroke-linecap:butt;stroke-linejoin:miter;stroke:rgb(0%,0%,0%);stroke-opacity:1;stroke-miterlimit:10;\" d=\"M 161.892344 134.494469 L 161.892344 136.486656 M 161.892344 134.494469 L 163.786875 135.111656 M 161.892344 134.494469 L 163.064219 132.881187 M 161.892344 134.494469 L 160.720469 132.881187 M 161.892344 134.494469 L 159.997813 135.111656 \" transform=\"matrix(1,0,0,-1,35.76,148.139)\"/>\n",
       "<path style=\"fill:none;stroke-width:0.3985;stroke-linecap:butt;stroke-linejoin:miter;stroke:rgb(0%,0%,0%);stroke-opacity:1;stroke-miterlimit:10;\" d=\"M 161.892344 -0.001625 L 161.892344 1.994469 M 161.892344 -0.001625 L 163.786875 0.615562 M 161.892344 -0.001625 L 163.064219 -1.611 M 161.892344 -0.001625 L 160.720469 -1.611 M 161.892344 -0.001625 L 159.997813 0.615562 \" transform=\"matrix(1,0,0,-1,35.76,148.139)\"/>\n",
       "<path style=\"fill:none;stroke-width:0.3985;stroke-linecap:butt;stroke-linejoin:miter;stroke:rgb(0%,0%,0%);stroke-opacity:1;stroke-miterlimit:10;\" d=\"M 0.00171875 -0.001625 L 0.00171875 1.994469 M 0.00171875 -0.001625 L 1.89625 0.615562 M 0.00171875 -0.001625 L 1.169687 -1.611 M 0.00171875 -0.001625 L -1.170156 -1.611 M 0.00171875 -0.001625 L -1.896719 0.615562 \" transform=\"matrix(1,0,0,-1,35.76,148.139)\"/>\n",
       "</g>\n",
       "</svg>\n",
       "\n"
      ],
      "text/plain": [
       "PGFPlots.Axis(PGFPlots.Plots.Plot[PGFPlots.Plots.Linear(Real[0.24802 0.24802 … 0.938002 0.24802; 0.38284 0.499095 … 0.38284 0.38284], nothing, nothing, nothing, nothing, nothing, nothing), PGFPlots.Plots.Linear(Real[0.061296 0.061296 … 0.606388 0.061296; 0.122563 0.98467 … 0.122563 0.122563], nothing, nothing, nothing, nothing, nothing, nothing), PGFPlots.Plots.Linear(Real[0.24802 0.24802 … 0.606388 0.24802; 0.38284 0.499095 … 0.38284 0.38284], nothing, nothing, nothing, nothing, nothing, nothing), PGFPlots.Plots.Linear(Real[0.061296 0.061296 … 0.938002 0.061296; 0.122563 0.98467 … 0.122563 0.122563], nothing, nothing, nothing, nothing, nothing, nothing)], nothing, nothing, nothing, nothing, nothing, nothing, nothing, nothing, nothing, nothing, nothing, nothing, nothing, nothing, nothing, nothing, nothing, nothing, nothing, nothing, nothing, nothing, nothing, nothing, nothing, nothing, \"axis\")"
      ]
     },
     "execution_count": 46,
     "metadata": {},
     "output_type": "execute_result"
    }
   ],
   "source": [
    "Axis([\n",
    "        Plots.Linear(\n",
    "            [H1.X_lo[1], H1.X_lo[1], H1.X_hi[1], H1.X_hi[1], H1.X_lo[1]],\n",
    "            [H1.X_lo[2], H1.X_hi[2], H1.X_hi[2], H1.X_lo[2], H1.X_lo[2]]),\n",
    "        Plots.Linear(\n",
    "            [H2.X_lo[1], H2.X_lo[1], H2.X_hi[1], H2.X_hi[1], H2.X_lo[1]],\n",
    "            [H2.X_lo[2], H2.X_hi[2], H2.X_hi[2], H2.X_lo[2], H2.X_lo[2]]),\n",
    "        Plots.Linear(\n",
    "            [H3.X_lo[1], H3.X_lo[1], H3.X_hi[1], H3.X_hi[1], H3.X_lo[1]],\n",
    "            [H3.X_lo[2], H3.X_hi[2], H3.X_hi[2], H3.X_lo[2], H3.X_lo[2]]),\n",
    "        Plots.Linear(\n",
    "            [H4.X_lo[1], H4.X_lo[1], H4.X_hi[1], H4.X_hi[1], H4.X_lo[1]],\n",
    "            [H4.X_lo[2], H4.X_hi[2], H4.X_hi[2], H4.X_lo[2], H4.X_lo[2]])\n",
    "        ])"
   ]
  },
  {
   "cell_type": "code",
   "execution_count": 48,
   "metadata": {},
   "outputs": [],
   "source": [
    "objects = [rand(2,4) .+ 10*rand(2,1) - 5 for i in 1:100];\n",
    "object_rects = [HyperRectangle(x) for x in objects];"
   ]
  },
  {
   "cell_type": "code",
   "execution_count": 49,
   "metadata": {},
   "outputs": [
    {
     "data": {
      "text/plain": [
       "InternalNode{2}(0, Int64[], -1, HyperRectangle{2}([-4.71832; -4.87311], [5.74562; 5.8392]))"
      ]
     },
     "execution_count": 49,
     "metadata": {},
     "output_type": "execute_result"
    }
   ],
   "source": [
    "xmax = maximum([maximum(object[1,:]) for object in objects]) \n",
    "ymax = maximum([maximum(object[2,:]) for object in objects])\n",
    "xmin = minimum([minimum(object[1,:]) for object in objects]) \n",
    "ymin = minimum([minimum(object[2,:]) for object in objects])\n",
    "root_node = InternalNode(0,Array{Int,1}(),-1,HyperRectangle([xmin xmax;ymin ymax]))"
   ]
  },
  {
   "cell_type": "code",
   "execution_count": null,
   "metadata": {
    "collapsed": true
   },
   "outputs": [],
   "source": [
    "frontier = Set(i for i in 1:length(objects))\n",
    "explored = Set()\n",
    "M = 4\n",
    "m = 1\n",
    "\n",
    "next_id = root_node.id + 1\n",
    "\n",
    "while length(frontier) > 0\n",
    "    object_id = pop!(frontier)\n",
    "    push!(object_id, explored)\n",
    "    \n",
    "    node = root_node\n",
    "    \n",
    "    eligible_nodes = []\n",
    "    if length(node.children) == 0\n",
    "        next_node = InternalNode(next_id, Array{Int,1}(), node.id, object_rects[object_id])\n",
    "    elseif \n",
    "    end\n",
    "\n",
    "    \n",
    "end"
   ]
  },
  {
   "cell_type": "code",
   "execution_count": null,
   "metadata": {
    "collapsed": true
   },
   "outputs": [],
   "source": []
  }
 ],
 "metadata": {
  "kernelspec": {
   "display_name": "Julia 0.6.1",
   "language": "julia",
   "name": "julia-0.6"
  },
  "language_info": {
   "file_extension": ".jl",
   "mimetype": "application/julia",
   "name": "julia",
   "version": "0.6.1"
  }
 },
 "nbformat": 4,
 "nbformat_minor": 2
}
