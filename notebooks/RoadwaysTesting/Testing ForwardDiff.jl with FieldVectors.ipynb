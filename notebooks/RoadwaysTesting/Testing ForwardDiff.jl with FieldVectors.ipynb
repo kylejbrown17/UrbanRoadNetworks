{
 "cells": [
  {
   "cell_type": "code",
   "execution_count": 1,
   "metadata": {},
   "outputs": [
    {
     "name": "stderr",
     "output_type": "stream",
     "text": [
      "\u001b[1m\u001b[36mINFO: \u001b[39m\u001b[22m\u001b[36mRecompiling stale cache file /home/kylebrown/.julia/lib/v0.6/ForwardDiff.ji for module ForwardDiff.\n",
      "\u001b[39m"
     ]
    }
   ],
   "source": [
    "using StaticArrays\n",
    "using ForwardDiff"
   ]
  },
  {
   "cell_type": "code",
   "execution_count": 2,
   "metadata": {
    "collapsed": true
   },
   "outputs": [],
   "source": [
    "import ForwardDiff: dualize, Chunk, Dual"
   ]
  },
  {
   "cell_type": "markdown",
   "metadata": {},
   "source": [
    "# Accessing length() and eltype() directly from type parameters"
   ]
  },
  {
   "cell_type": "code",
   "execution_count": 3,
   "metadata": {
    "collapsed": true
   },
   "outputs": [],
   "source": [
    "# # @generated function dualize2(::Type{T}, x::SArray{S,V,D,N}) where {T,S,V,D,N}\n",
    "# @generated function dualize2(::Type{T}, x::Union{FieldVector{N,V}, SArray{S,V,D,N}}) where {T,S,V,D,N}\n",
    "# #     N = length(x)\n",
    "# #     V = eltype(x)\n",
    "#     dx = Expr(:tuple, [:(Dual{T}(x[$i], chunk, Val{$i}())) for i in 1:N]...)\n",
    "#     return quote\n",
    "#         chunk = Chunk{N}()\n",
    "#         $(Expr(:meta, :inline))\n",
    "#         # return SArray{S}($(dx))\n",
    "#         similar_type($x,Dual{T,V,N})($(dx))\n",
    "#     end\n",
    "# end"
   ]
  },
  {
   "cell_type": "code",
   "execution_count": 4,
   "metadata": {},
   "outputs": [
    {
     "data": {
      "text/plain": [
       "2-element SVector{2,Float64}:\n",
       " 1.0\n",
       " 2.0"
      ]
     },
     "execution_count": 4,
     "metadata": {},
     "output_type": "execute_result"
    }
   ],
   "source": [
    "p = SVector(1.0,2.0)"
   ]
  },
  {
   "cell_type": "code",
   "execution_count": 5,
   "metadata": {},
   "outputs": [
    {
     "ename": "LoadError",
     "evalue": "\u001b[91mUndefVarError: dualize2 not defined\u001b[39m",
     "output_type": "error",
     "traceback": [
      "\u001b[91mUndefVarError: dualize2 not defined\u001b[39m",
      "",
      "Stacktrace:",
      " [1] \u001b[1minclude_string\u001b[22m\u001b[22m\u001b[1m(\u001b[22m\u001b[22m::String, ::String\u001b[1m)\u001b[22m\u001b[22m at \u001b[1m./loading.jl:522\u001b[22m\u001b[22m"
     ]
    }
   ],
   "source": [
    "dualize2(Float64, p)"
   ]
  },
  {
   "cell_type": "markdown",
   "metadata": {},
   "source": [
    "# AutomaticDifferentiation"
   ]
  },
  {
   "cell_type": "code",
   "execution_count": 6,
   "metadata": {
    "collapsed": true
   },
   "outputs": [],
   "source": [
    "struct Point{R<:Real} <: FieldVector{2,R}\n",
    "    x::R\n",
    "    y::R\n",
    "end\n",
    "StaticArrays.similar_type(p::Type{P}, ::Type{R}, size::Size{(2,)}) where {P<:Point, R<:Real} = Point{R}"
   ]
  },
  {
   "cell_type": "code",
   "execution_count": 7,
   "metadata": {},
   "outputs": [
    {
     "data": {
      "text/plain": [
       "2-element Point{Float64}:\n",
       " 1.0\n",
       " 2.0"
      ]
     },
     "execution_count": 7,
     "metadata": {},
     "output_type": "execute_result"
    }
   ],
   "source": [
    "x = Point(1.0,2.0)"
   ]
  },
  {
   "cell_type": "code",
   "execution_count": 8,
   "metadata": {},
   "outputs": [
    {
     "data": {
      "text/plain": [
       "SVector{2,Float64}"
      ]
     },
     "execution_count": 8,
     "metadata": {},
     "output_type": "execute_result"
    }
   ],
   "source": [
    "PT = typeof(x)\n",
    "ST = typeof(SVector(1.0,2.0))"
   ]
  },
  {
   "cell_type": "code",
   "execution_count": 9,
   "metadata": {},
   "outputs": [
    {
     "data": {
      "text/plain": [
       "svec(Tuple{2}, Float64, 1, 2)"
      ]
     },
     "execution_count": 9,
     "metadata": {},
     "output_type": "execute_result"
    }
   ],
   "source": [
    "N,V = supertype(typeof(x)).parameters\n",
    "S,V,D,N = typeof(SVector(1.0,2.0)).parameters"
   ]
  },
  {
   "cell_type": "code",
   "execution_count": 10,
   "metadata": {},
   "outputs": [
    {
     "data": {
      "text/plain": [
       "svec(Tuple{2}, Float64, 1, 2)"
      ]
     },
     "execution_count": 10,
     "metadata": {},
     "output_type": "execute_result"
    }
   ],
   "source": [
    "S,V,D,N = typeof(SVector(1.0,2.0)).parameters"
   ]
  },
  {
   "cell_type": "code",
   "execution_count": 11,
   "metadata": {},
   "outputs": [
    {
     "data": {
      "text/plain": [
       "svec(Tuple{2}, Float64, 1, 2)"
      ]
     },
     "execution_count": 11,
     "metadata": {},
     "output_type": "execute_result"
    }
   ],
   "source": [
    "SN,SV, = ST.parameters"
   ]
  },
  {
   "cell_type": "code",
   "execution_count": 12,
   "metadata": {},
   "outputs": [
    {
     "data": {
      "text/plain": [
       "2-element Point{Float64}:\n",
       " 1.0\n",
       " 2.0"
      ]
     },
     "execution_count": 12,
     "metadata": {},
     "output_type": "execute_result"
    }
   ],
   "source": [
    "p = Point(1.0,2.0)"
   ]
  },
  {
   "cell_type": "code",
   "execution_count": 13,
   "metadata": {},
   "outputs": [
    {
     "data": {
      "text/plain": [
       "2-element Point{Float64}:\n",
       " -2.0\n",
       " -3.0"
      ]
     },
     "execution_count": 13,
     "metadata": {},
     "output_type": "execute_result"
    }
   ],
   "source": [
    "p .- Point(3.0,5.0)"
   ]
  },
  {
   "cell_type": "code",
   "execution_count": 14,
   "metadata": {},
   "outputs": [
    {
     "data": {
      "text/plain": [
       "2-element Point{ForwardDiff.Dual{Float64,Float64,2}}:\n",
       " Dual{Float64}(2.0,1.0,0.0)\n",
       " Dual{Float64}(3.0,0.0,1.0)"
      ]
     },
     "execution_count": 14,
     "metadata": {},
     "output_type": "execute_result"
    }
   ],
   "source": [
    "p = Point(2.0,3.0)\n",
    "x = SVector(2.0,3.0)\n",
    "dualize(Float64, p)"
   ]
  },
  {
   "cell_type": "code",
   "execution_count": 15,
   "metadata": {},
   "outputs": [
    {
     "data": {
      "text/plain": [
       "2-element SVector{2,ForwardDiff.Dual{Float64,Float64,2}}:\n",
       " Dual{Float64}(2.0,1.0,0.0)\n",
       " Dual{Float64}(3.0,0.0,1.0)"
      ]
     },
     "execution_count": 15,
     "metadata": {},
     "output_type": "execute_result"
    }
   ],
   "source": [
    "dualize(Float64,x)"
   ]
  },
  {
   "cell_type": "code",
   "execution_count": 16,
   "metadata": {},
   "outputs": [
    {
     "data": {
      "text/plain": [
       "2-element Point{Float64}:\n",
       " 1.0\n",
       " 0.0"
      ]
     },
     "execution_count": 16,
     "metadata": {},
     "output_type": "execute_result"
    }
   ],
   "source": [
    "f(p) = p.x\n",
    "ForwardDiff.gradient(f, Point(2.0,3.0))"
   ]
  },
  {
   "cell_type": "code",
   "execution_count": 17,
   "metadata": {},
   "outputs": [
    {
     "data": {
      "text/plain": [
       "3-element SVector{3,Int64}:\n",
       " 1\n",
       " 1\n",
       " 1"
      ]
     },
     "execution_count": 17,
     "metadata": {},
     "output_type": "execute_result"
    }
   ],
   "source": [
    "f(p) = sum(p)\n",
    "ForwardDiff.gradient(f, SVector(1,2,3))"
   ]
  },
  {
   "cell_type": "code",
   "execution_count": 18,
   "metadata": {},
   "outputs": [
    {
     "data": {
      "text/plain": [
       "10×1 StaticArrays.SArray{Tuple{10,1},ForwardDiff.Dual{Float64,Float64,10},2,10}:\n",
       " Dual{Float64}(1.0,1.0,0.0,0.0,0.0,0.0,0.0,0.0,0.0,0.0,0.0)\n",
       " Dual{Float64}(1.0,0.0,1.0,0.0,0.0,0.0,0.0,0.0,0.0,0.0,0.0)\n",
       " Dual{Float64}(1.0,0.0,0.0,1.0,0.0,0.0,0.0,0.0,0.0,0.0,0.0)\n",
       " Dual{Float64}(1.0,0.0,0.0,0.0,1.0,0.0,0.0,0.0,0.0,0.0,0.0)\n",
       " Dual{Float64}(1.0,0.0,0.0,0.0,0.0,1.0,0.0,0.0,0.0,0.0,0.0)\n",
       " Dual{Float64}(1.0,0.0,0.0,0.0,0.0,0.0,1.0,0.0,0.0,0.0,0.0)\n",
       " Dual{Float64}(1.0,0.0,0.0,0.0,0.0,0.0,0.0,1.0,0.0,0.0,0.0)\n",
       " Dual{Float64}(1.0,0.0,0.0,0.0,0.0,0.0,0.0,0.0,1.0,0.0,0.0)\n",
       " Dual{Float64}(1.0,0.0,0.0,0.0,0.0,0.0,0.0,0.0,0.0,1.0,0.0)\n",
       " Dual{Float64}(1.0,0.0,0.0,0.0,0.0,0.0,0.0,0.0,0.0,0.0,1.0)"
      ]
     },
     "execution_count": 18,
     "metadata": {},
     "output_type": "execute_result"
    }
   ],
   "source": [
    "A = SArray{Tuple{10,1}}(ones(10))\n",
    "A_d = ForwardDiff.dualize(Float64, A)"
   ]
  },
  {
   "cell_type": "code",
   "execution_count": 19,
   "metadata": {},
   "outputs": [
    {
     "data": {
      "text/plain": [
       "2-element Point{ForwardDiff.Dual{Float64,Float64,2}}:\n",
       " Dual{Float64}(1.0,1.0,0.0)\n",
       " Dual{Float64}(2.0,0.0,1.0)"
      ]
     },
     "execution_count": 19,
     "metadata": {},
     "output_type": "execute_result"
    }
   ],
   "source": [
    "A = [1.0;2.0]\n",
    "P = Point(1.0,2.0)\n",
    "A_d = ForwardDiff.dualize(Float64, P)"
   ]
  },
  {
   "cell_type": "markdown",
   "metadata": {},
   "source": [
    "# Define generated dualize() method for FieldVectors"
   ]
  },
  {
   "cell_type": "code",
   "execution_count": 20,
   "metadata": {},
   "outputs": [
    {
     "data": {
      "text/plain": [
       "2-element Point{ForwardDiff.Dual{Float64,Float64,2}}:\n",
       " Dual{Float64}(2.0,1.0,0.0)\n",
       " Dual{Float64}(3.0,0.0,1.0)"
      ]
     },
     "execution_count": 20,
     "metadata": {},
     "output_type": "execute_result"
    }
   ],
   "source": [
    "p = Point(2.0,3.0)\n",
    "dualize(Float64, p)"
   ]
  },
  {
   "cell_type": "markdown",
   "metadata": {},
   "source": [
    "# Gradient"
   ]
  },
  {
   "cell_type": "code",
   "execution_count": 21,
   "metadata": {
    "collapsed": true
   },
   "outputs": [],
   "source": [
    "x = rand(2, 1)\n",
    "fx = Point(x[1],x[2]) # Point\n",
    "sx = StaticArrays.SArray{Tuple{2,1}}(x)\n",
    "\n",
    "cfg = ForwardDiff.GradientConfig(nothing, x)\n",
    "fcfg = ForwardDiff.GradientConfig(nothing, fx)\n",
    "scfg = ForwardDiff.GradientConfig(nothing, sx);"
   ]
  },
  {
   "cell_type": "code",
   "execution_count": 22,
   "metadata": {
    "collapsed": true
   },
   "outputs": [],
   "source": [
    "import ForwardDiff: extract_gradient, partials, vector_mode_gradient, Tag, Partials, extract_gradient!"
   ]
  },
  {
   "cell_type": "code",
   "execution_count": 23,
   "metadata": {},
   "outputs": [
    {
     "name": "stdout",
     "output_type": "stream",
     "text": [
      "extract_gradient!(Float64, similar(x), 1.0) = [0.0; 0.0]\n",
      "extract_gradient(Float64, 1.0, sx) = [0.0; 0.0]\n",
      "extract_gradient(Float64, 1.0, fx) = [0.0, 0.0]\n"
     ]
    },
    {
     "data": {
      "text/plain": [
       "2-element Point{Float64}:\n",
       " 0.0\n",
       " 0.0"
      ]
     },
     "execution_count": 23,
     "metadata": {},
     "output_type": "execute_result"
    }
   ],
   "source": [
    "@show extract_gradient!(Float64, similar(x), 1.0)\n",
    "@show extract_gradient(Float64, 1.0, sx)\n",
    "@show extract_gradient(Float64, 1.0, fx)"
   ]
  },
  {
   "cell_type": "code",
   "execution_count": 24,
   "metadata": {},
   "outputs": [
    {
     "data": {
      "text/plain": [
       "0.0"
      ]
     },
     "execution_count": 24,
     "metadata": {},
     "output_type": "execute_result"
    }
   ],
   "source": [
    "d = Dual{2}(1.0,Partials((1.0,2.0)))\n",
    "partials(d,2)\n",
    "partials(1.0,d,2)"
   ]
  },
  {
   "cell_type": "code",
   "execution_count": 25,
   "metadata": {},
   "outputs": [
    {
     "name": "stdout",
     "output_type": "stream",
     "text": [
      "vector_mode_gradient(prod, x, cfg) = [0.59146; 0.0622996]\n",
      "vector_mode_gradient(prod, sx, scfg) = "
     ]
    },
    {
     "data": {
      "text/plain": [
       "2×1 StaticArrays.MArray{Tuple{2,1},Float64,2,2}:\n",
       " 0.59146  \n",
       " 0.0622996"
      ]
     },
     "execution_count": 25,
     "metadata": {},
     "output_type": "execute_result"
    },
    {
     "name": "stdout",
     "output_type": "stream",
     "text": [
      "[0.59146; 0.0622996]\n"
     ]
    }
   ],
   "source": [
    "@show vector_mode_gradient(prod, x, cfg)\n",
    "@show vector_mode_gradient(prod, sx, scfg)"
   ]
  },
  {
   "cell_type": "code",
   "execution_count": 26,
   "metadata": {},
   "outputs": [
    {
     "name": "stdout",
     "output_type": "stream",
     "text": [
      "vector_mode_gradient(prod, fx, fcfg) = [0.59146, 0.0622996]\n"
     ]
    },
    {
     "data": {
      "text/plain": [
       "2-element MVector{2,Float64}:\n",
       " 0.59146  \n",
       " 0.0622996"
      ]
     },
     "execution_count": 26,
     "metadata": {},
     "output_type": "execute_result"
    }
   ],
   "source": [
    "@show vector_mode_gradient(prod, fx, fcfg)"
   ]
  },
  {
   "cell_type": "code",
   "execution_count": 27,
   "metadata": {},
   "outputs": [
    {
     "name": "stdout",
     "output_type": "stream",
     "text": [
      "vector_mode_gradient(prod, fx) = [0.59146, 0.0622996]\n"
     ]
    },
    {
     "data": {
      "text/plain": [
       "2-element Point{Float64}:\n",
       " 0.59146  \n",
       " 0.0622996"
      ]
     },
     "execution_count": 27,
     "metadata": {},
     "output_type": "execute_result"
    }
   ],
   "source": [
    "@show vector_mode_gradient(prod, fx)"
   ]
  },
  {
   "cell_type": "markdown",
   "metadata": {},
   "source": [
    "# Need to implement GradientConfig() for SArray and FieldVector"
   ]
  },
  {
   "cell_type": "code",
   "execution_count": 28,
   "metadata": {
    "scrolled": true
   },
   "outputs": [
    {
     "data": {
      "text/plain": [
       "true"
      ]
     },
     "execution_count": 28,
     "metadata": {},
     "output_type": "execute_result"
    }
   ],
   "source": [
    "Point(1.0,2.0) == SArray(Point(1.0,2.0))"
   ]
  },
  {
   "cell_type": "code",
   "execution_count": 29,
   "metadata": {},
   "outputs": [
    {
     "name": "stdout",
     "output_type": "stream",
     "text": [
      "ForwardDiff.gradient(prod, fx) = [0.59146, 0.0622996]\n",
      "ForwardDiff.gradient((p->begin  # In[29], line 2:\n",
      "            p.x * p.y\n",
      "        end), fx) = [0.59146, 0.0622996]\n"
     ]
    },
    {
     "data": {
      "text/plain": [
       "2-element Point{Float64}:\n",
       " 0.59146  \n",
       " 0.0622996"
      ]
     },
     "execution_count": 29,
     "metadata": {},
     "output_type": "execute_result"
    }
   ],
   "source": [
    "@show ForwardDiff.gradient(prod, fx)\n",
    "@show ForwardDiff.gradient(p -> p.x*p.y, fx)"
   ]
  },
  {
   "cell_type": "code",
   "execution_count": 30,
   "metadata": {},
   "outputs": [
    {
     "name": "stdout",
     "output_type": "stream",
     "text": [
      "(ForwardDiff.gradient(prod, x, cfg))[:] == (ForwardDiff.gradient(prod, fx, fcfg))[:] = true\n"
     ]
    },
    {
     "data": {
      "text/plain": [
       "true"
      ]
     },
     "execution_count": 30,
     "metadata": {},
     "output_type": "execute_result"
    }
   ],
   "source": [
    "@show ForwardDiff.gradient(prod, x, cfg)[:] == ForwardDiff.gradient(prod, fx, fcfg)[:]"
   ]
  },
  {
   "cell_type": "markdown",
   "metadata": {},
   "source": [
    "# Hessian"
   ]
  },
  {
   "cell_type": "code",
   "execution_count": 31,
   "metadata": {},
   "outputs": [
    {
     "data": {
      "text/plain": [
       "2×2 StaticArrays.SArray{Tuple{2,2},Float64,2,4}:\n",
       " 0.699649  0.147391  \n",
       " 0.147391  0.00776248"
      ]
     },
     "execution_count": 31,
     "metadata": {},
     "output_type": "execute_result"
    }
   ],
   "source": [
    "ForwardDiff.hessian(p -> (p.x*p.y)^2, fx)"
   ]
  },
  {
   "cell_type": "code",
   "execution_count": 32,
   "metadata": {
    "collapsed": true
   },
   "outputs": [],
   "source": [
    "struct BigPoint{R <: Real} <: FieldVector{5,R}\n",
    "    x::R\n",
    "    y::R\n",
    "    z::R\n",
    "    θ::R\n",
    "    s::R\n",
    "end\n",
    "StaticArrays.similar_type(p::Type{P}, ::Type{R}, size::Size{(5,)}) where {P<:BigPoint, R<:Real} = BigPoint{R}"
   ]
  },
  {
   "cell_type": "code",
   "execution_count": 33,
   "metadata": {},
   "outputs": [
    {
     "data": {
      "text/plain": [
       "2×2 StaticArrays.SArray{Tuple{2,2},Float64,2,4}:\n",
       " 8.0  8.0\n",
       " 8.0  2.0"
      ]
     },
     "execution_count": 33,
     "metadata": {},
     "output_type": "execute_result"
    }
   ],
   "source": [
    "ForwardDiff.hessian(p -> (p.x*p.y)^2, Point(1.0,2.0))"
   ]
  },
  {
   "cell_type": "code",
   "execution_count": 34,
   "metadata": {},
   "outputs": [
    {
     "data": {
      "text/plain": [
       "5-element BigPoint{Float64}:\n",
       "   1.0     \n",
       "   2.0     \n",
       "   3.0     \n",
       "   0.785398\n",
       " 100.0     "
      ]
     },
     "execution_count": 34,
     "metadata": {},
     "output_type": "execute_result"
    }
   ],
   "source": [
    "P = BigPoint(1.0,2.0,3.0,π/4,100.0)"
   ]
  },
  {
   "cell_type": "code",
   "execution_count": 35,
   "metadata": {},
   "outputs": [
    {
     "data": {
      "text/plain": [
       "5×5 StaticArrays.SArray{Tuple{5,5},Float64,2,25}:\n",
       "   8.0      155.421      4.0       282.843    2.82843\n",
       " 155.421      2.0        2.0       141.421    1.41421\n",
       "   4.0        2.0        2.0       141.421    1.41421\n",
       " 282.843    141.421    141.421    -707.107  207.071  \n",
       "   2.82843    1.41421    1.41421   207.071    1.0    "
      ]
     },
     "execution_count": 35,
     "metadata": {},
     "output_type": "execute_result"
    }
   ],
   "source": [
    "ForwardDiff.hessian(p -> (p.x*p.y + p.z + p.s*sin(p.θ))^2, P)"
   ]
  },
  {
   "cell_type": "markdown",
   "metadata": {},
   "source": [
    "# Tests"
   ]
  },
  {
   "cell_type": "markdown",
   "metadata": {},
   "source": [
    "# Gradient Tests for Static Arrays"
   ]
  },
  {
   "cell_type": "code",
   "execution_count": 36,
   "metadata": {
    "collapsed": true
   },
   "outputs": [],
   "source": [
    "struct Point3D{R<:Real} <: FieldVector{3,R}\n",
    "    x::R\n",
    "    y::R\n",
    "    z::R\n",
    "end\n",
    "StaticArrays.similar_type(p::Type{P}, ::Type{R}, size::Size{(3,)}) where {P<:Point3D, R<:Real} = Point3D{R}"
   ]
  },
  {
   "cell_type": "code",
   "execution_count": 37,
   "metadata": {},
   "outputs": [
    {
     "name": "stdout",
     "output_type": "stream",
     "text": [
      "  ...testing specialized StaticArray codepaths\n",
      "ForwardDiff.gradient(prod, sx) == actual = true\n",
      "ForwardDiff.gradient(prod, sx, cfg) == actual = true\n",
      "ForwardDiff.gradient(prod, sx, scfg) == actual = true\n",
      "out == actual = true\n",
      "out == actual = true\n",
      "out == actual = true\n",
      "DiffResults.value(result1) == DiffResults.value(result) = true\n",
      "DiffResults.value(result2) == DiffResults.value(result) = true\n",
      "DiffResults.value(result3) == DiffResults.value(result) = true\n",
      "DiffResults.gradient(result1) == DiffResults.gradient(result) = true\n",
      "DiffResults.gradient(result2) == DiffResults.gradient(result) = true\n",
      "DiffResults.gradient(result3) == DiffResults.gradient(result) = true\n",
      "DiffResults.value(sresult1) == DiffResults.value(result) = true\n",
      "DiffResults.value(sresult2) == DiffResults.value(result) = true\n",
      "DiffResults.value(sresult3) == DiffResults.value(result) = true\n",
      "DiffResults.gradient(sresult1) == DiffResults.gradient(result) = true\n",
      "DiffResults.gradient(sresult2) == DiffResults.gradient(result) = true\n",
      "DiffResults.gradient(sresult3) == DiffResults.gradient(result) = true\n"
     ]
    },
    {
     "data": {
      "text/plain": [
       "true"
      ]
     },
     "execution_count": 37,
     "metadata": {},
     "output_type": "execute_result"
    }
   ],
   "source": [
    "println(\"  ...testing specialized StaticArray codepaths\")\n",
    "\n",
    "x = rand(3, 3)\n",
    "sx = StaticArrays.SArray{Tuple{3,3}}(x)\n",
    "\n",
    "cfg = ForwardDiff.GradientConfig(nothing, x)\n",
    "scfg = ForwardDiff.GradientConfig(nothing, sx)\n",
    "\n",
    "actual = ForwardDiff.gradient(prod, x)\n",
    "@show ForwardDiff.gradient(prod, sx) == actual\n",
    "@show ForwardDiff.gradient(prod, sx, cfg) == actual\n",
    "@show ForwardDiff.gradient(prod, sx, scfg) == actual\n",
    "\n",
    "out = similar(x)\n",
    "ForwardDiff.gradient!(out, prod, sx)\n",
    "@show out == actual\n",
    "\n",
    "out = similar(x)\n",
    "ForwardDiff.gradient!(out, prod, sx, cfg)\n",
    "@show out == actual\n",
    "\n",
    "out = similar(x)\n",
    "ForwardDiff.gradient!(out, prod, sx, scfg)\n",
    "@show out == actual\n",
    "\n",
    "result = DiffResults.GradientResult(x)\n",
    "result = ForwardDiff.gradient!(result, prod, x)\n",
    "\n",
    "result1 = DiffResults.GradientResult(x)\n",
    "result2 = DiffResults.GradientResult(x)\n",
    "result3 = DiffResults.GradientResult(x)\n",
    "result1 = ForwardDiff.gradient!(result1, prod, sx)\n",
    "result2 = ForwardDiff.gradient!(result2, prod, sx, cfg)\n",
    "result3 = ForwardDiff.gradient!(result3, prod, sx, scfg)\n",
    "@show DiffResults.value(result1) == DiffResults.value(result)\n",
    "@show DiffResults.value(result2) == DiffResults.value(result)\n",
    "@show DiffResults.value(result3) == DiffResults.value(result)\n",
    "@show DiffResults.gradient(result1) == DiffResults.gradient(result)\n",
    "@show DiffResults.gradient(result2) == DiffResults.gradient(result)\n",
    "@show DiffResults.gradient(result3) == DiffResults.gradient(result)\n",
    "\n",
    "sresult1 = DiffResults.GradientResult(sx)\n",
    "sresult2 = DiffResults.GradientResult(sx)\n",
    "sresult3 = DiffResults.GradientResult(sx)\n",
    "sresult1 = ForwardDiff.gradient!(sresult1, prod, sx)\n",
    "sresult2 = ForwardDiff.gradient!(sresult2, prod, sx, cfg)\n",
    "sresult3 = ForwardDiff.gradient!(sresult3, prod, sx, scfg)\n",
    "@show DiffResults.value(sresult1) == DiffResults.value(result)\n",
    "@show DiffResults.value(sresult2) == DiffResults.value(result)\n",
    "@show DiffResults.value(sresult3) == DiffResults.value(result)\n",
    "@show DiffResults.gradient(sresult1) == DiffResults.gradient(result)\n",
    "@show DiffResults.gradient(sresult2) == DiffResults.gradient(result)\n",
    "@show DiffResults.gradient(sresult3) == DiffResults.gradient(result)"
   ]
  },
  {
   "cell_type": "code",
   "execution_count": 38,
   "metadata": {
    "scrolled": false
   },
   "outputs": [
    {
     "name": "stdout",
     "output_type": "stream",
     "text": [
      "  ...testing specialized FieldVector codepaths\n",
      "ForwardDiff.gradient(prod, fx) == actual[:] = true\n",
      "ForwardDiff.gradient(prod, fx, cfg) == actual[:] = true\n",
      "ForwardDiff.gradient(prod, fx, fcfg) == actual[:] = true\n",
      "out == actual = true\n",
      "out == actual = true\n",
      "out == actual = true\n",
      "DiffResults.value(result1) == DiffResults.value(result) = true\n",
      "DiffResults.value(result2) == DiffResults.value(result) = true\n",
      "DiffResults.value(result3) == DiffResults.value(result) = true\n",
      "DiffResults.gradient(result1) == DiffResults.gradient(result) = true\n",
      "DiffResults.gradient(result2) == DiffResults.gradient(result) = true\n",
      "DiffResults.gradient(result3) == DiffResults.gradient(result) = true\n",
      "DiffResults.value(fresult1) == DiffResults.value(result) = true\n",
      "DiffResults.value(fresult2) == DiffResults.value(result) = true\n",
      "DiffResults.value(fresult3) == DiffResults.value(result) = true\n",
      "DiffResults.gradient(fresult1) == (DiffResults.gradient(result))[:] = true\n",
      "DiffResults.gradient(fresult2) == (DiffResults.gradient(result))[:] = true\n",
      "DiffResults.gradient(fresult3) == (DiffResults.gradient(result))[:] = true\n"
     ]
    },
    {
     "data": {
      "text/plain": [
       "true"
      ]
     },
     "execution_count": 38,
     "metadata": {},
     "output_type": "execute_result"
    }
   ],
   "source": [
    "println(\"  ...testing specialized FieldVector codepaths\")\n",
    "\n",
    "struct Point3D{R<:Real} <: FieldVector{3,R}\n",
    "    x::R\n",
    "    y::R\n",
    "    z::R\n",
    "end\n",
    "StaticArrays.similar_type(p::Type{P}, ::Type{R}, size::Size{(3,)}) where {P<:Point3D, R<:Real} = Point3D{R}\n",
    "\n",
    "x = rand(3, 1)\n",
    "fx = Point3D(x)\n",
    "\n",
    "cfg = ForwardDiff.GradientConfig(nothing, x)\n",
    "fcfg = ForwardDiff.GradientConfig(nothing, fx)\n",
    "\n",
    "actual = ForwardDiff.gradient(prod, x)\n",
    "@show ForwardDiff.gradient(prod, fx) == actual[:]\n",
    "@show ForwardDiff.gradient(prod, fx, cfg) == actual[:]\n",
    "@show ForwardDiff.gradient(prod, fx, fcfg) == actual[:]\n",
    "\n",
    "out = similar(x)\n",
    "ForwardDiff.gradient!(out, prod, fx)\n",
    "@show out == actual\n",
    "\n",
    "out = similar(x)\n",
    "ForwardDiff.gradient!(out, prod, fx, cfg)\n",
    "@show out == actual\n",
    "\n",
    "out = similar(x)\n",
    "ForwardDiff.gradient!(out, prod, fx, fcfg)\n",
    "@show out == actual\n",
    "\n",
    "result = DiffResults.GradientResult(x)\n",
    "result = ForwardDiff.gradient!(result, prod, x)\n",
    "\n",
    "result1 = DiffResults.GradientResult(x)\n",
    "result2 = DiffResults.GradientResult(x)\n",
    "result3 = DiffResults.GradientResult(x)\n",
    "result1 = ForwardDiff.gradient!(result1, prod, fx)\n",
    "result2 = ForwardDiff.gradient!(result2, prod, fx, cfg)\n",
    "result3 = ForwardDiff.gradient!(result3, prod, fx, fcfg)\n",
    "@show DiffResults.value(result1) == DiffResults.value(result)\n",
    "@show DiffResults.value(result2) == DiffResults.value(result)\n",
    "@show DiffResults.value(result3) == DiffResults.value(result)\n",
    "@show DiffResults.gradient(result1) == DiffResults.gradient(result)\n",
    "@show DiffResults.gradient(result2) == DiffResults.gradient(result)\n",
    "@show DiffResults.gradient(result3) == DiffResults.gradient(result)\n",
    "\n",
    "fresult1 = DiffResults.GradientResult(fx)\n",
    "fresult2 = DiffResults.GradientResult(fx)\n",
    "fresult3 = DiffResults.GradientResult(fx)\n",
    "fresult1 = ForwardDiff.gradient!(fresult1, prod, fx)\n",
    "fresult2 = ForwardDiff.gradient!(fresult2, prod, fx, cfg)\n",
    "fresult3 = ForwardDiff.gradient!(fresult3, prod, fx, fcfg)\n",
    "@show DiffResults.value(fresult1) == DiffResults.value(result)\n",
    "@show DiffResults.value(fresult2) == DiffResults.value(result)\n",
    "@show DiffResults.value(fresult3) == DiffResults.value(result)\n",
    "@show DiffResults.gradient(fresult1) == DiffResults.gradient(result)[:]\n",
    "@show DiffResults.gradient(fresult2) == DiffResults.gradient(result)[:]\n",
    "@show DiffResults.gradient(fresult3) == DiffResults.gradient(result)[:]"
   ]
  },
  {
   "cell_type": "markdown",
   "metadata": {},
   "source": [
    "# Hessian Tests for Static Arrays"
   ]
  },
  {
   "cell_type": "code",
   "execution_count": 39,
   "metadata": {},
   "outputs": [
    {
     "name": "stdout",
     "output_type": "stream",
     "text": [
      "ForwardDiff.hessian(prod, sx) == actual = true\n",
      "ForwardDiff.hessian(prod, sx, cfg) == actual = true\n",
      "ForwardDiff.hessian(prod, sx, scfg) == actual = true\n",
      "out == actual = true\n",
      "out == actual = true\n",
      "out == actual = true\n",
      "DiffResults.value(result1) == DiffResults.value(result) = true\n",
      "DiffResults.value(result2) == DiffResults.value(result) = true\n",
      "DiffResults.value(result3) == DiffResults.value(result) = true\n",
      "DiffResults.gradient(result1) == DiffResults.gradient(result) = true\n",
      "DiffResults.gradient(result2) == DiffResults.gradient(result) = true\n",
      "DiffResults.gradient(result3) == DiffResults.gradient(result) = true\n",
      "DiffResults.hessian(result1) == DiffResults.hessian(result) = true\n",
      "DiffResults.hessian(result2) == DiffResults.hessian(result) = true\n",
      "DiffResults.hessian(result3) == DiffResults.hessian(result) = true\n",
      "DiffResults.value(sresult1) == DiffResults.value(result) = true\n",
      "DiffResults.value(sresult2) == DiffResults.value(result) = true\n",
      "DiffResults.value(sresult3) == DiffResults.value(result) = true\n",
      "DiffResults.gradient(sresult1) == DiffResults.gradient(result) = true\n",
      "DiffResults.gradient(sresult2) == DiffResults.gradient(result) = true\n",
      "DiffResults.gradient(sresult3) == DiffResults.gradient(result) = true\n",
      "DiffResults.hessian(sresult1) == DiffResults.hessian(result) = true\n",
      "DiffResults.hessian(sresult2) == DiffResults.hessian(result) = true\n",
      "DiffResults.hessian(sresult3) == DiffResults.hessian(result) = true\n"
     ]
    },
    {
     "data": {
      "text/plain": [
       "true"
      ]
     },
     "execution_count": 39,
     "metadata": {},
     "output_type": "execute_result"
    }
   ],
   "source": [
    "x = rand(3, 3)\n",
    "sx = StaticArrays.SArray{Tuple{3,3}}(x)\n",
    "\n",
    "cfg = ForwardDiff.HessianConfig(nothing, x)\n",
    "scfg = ForwardDiff.HessianConfig(nothing, sx)\n",
    "\n",
    "actual = ForwardDiff.hessian(prod, x)\n",
    "@show ForwardDiff.hessian(prod, sx) == actual\n",
    "@show ForwardDiff.hessian(prod, sx, cfg) == actual\n",
    "@show ForwardDiff.hessian(prod, sx, scfg) == actual\n",
    "\n",
    "out = similar(x, 9, 9)\n",
    "ForwardDiff.hessian!(out, prod, sx)\n",
    "@show out == actual\n",
    "\n",
    "out = similar(x, 9, 9)\n",
    "ForwardDiff.hessian!(out, prod, sx, cfg)\n",
    "@show out == actual\n",
    "\n",
    "out = similar(x, 9, 9)\n",
    "ForwardDiff.hessian!(out, prod, sx, scfg)\n",
    "@show out == actual\n",
    "\n",
    "result = DiffResults.HessianResult(x)\n",
    "result = ForwardDiff.hessian!(result, prod, x)\n",
    "\n",
    "result1 = DiffResults.HessianResult(x)\n",
    "result2 = DiffResults.HessianResult(x)\n",
    "result3 = DiffResults.HessianResult(x)\n",
    "result1 = ForwardDiff.hessian!(result1, prod, sx)\n",
    "result2 = ForwardDiff.hessian!(result2, prod, sx, ForwardDiff.HessianConfig(prod, result2, x, ForwardDiff.Chunk(x), nothing))\n",
    "result3 = ForwardDiff.hessian!(result3, prod, sx, ForwardDiff.HessianConfig(prod, result3, x, ForwardDiff.Chunk(x), nothing))\n",
    "@show DiffResults.value(result1) == DiffResults.value(result)\n",
    "@show DiffResults.value(result2) == DiffResults.value(result)\n",
    "@show DiffResults.value(result3) == DiffResults.value(result)\n",
    "@show DiffResults.gradient(result1) == DiffResults.gradient(result)\n",
    "@show DiffResults.gradient(result2) == DiffResults.gradient(result)\n",
    "@show DiffResults.gradient(result3) == DiffResults.gradient(result)\n",
    "@show DiffResults.hessian(result1) == DiffResults.hessian(result)\n",
    "@show DiffResults.hessian(result2) == DiffResults.hessian(result)\n",
    "@show DiffResults.hessian(result3) == DiffResults.hessian(result)\n",
    "\n",
    "sresult1 = DiffResults.HessianResult(sx)\n",
    "sresult2 = DiffResults.HessianResult(sx)\n",
    "sresult3 = DiffResults.HessianResult(sx)\n",
    "sresult1 = ForwardDiff.hessian!(sresult1, prod, sx)\n",
    "sresult2 = ForwardDiff.hessian!(sresult2, prod, sx, ForwardDiff.HessianConfig(prod, sresult2, x, ForwardDiff.Chunk(x), nothing))\n",
    "sresult3 = ForwardDiff.hessian!(sresult3, prod, sx, ForwardDiff.HessianConfig(prod, sresult3, x, ForwardDiff.Chunk(x), nothing))\n",
    "@show DiffResults.value(sresult1) == DiffResults.value(result)\n",
    "@show DiffResults.value(sresult2) == DiffResults.value(result)\n",
    "@show DiffResults.value(sresult3) == DiffResults.value(result)\n",
    "@show DiffResults.gradient(sresult1) == DiffResults.gradient(result)\n",
    "@show DiffResults.gradient(sresult2) == DiffResults.gradient(result)\n",
    "@show DiffResults.gradient(sresult3) == DiffResults.gradient(result)\n",
    "@show DiffResults.hessian(sresult1) == DiffResults.hessian(result)\n",
    "@show DiffResults.hessian(sresult2) == DiffResults.hessian(result)\n",
    "@show DiffResults.hessian(sresult3) == DiffResults.hessian(result)"
   ]
  },
  {
   "cell_type": "markdown",
   "metadata": {},
   "source": [
    "# Hessian tests for field vector"
   ]
  },
  {
   "cell_type": "code",
   "execution_count": 40,
   "metadata": {},
   "outputs": [
    {
     "name": "stdout",
     "output_type": "stream",
     "text": [
      "  ...testing specialized FieldVector codepaths\n"
     ]
    },
    {
     "ename": "LoadError",
     "evalue": "\u001b[91mUndefVarError: @test not defined\u001b[39m",
     "output_type": "error",
     "traceback": [
      "\u001b[91mUndefVarError: @test not defined\u001b[39m",
      "",
      "Stacktrace:",
      " [1] \u001b[1minclude_string\u001b[22m\u001b[22m\u001b[1m(\u001b[22m\u001b[22m::String, ::String\u001b[1m)\u001b[22m\u001b[22m at \u001b[1m./loading.jl:522\u001b[22m\u001b[22m"
     ]
    }
   ],
   "source": [
    "println(\"  ...testing specialized FieldVector codepaths\")\n",
    "\n",
    "struct Point3D{R<:Real} <: FieldVector{3,R}\n",
    "    x::R\n",
    "    y::R\n",
    "    z::R\n",
    "end\n",
    "StaticArrays.similar_type(p::Type{P}, ::Type{R}, size::Size{(3,)}) where {P<:Point3D, R<:Real} = Point3D{R}\n",
    "\n",
    "x = rand(3, 1)\n",
    "fx = Point3D(x)\n",
    "\n",
    "cfg = ForwardDiff.HessianConfig(nothing, x)\n",
    "fcfg = ForwardDiff.HessianConfig(nothing, fx)\n",
    "\n",
    "actual = ForwardDiff.hessian(prod, x)\n",
    "@test ForwardDiff.hessian(prod, fx) == actual\n",
    "@test ForwardDiff.hessian(prod, fx, cfg) == actual\n",
    "@test ForwardDiff.hessian(prod, fx, fcfg) == actual\n",
    "\n",
    "out = similar(x, length(x), length(x))\n",
    "ForwardDiff.hessian!(out, prod, fx)\n",
    "@test out == actual\n",
    "\n",
    "out = similar(x, length(x), length(x))\n",
    "ForwardDiff.hessian!(out, prod, fx, cfg)\n",
    "@test out == actual\n",
    "\n",
    "out = similar(x, length(x), length(x))\n",
    "ForwardDiff.hessian!(out, prod, fx, fcfg)\n",
    "@test out == actual\n",
    "\n",
    "result = DiffResults.HessianResult(x)\n",
    "result = ForwardDiff.hessian!(result, prod, x)\n",
    "\n",
    "result1 = DiffResults.HessianResult(x)\n",
    "result2 = DiffResults.HessianResult(x)\n",
    "result3 = DiffResults.HessianResult(x)\n",
    "result1 = ForwardDiff.hessian!(result1, prod, fx)\n",
    "result2 = ForwardDiff.hessian!(result2, prod, fx, ForwardDiff.HessianConfig(prod, result2, x, ForwardDiff.Chunk(x), nothing))\n",
    "result3 = ForwardDiff.hessian!(result3, prod, fx, ForwardDiff.HessianConfig(prod, result3, x, ForwardDiff.Chunk(x), nothing))\n",
    "@test DiffResults.value(result1) == DiffResults.value(result)\n",
    "@test DiffResults.value(result2) == DiffResults.value(result)\n",
    "@test DiffResults.value(result3) == DiffResults.value(result)\n",
    "@test DiffResults.gradient(result1) == DiffResults.gradient(result)\n",
    "@test DiffResults.gradient(result2) == DiffResults.gradient(result)\n",
    "@test DiffResults.gradient(result3) == DiffResults.gradient(result)\n",
    "@test DiffResults.hessian(result1) == DiffResults.hessian(result)\n",
    "@test DiffResults.hessian(result2) == DiffResults.hessian(result)\n",
    "@test DiffResults.hessian(result3) == DiffResults.hessian(result)\n",
    "\n",
    "fresult1 = DiffResults.HessianResult(fx)\n",
    "fresult2 = DiffResults.HessianResult(fx)\n",
    "fresult3 = DiffResults.HessianResult(fx)\n",
    "fresult1 = ForwardDiff.hessian!(fresult1, prod, fx)\n",
    "fresult2 = ForwardDiff.hessian!(fresult2, prod, fx, ForwardDiff.HessianConfig(prod, fresult2, x, ForwardDiff.Chunk(x), nothing))\n",
    "fresult3 = ForwardDiff.hessian!(fresult3, prod, fx, ForwardDiff.HessianConfig(prod, fresult3, x, ForwardDiff.Chunk(x), nothing))\n",
    "@test DiffResults.value(fresult1) == DiffResults.value(result)\n",
    "@test DiffResults.value(fresult2) == DiffResults.value(result)\n",
    "@test DiffResults.value(fresult3) == DiffResults.value(result)\n",
    "@test DiffResults.gradient(fresult1) == DiffResults.gradient(result)[:]\n",
    "@test DiffResults.gradient(fresult2) == DiffResults.gradient(result)[:]\n",
    "@test DiffResults.gradient(fresult3) == DiffResults.gradient(result)[:]\n",
    "@test DiffResults.hessian(fresult1) == DiffResults.hessian(result)\n",
    "@test DiffResults.hessian(fresult2) == DiffResults.hessian(result)\n",
    "@test DiffResults.hessian(fresult3) == DiffResults.hessian(result)"
   ]
  },
  {
   "cell_type": "markdown",
   "metadata": {},
   "source": [
    "# Jacobian Tests for SArray"
   ]
  },
  {
   "cell_type": "code",
   "execution_count": 41,
   "metadata": {},
   "outputs": [
    {
     "name": "stdout",
     "output_type": "stream",
     "text": [
      "  ...testing specialized FieldVector codepaths\n",
      "ForwardDiff.jacobian(diff, sx) == actual = true\n",
      "ForwardDiff.jacobian(diff, sx, cfg) == actual = true\n",
      "ForwardDiff.jacobian(diff, sx, scfg) == actual = true\n",
      "out == actual = true\n",
      "out == actual = true\n",
      "out == actual = true\n",
      "DiffResults.value(result1) == DiffResults.value(result) = true\n",
      "DiffResults.value(result2) == DiffResults.value(result) = true\n",
      "DiffResults.value(result3) == DiffResults.value(result) = true\n",
      "DiffResults.jacobian(result1) == DiffResults.jacobian(result) = true\n",
      "DiffResults.jacobian(result2) == DiffResults.jacobian(result) = true\n",
      "DiffResults.jacobian(result3) == DiffResults.jacobian(result) = true\n",
      "DiffResults.value(sresult1) == DiffResults.value(result) = true\n",
      "DiffResults.value(sresult2) == DiffResults.value(result) = true\n",
      "DiffResults.value(sresult3) == DiffResults.value(result) = true\n",
      "DiffResults.jacobian(sresult1) == DiffResults.jacobian(result) = true\n",
      "DiffResults.jacobian(sresult2) == DiffResults.jacobian(result) = true\n",
      "DiffResults.jacobian(sresult3) == DiffResults.jacobian(result) = true\n"
     ]
    },
    {
     "data": {
      "text/plain": [
       "true"
      ]
     },
     "execution_count": 41,
     "metadata": {},
     "output_type": "execute_result"
    }
   ],
   "source": [
    "println(\"  ...testing specialized FieldVector codepaths\")\n",
    "\n",
    "x = rand(3, 3)\n",
    "sx = StaticArrays.SArray{Tuple{3,3}}(x)\n",
    "\n",
    "cfg = ForwardDiff.JacobianConfig(nothing, x)\n",
    "scfg = ForwardDiff.JacobianConfig(nothing, sx)\n",
    "\n",
    "actual = ForwardDiff.jacobian(diff, x)\n",
    "@show ForwardDiff.jacobian(diff, sx) == actual\n",
    "@show ForwardDiff.jacobian(diff, sx, cfg) == actual\n",
    "@show ForwardDiff.jacobian(diff, sx, scfg) == actual\n",
    "\n",
    "out = similar(x, 6, 9)\n",
    "ForwardDiff.jacobian!(out, diff, sx)\n",
    "@show out == actual\n",
    "\n",
    "out = similar(x, 6, 9)\n",
    "ForwardDiff.jacobian!(out, diff, sx, cfg)\n",
    "@show out == actual\n",
    "\n",
    "out = similar(x, 6, 9)\n",
    "ForwardDiff.jacobian!(out, diff, sx, scfg)\n",
    "@show out == actual\n",
    "\n",
    "result = DiffResults.JacobianResult(similar(x, 6), x)\n",
    "result = ForwardDiff.jacobian!(result, diff, x)\n",
    "\n",
    "result1 = DiffResults.JacobianResult(similar(sx, 6), sx)\n",
    "result2 = DiffResults.JacobianResult(similar(sx, 6), sx)\n",
    "result3 = DiffResults.JacobianResult(similar(sx, 6), sx)\n",
    "result1 = ForwardDiff.jacobian!(result1, diff, sx)\n",
    "result2 = ForwardDiff.jacobian!(result2, diff, sx, cfg)\n",
    "result3 = ForwardDiff.jacobian!(result3, diff, sx, scfg)\n",
    "@show DiffResults.value(result1) == DiffResults.value(result)\n",
    "@show DiffResults.value(result2) == DiffResults.value(result)\n",
    "@show DiffResults.value(result3) == DiffResults.value(result)\n",
    "@show DiffResults.jacobian(result1) == DiffResults.jacobian(result)\n",
    "@show DiffResults.jacobian(result2) == DiffResults.jacobian(result)\n",
    "@show DiffResults.jacobian(result3) == DiffResults.jacobian(result)\n",
    "\n",
    "sy = @SVector fill(zero(eltype(sx)), 6)\n",
    "sresult1 = DiffResults.JacobianResult(sy, sx)\n",
    "sresult2 = DiffResults.JacobianResult(sy, sx)\n",
    "sresult3 = DiffResults.JacobianResult(sy, sx)\n",
    "sresult1 = ForwardDiff.jacobian!(sresult1, diff, sx)\n",
    "sresult2 = ForwardDiff.jacobian!(sresult2, diff, sx, cfg)\n",
    "sresult3 = ForwardDiff.jacobian!(sresult3, diff, sx, scfg)\n",
    "@show DiffResults.value(sresult1) == DiffResults.value(result)\n",
    "@show DiffResults.value(sresult2) == DiffResults.value(result)\n",
    "@show DiffResults.value(sresult3) == DiffResults.value(result)\n",
    "@show DiffResults.jacobian(sresult1) == DiffResults.jacobian(result)\n",
    "@show DiffResults.jacobian(sresult2) == DiffResults.jacobian(result)\n",
    "@show DiffResults.jacobian(sresult3) == DiffResults.jacobian(result)"
   ]
  },
  {
   "cell_type": "code",
   "execution_count": 42,
   "metadata": {},
   "outputs": [
    {
     "name": "stdout",
     "output_type": "stream",
     "text": [
      "  ...testing specialized FieldVector codepaths\n"
     ]
    },
    {
     "ename": "LoadError",
     "evalue": "\u001b[91mUndefVarError: @test not defined\u001b[39m",
     "output_type": "error",
     "traceback": [
      "\u001b[91mUndefVarError: @test not defined\u001b[39m",
      "",
      "Stacktrace:",
      " [1] \u001b[1minclude_string\u001b[22m\u001b[22m\u001b[1m(\u001b[22m\u001b[22m::String, ::String\u001b[1m)\u001b[22m\u001b[22m at \u001b[1m./loading.jl:522\u001b[22m\u001b[22m"
     ]
    }
   ],
   "source": [
    "println(\"  ...testing specialized FieldVector codepaths\")\n",
    "\n",
    "struct Point3D{R<:Real} <: FieldVector{3,R}\n",
    "    x::R\n",
    "    y::R\n",
    "    z::R\n",
    "end\n",
    "StaticArrays.similar_type(p::Type{P}, ::Type{R}, size::Size{(3,)}) where {P<:Point3D, R<:Real} = Point3D{R}\n",
    "\n",
    "x = rand(3, 1)\n",
    "fx = Point3D(x)\n",
    "\n",
    "cfg = ForwardDiff.JacobianConfig(nothing, x)\n",
    "fcfg = ForwardDiff.JacobianConfig(nothing, fx)\n",
    "\n",
    "actual = ForwardDiff.jacobian(diff, x)\n",
    "@test ForwardDiff.jacobian(diff, fx) == actual\n",
    "@test ForwardDiff.jacobian(diff, fx, cfg) == actual\n",
    "@test ForwardDiff.jacobian(diff, fx, fcfg) == actual\n",
    "\n",
    "out = similar(x, 2, 3)\n",
    "ForwardDiff.jacobian!(out, diff, fx)\n",
    "@test out == actual\n",
    "\n",
    "out = similar(x, 2, 3)\n",
    "ForwardDiff.jacobian!(out, diff, fx, cfg)\n",
    "@test out == actual\n",
    "\n",
    "out = similar(x, 2, 3)\n",
    "ForwardDiff.jacobian!(out, diff, fx, fcfg)\n",
    "@test out == actual\n",
    "\n",
    "result = DiffResults.JacobianResult(similar(x, 2), x)\n",
    "result = ForwardDiff.jacobian!(result, diff, x)\n",
    "\n",
    "result1 = DiffResults.JacobianResult(similar(fx, 2), fx)\n",
    "result2 = DiffResults.JacobianResult(similar(fx, 2), fx)\n",
    "result3 = DiffResults.JacobianResult(similar(fx, 2), fx)\n",
    "result1 = ForwardDiff.jacobian!(result1, diff, fx)\n",
    "result2 = ForwardDiff.jacobian!(result2, diff, fx, cfg)\n",
    "result3 = ForwardDiff.jacobian!(result3, diff, fx, fcfg)\n",
    "@test DiffResults.value(result1) == DiffResults.value(result)\n",
    "@test DiffResults.value(result2) == DiffResults.value(result)\n",
    "@test DiffResults.value(result3) == DiffResults.value(result)\n",
    "@test DiffResults.jacobian(result1) == DiffResults.jacobian(result)\n",
    "@test DiffResults.jacobian(result2) == DiffResults.jacobian(result)\n",
    "@test DiffResults.jacobian(result3) == DiffResults.jacobian(result)\n",
    "\n",
    "sy = @SVector fill(zero(eltype(fx)), 2)\n",
    "fresult1 = DiffResults.JacobianResult(sy, fx)\n",
    "fresult2 = DiffResults.JacobianResult(sy, fx)\n",
    "fresult3 = DiffResults.JacobianResult(sy, fx)\n",
    "fresult1 = ForwardDiff.jacobian!(fresult1, diff, fx)\n",
    "fresult2 = ForwardDiff.jacobian!(fresult2, diff, fx, cfg)\n",
    "fresult3 = ForwardDiff.jacobian!(fresult3, diff, fx, fcfg)\n",
    "@test DiffResults.value(fresult1) == DiffResults.value(result)\n",
    "@test DiffResults.value(fresult2) == DiffResults.value(result)\n",
    "@test DiffResults.value(fresult3) == DiffResults.value(result)\n",
    "@test DiffResults.jacobian(fresult1) == DiffResults.jacobian(result)\n",
    "@test DiffResults.jacobian(fresult2) == DiffResults.jacobian(result)\n",
    "@test DiffResults.jacobian(fresult3) == DiffResults.jacobian(result)"
   ]
  },
  {
   "cell_type": "code",
   "execution_count": null,
   "metadata": {
    "collapsed": true
   },
   "outputs": [],
   "source": []
  }
 ],
 "metadata": {
  "kernelspec": {
   "display_name": "Julia 0.6.1",
   "language": "julia",
   "name": "julia-0.6"
  },
  "language_info": {
   "file_extension": ".jl",
   "mimetype": "application/julia",
   "name": "julia",
   "version": "0.6.1"
  }
 },
 "nbformat": 4,
 "nbformat_minor": 2
}
